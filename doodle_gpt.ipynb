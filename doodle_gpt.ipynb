{
 "cells": [
  {
   "cell_type": "code",
   "execution_count": 15,
   "id": "2befcc52",
   "metadata": {},
   "outputs": [],
   "source": [
    "import numpy as np\n",
    "import os\n",
    "import tensorflow as tf\n",
    "from sklearn.metrics import accuracy_score\n",
    "from tensorflow.keras.models import Sequential\n",
    "from tensorflow.keras.layers import Dense, Dropout, Input\n",
    "from tensorflow.keras import regularizers\n",
    "from tensorflow.keras.callbacks import EarlyStopping, ReduceLROnPlateau\n",
    "from sklearn.model_selection import train_test_split"
   ]
  },
  {
   "cell_type": "code",
   "execution_count": 16,
   "id": "b633dbe3",
   "metadata": {},
   "outputs": [],
   "source": [
    "# Load Data\n",
    "data_dir = './data/'\n",
    "class_names = [\"apple\", \"bat\", \"circle\", \"clock\", \"cloud\",\n",
    "               \"crown\", \"diamond\", \"donut\", \"fish\",\n",
    "               \"hot_dog\", \"lightning\", \"mountain\", \"skull\",\n",
    "               \"smiley_face\", \"square\", \"star\", \"sun\", \"t-shirt\", \"tree\"]"
   ]
  },
  {
   "cell_type": "code",
   "execution_count": 17,
   "id": "f82e7e3d",
   "metadata": {},
   "outputs": [],
   "source": [
    "X = []\n",
    "y = []\n",
    "\n",
    "# Append data one by one from each file in data folder to X and y\n",
    "for label, class_name in enumerate(class_names):\n",
    "    file_path = os.path.join(data_dir, f\"{class_name}.npy\")\n",
    "    data = np.load(file_path)  # shape: (30000, 784)\n",
    "\n",
    "    X.append(data)\n",
    "    y.append(np.full((data.shape[0],), label))"
   ]
  },
  {
   "cell_type": "code",
   "execution_count": 19,
   "id": "9bcb6ec7",
   "metadata": {},
   "outputs": [
    {
     "data": {
      "text/plain": [
       "(19, 30000, 784)"
      ]
     },
     "execution_count": 19,
     "metadata": {},
     "output_type": "execute_result"
    }
   ],
   "source": [
    "np.array(X).shape"
   ]
  },
  {
   "cell_type": "code",
   "execution_count": 20,
   "id": "88852739",
   "metadata": {},
   "outputs": [
    {
     "data": {
      "text/plain": [
       "(19, 30000)"
      ]
     },
     "execution_count": 20,
     "metadata": {},
     "output_type": "execute_result"
    }
   ],
   "source": [
    "np.array(y).shape"
   ]
  },
  {
   "cell_type": "code",
   "execution_count": 21,
   "id": "6de0ec15",
   "metadata": {},
   "outputs": [],
   "source": [
    "\n",
    "X = np.vstack(X)  # shape: (570000, 784)\n",
    "y = np.hstack(y)  # shape: (570000,)"
   ]
  },
  {
   "cell_type": "code",
   "execution_count": null,
   "id": "9a31f665",
   "metadata": {},
   "outputs": [],
   "source": [
    "# ✅ Max Normalization for image pixel data\n",
    "X = X.astype('float32') / 255.0  # max value of a pixel is 255"
   ]
  },
  {
   "cell_type": "code",
   "execution_count": 25,
   "id": "0a293cb4",
   "metadata": {},
   "outputs": [],
   "source": [
    "X_train, X_, y_train, y_ = train_test_split(X, y, test_size=0.2, random_state=42, stratify=y)\n",
    "X_cv, X_test, y_cv, y_test = train_test_split(X_, y_, test_size=0.5, random_state=42, stratify=y_)"
   ]
  },
  {
   "cell_type": "code",
   "execution_count": 27,
   "id": "835c45d4",
   "metadata": {},
   "outputs": [],
   "source": [
    "# ✅ Improved and Simplified Model\n",
    "model = Sequential([\n",
    "    Input(shape=(784,)),\n",
    "    Dense(512, activation='relu', kernel_regularizer=regularizers.l2(0.0001)),\n",
    "    Dropout(0.3),\n",
    "    Dense(256, activation='relu', kernel_regularizer=regularizers.l2(0.0001)),\n",
    "    Dropout(0.3),\n",
    "    Dense(128, activation='relu', kernel_regularizer=regularizers.l2(0.0001)),\n",
    "    Dropout(0.2),\n",
    "    Dense(19, activation='linear')  # logits\n",
    "])"
   ]
  },
  {
   "cell_type": "code",
   "execution_count": 28,
   "id": "9c91f3a7",
   "metadata": {},
   "outputs": [],
   "source": [
    "# Compile\n",
    "model.compile(\n",
    "    loss=tf.keras.losses.SparseCategoricalCrossentropy(from_logits=True),\n",
    "    optimizer=tf.keras.optimizers.Adam(learning_rate=0.001),\n",
    "    metrics=['accuracy']\n",
    ")"
   ]
  },
  {
   "cell_type": "markdown",
   "id": "57359e68",
   "metadata": {},
   "source": [
    "## Callbacks\n",
    "\n",
    "A callback is a function/object that runs at specific stages of model training — like at the end of each epoch, or when accuracy stops improving.\n",
    "\n",
    "1. `EarlyStopping(patience=5, restore_best_weights=True)` Monitors validation loss (by default).\n",
    "\n",
    "    If validation loss doesn't improve for 5 epochs (`patience=5`), it stops training early.\n",
    "\n",
    "    It also restores the best model weights seen during training if `restore_best_weights=True`.\n",
    "    \n",
    "\n",
    "2. `ReduceLROnPlateau(patience=3, factor=0.5)` Monitors validation loss (or another metric).\n",
    "\n",
    "    If the metric doesn’t improve for 3 epochs, it reduces the learning rate by 50%."
   ]
  },
  {
   "cell_type": "code",
   "execution_count": 29,
   "id": "77389ea4",
   "metadata": {},
   "outputs": [],
   "source": [
    "\n",
    "# ✅ Callbacks\n",
    "callbacks = [\n",
    "    EarlyStopping(patience=5, restore_best_weights=True),\n",
    "    ReduceLROnPlateau(patience=3, factor=0.5)\n",
    "]"
   ]
  },
  {
   "cell_type": "code",
   "execution_count": 32,
   "id": "92e2f153",
   "metadata": {},
   "outputs": [
    {
     "name": "stdout",
     "output_type": "stream",
     "text": [
      "Epoch 1/100\n",
      "\u001b[1m891/891\u001b[0m \u001b[32m━━━━━━━━━━━━━━━━━━━━\u001b[0m\u001b[37m\u001b[0m \u001b[1m13s\u001b[0m 14ms/step - accuracy: 0.8494 - loss: 0.6541 - val_accuracy: 0.8833 - val_loss: 0.5303 - learning_rate: 0.0010\n",
      "Epoch 2/100\n",
      "\u001b[1m891/891\u001b[0m \u001b[32m━━━━━━━━━━━━━━━━━━━━\u001b[0m\u001b[37m\u001b[0m \u001b[1m11s\u001b[0m 12ms/step - accuracy: 0.8669 - loss: 0.5920 - val_accuracy: 0.8931 - val_loss: 0.4985 - learning_rate: 0.0010\n",
      "Epoch 3/100\n",
      "\u001b[1m891/891\u001b[0m \u001b[32m━━━━━━━━━━━━━━━━━━━━\u001b[0m\u001b[37m\u001b[0m \u001b[1m11s\u001b[0m 13ms/step - accuracy: 0.8761 - loss: 0.5574 - val_accuracy: 0.8961 - val_loss: 0.4828 - learning_rate: 0.0010\n",
      "Epoch 4/100\n",
      "\u001b[1m891/891\u001b[0m \u001b[32m━━━━━━━━━━━━━━━━━━━━\u001b[0m\u001b[37m\u001b[0m \u001b[1m12s\u001b[0m 13ms/step - accuracy: 0.8816 - loss: 0.5374 - val_accuracy: 0.9006 - val_loss: 0.4693 - learning_rate: 0.0010\n",
      "Epoch 5/100\n",
      "\u001b[1m891/891\u001b[0m \u001b[32m━━━━━━━━━━━━━━━━━━━━\u001b[0m\u001b[37m\u001b[0m \u001b[1m11s\u001b[0m 13ms/step - accuracy: 0.8868 - loss: 0.5186 - val_accuracy: 0.9024 - val_loss: 0.4630 - learning_rate: 0.0010\n",
      "Epoch 6/100\n",
      "\u001b[1m891/891\u001b[0m \u001b[32m━━━━━━━━━━━━━━━━━━━━\u001b[0m\u001b[37m\u001b[0m \u001b[1m11s\u001b[0m 13ms/step - accuracy: 0.8880 - loss: 0.5137 - val_accuracy: 0.9042 - val_loss: 0.4585 - learning_rate: 0.0010\n",
      "Epoch 7/100\n",
      "\u001b[1m891/891\u001b[0m \u001b[32m━━━━━━━━━━━━━━━━━━━━\u001b[0m\u001b[37m\u001b[0m \u001b[1m11s\u001b[0m 13ms/step - accuracy: 0.8911 - loss: 0.5028 - val_accuracy: 0.9076 - val_loss: 0.4458 - learning_rate: 0.0010\n",
      "Epoch 8/100\n",
      "\u001b[1m891/891\u001b[0m \u001b[32m━━━━━━━━━━━━━━━━━━━━\u001b[0m\u001b[37m\u001b[0m \u001b[1m11s\u001b[0m 13ms/step - accuracy: 0.8931 - loss: 0.4965 - val_accuracy: 0.9052 - val_loss: 0.4553 - learning_rate: 0.0010\n",
      "Epoch 9/100\n",
      "\u001b[1m891/891\u001b[0m \u001b[32m━━━━━━━━━━━━━━━━━━━━\u001b[0m\u001b[37m\u001b[0m \u001b[1m11s\u001b[0m 13ms/step - accuracy: 0.8933 - loss: 0.4943 - val_accuracy: 0.9077 - val_loss: 0.4433 - learning_rate: 0.0010\n",
      "Epoch 10/100\n",
      "\u001b[1m891/891\u001b[0m \u001b[32m━━━━━━━━━━━━━━━━━━━━\u001b[0m\u001b[37m\u001b[0m \u001b[1m11s\u001b[0m 13ms/step - accuracy: 0.8959 - loss: 0.4894 - val_accuracy: 0.9076 - val_loss: 0.4440 - learning_rate: 0.0010\n",
      "Epoch 11/100\n",
      "\u001b[1m891/891\u001b[0m \u001b[32m━━━━━━━━━━━━━━━━━━━━\u001b[0m\u001b[37m\u001b[0m \u001b[1m12s\u001b[0m 13ms/step - accuracy: 0.8969 - loss: 0.4843 - val_accuracy: 0.9101 - val_loss: 0.4377 - learning_rate: 0.0010\n",
      "Epoch 12/100\n",
      "\u001b[1m891/891\u001b[0m \u001b[32m━━━━━━━━━━━━━━━━━━━━\u001b[0m\u001b[37m\u001b[0m \u001b[1m12s\u001b[0m 13ms/step - accuracy: 0.8966 - loss: 0.4853 - val_accuracy: 0.9109 - val_loss: 0.4344 - learning_rate: 0.0010\n",
      "Epoch 13/100\n",
      "\u001b[1m891/891\u001b[0m \u001b[32m━━━━━━━━━━━━━━━━━━━━\u001b[0m\u001b[37m\u001b[0m \u001b[1m12s\u001b[0m 13ms/step - accuracy: 0.8972 - loss: 0.4802 - val_accuracy: 0.9119 - val_loss: 0.4331 - learning_rate: 0.0010\n",
      "Epoch 14/100\n",
      "\u001b[1m891/891\u001b[0m \u001b[32m━━━━━━━━━━━━━━━━━━━━\u001b[0m\u001b[37m\u001b[0m \u001b[1m11s\u001b[0m 13ms/step - accuracy: 0.8988 - loss: 0.4774 - val_accuracy: 0.9119 - val_loss: 0.4371 - learning_rate: 0.0010\n",
      "Epoch 15/100\n",
      "\u001b[1m891/891\u001b[0m \u001b[32m━━━━━━━━━━━━━━━━━━━━\u001b[0m\u001b[37m\u001b[0m \u001b[1m11s\u001b[0m 13ms/step - accuracy: 0.8996 - loss: 0.4760 - val_accuracy: 0.9135 - val_loss: 0.4301 - learning_rate: 0.0010\n",
      "Epoch 16/100\n",
      "\u001b[1m891/891\u001b[0m \u001b[32m━━━━━━━━━━━━━━━━━━━━\u001b[0m\u001b[37m\u001b[0m \u001b[1m11s\u001b[0m 13ms/step - accuracy: 0.9002 - loss: 0.4724 - val_accuracy: 0.9135 - val_loss: 0.4300 - learning_rate: 0.0010\n",
      "Epoch 17/100\n",
      "\u001b[1m891/891\u001b[0m \u001b[32m━━━━━━━━━━━━━━━━━━━━\u001b[0m\u001b[37m\u001b[0m \u001b[1m11s\u001b[0m 13ms/step - accuracy: 0.9014 - loss: 0.4700 - val_accuracy: 0.9150 - val_loss: 0.4264 - learning_rate: 0.0010\n",
      "Epoch 18/100\n",
      "\u001b[1m891/891\u001b[0m \u001b[32m━━━━━━━━━━━━━━━━━━━━\u001b[0m\u001b[37m\u001b[0m \u001b[1m11s\u001b[0m 13ms/step - accuracy: 0.9015 - loss: 0.4715 - val_accuracy: 0.9140 - val_loss: 0.4261 - learning_rate: 0.0010\n",
      "Epoch 19/100\n",
      "\u001b[1m891/891\u001b[0m \u001b[32m━━━━━━━━━━━━━━━━━━━━\u001b[0m\u001b[37m\u001b[0m \u001b[1m12s\u001b[0m 14ms/step - accuracy: 0.9010 - loss: 0.4709 - val_accuracy: 0.9137 - val_loss: 0.4284 - learning_rate: 0.0010\n",
      "Epoch 20/100\n",
      "\u001b[1m891/891\u001b[0m \u001b[32m━━━━━━━━━━━━━━━━━━━━\u001b[0m\u001b[37m\u001b[0m \u001b[1m13s\u001b[0m 14ms/step - accuracy: 0.9017 - loss: 0.4679 - val_accuracy: 0.9136 - val_loss: 0.4306 - learning_rate: 0.0010\n",
      "Epoch 21/100\n",
      "\u001b[1m891/891\u001b[0m \u001b[32m━━━━━━━━━━━━━━━━━━━━\u001b[0m\u001b[37m\u001b[0m \u001b[1m13s\u001b[0m 14ms/step - accuracy: 0.9023 - loss: 0.4674 - val_accuracy: 0.9132 - val_loss: 0.4283 - learning_rate: 0.0010\n",
      "Epoch 22/100\n",
      "\u001b[1m891/891\u001b[0m \u001b[32m━━━━━━━━━━━━━━━━━━━━\u001b[0m\u001b[37m\u001b[0m \u001b[1m13s\u001b[0m 14ms/step - accuracy: 0.9114 - loss: 0.4329 - val_accuracy: 0.9199 - val_loss: 0.3972 - learning_rate: 5.0000e-04\n",
      "Epoch 23/100\n",
      "\u001b[1m891/891\u001b[0m \u001b[32m━━━━━━━━━━━━━━━━━━━━\u001b[0m\u001b[37m\u001b[0m \u001b[1m13s\u001b[0m 14ms/step - accuracy: 0.9142 - loss: 0.4131 - val_accuracy: 0.9218 - val_loss: 0.3856 - learning_rate: 5.0000e-04\n",
      "Epoch 24/100\n",
      "\u001b[1m891/891\u001b[0m \u001b[32m━━━━━━━━━━━━━━━━━━━━\u001b[0m\u001b[37m\u001b[0m \u001b[1m13s\u001b[0m 14ms/step - accuracy: 0.9150 - loss: 0.4037 - val_accuracy: 0.9230 - val_loss: 0.3813 - learning_rate: 5.0000e-04\n",
      "Epoch 25/100\n",
      "\u001b[1m891/891\u001b[0m \u001b[32m━━━━━━━━━━━━━━━━━━━━\u001b[0m\u001b[37m\u001b[0m \u001b[1m12s\u001b[0m 14ms/step - accuracy: 0.9167 - loss: 0.3974 - val_accuracy: 0.9220 - val_loss: 0.3806 - learning_rate: 5.0000e-04\n",
      "Epoch 26/100\n",
      "\u001b[1m891/891\u001b[0m \u001b[32m━━━━━━━━━━━━━━━━━━━━\u001b[0m\u001b[37m\u001b[0m \u001b[1m12s\u001b[0m 14ms/step - accuracy: 0.9163 - loss: 0.3934 - val_accuracy: 0.9209 - val_loss: 0.3803 - learning_rate: 5.0000e-04\n",
      "Epoch 27/100\n",
      "\u001b[1m891/891\u001b[0m \u001b[32m━━━━━━━━━━━━━━━━━━━━\u001b[0m\u001b[37m\u001b[0m \u001b[1m12s\u001b[0m 14ms/step - accuracy: 0.9162 - loss: 0.3931 - val_accuracy: 0.9221 - val_loss: 0.3759 - learning_rate: 5.0000e-04\n",
      "Epoch 28/100\n",
      "\u001b[1m891/891\u001b[0m \u001b[32m━━━━━━━━━━━━━━━━━━━━\u001b[0m\u001b[37m\u001b[0m \u001b[1m12s\u001b[0m 14ms/step - accuracy: 0.9170 - loss: 0.3878 - val_accuracy: 0.9229 - val_loss: 0.3732 - learning_rate: 5.0000e-04\n",
      "Epoch 29/100\n",
      "\u001b[1m891/891\u001b[0m \u001b[32m━━━━━━━━━━━━━━━━━━━━\u001b[0m\u001b[37m\u001b[0m \u001b[1m12s\u001b[0m 14ms/step - accuracy: 0.9174 - loss: 0.3866 - val_accuracy: 0.9218 - val_loss: 0.3736 - learning_rate: 5.0000e-04\n",
      "Epoch 30/100\n",
      "\u001b[1m891/891\u001b[0m \u001b[32m━━━━━━━━━━━━━━━━━━━━\u001b[0m\u001b[37m\u001b[0m \u001b[1m12s\u001b[0m 14ms/step - accuracy: 0.9180 - loss: 0.3844 - val_accuracy: 0.9230 - val_loss: 0.3698 - learning_rate: 5.0000e-04\n",
      "Epoch 31/100\n",
      "\u001b[1m891/891\u001b[0m \u001b[32m━━━━━━━━━━━━━━━━━━━━\u001b[0m\u001b[37m\u001b[0m \u001b[1m12s\u001b[0m 14ms/step - accuracy: 0.9187 - loss: 0.3799 - val_accuracy: 0.9218 - val_loss: 0.3712 - learning_rate: 5.0000e-04\n",
      "Epoch 32/100\n",
      "\u001b[1m891/891\u001b[0m \u001b[32m━━━━━━━━━━━━━━━━━━━━\u001b[0m\u001b[37m\u001b[0m \u001b[1m13s\u001b[0m 14ms/step - accuracy: 0.9180 - loss: 0.3804 - val_accuracy: 0.9221 - val_loss: 0.3728 - learning_rate: 5.0000e-04\n",
      "Epoch 33/100\n",
      "\u001b[1m891/891\u001b[0m \u001b[32m━━━━━━━━━━━━━━━━━━━━\u001b[0m\u001b[37m\u001b[0m \u001b[1m12s\u001b[0m 14ms/step - accuracy: 0.9196 - loss: 0.3763 - val_accuracy: 0.9221 - val_loss: 0.3697 - learning_rate: 5.0000e-04\n",
      "Epoch 34/100\n",
      "\u001b[1m891/891\u001b[0m \u001b[32m━━━━━━━━━━━━━━━━━━━━\u001b[0m\u001b[37m\u001b[0m \u001b[1m13s\u001b[0m 14ms/step - accuracy: 0.9185 - loss: 0.3783 - val_accuracy: 0.9242 - val_loss: 0.3660 - learning_rate: 5.0000e-04\n",
      "Epoch 35/100\n",
      "\u001b[1m891/891\u001b[0m \u001b[32m━━━━━━━━━━━━━━━━━━━━\u001b[0m\u001b[37m\u001b[0m \u001b[1m13s\u001b[0m 14ms/step - accuracy: 0.9185 - loss: 0.3784 - val_accuracy: 0.9236 - val_loss: 0.3643 - learning_rate: 5.0000e-04\n",
      "Epoch 36/100\n",
      "\u001b[1m891/891\u001b[0m \u001b[32m━━━━━━━━━━━━━━━━━━━━\u001b[0m\u001b[37m\u001b[0m \u001b[1m13s\u001b[0m 14ms/step - accuracy: 0.9202 - loss: 0.3717 - val_accuracy: 0.9228 - val_loss: 0.3694 - learning_rate: 5.0000e-04\n",
      "Epoch 37/100\n",
      "\u001b[1m891/891\u001b[0m \u001b[32m━━━━━━━━━━━━━━━━━━━━\u001b[0m\u001b[37m\u001b[0m \u001b[1m13s\u001b[0m 15ms/step - accuracy: 0.9190 - loss: 0.3761 - val_accuracy: 0.9226 - val_loss: 0.3714 - learning_rate: 5.0000e-04\n",
      "Epoch 38/100\n",
      "\u001b[1m891/891\u001b[0m \u001b[32m━━━━━━━━━━━━━━━━━━━━\u001b[0m\u001b[37m\u001b[0m \u001b[1m14s\u001b[0m 15ms/step - accuracy: 0.9200 - loss: 0.3729 - val_accuracy: 0.9234 - val_loss: 0.3657 - learning_rate: 5.0000e-04\n",
      "Epoch 39/100\n",
      "\u001b[1m891/891\u001b[0m \u001b[32m━━━━━━━━━━━━━━━━━━━━\u001b[0m\u001b[37m\u001b[0m \u001b[1m13s\u001b[0m 14ms/step - accuracy: 0.9249 - loss: 0.3537 - val_accuracy: 0.9257 - val_loss: 0.3556 - learning_rate: 2.5000e-04\n",
      "Epoch 40/100\n",
      "\u001b[1m891/891\u001b[0m \u001b[32m━━━━━━━━━━━━━━━━━━━━\u001b[0m\u001b[37m\u001b[0m \u001b[1m13s\u001b[0m 14ms/step - accuracy: 0.9278 - loss: 0.3422 - val_accuracy: 0.9257 - val_loss: 0.3528 - learning_rate: 2.5000e-04\n",
      "Epoch 41/100\n",
      "\u001b[1m891/891\u001b[0m \u001b[32m━━━━━━━━━━━━━━━━━━━━\u001b[0m\u001b[37m\u001b[0m \u001b[1m13s\u001b[0m 14ms/step - accuracy: 0.9282 - loss: 0.3388 - val_accuracy: 0.9269 - val_loss: 0.3490 - learning_rate: 2.5000e-04\n",
      "Epoch 42/100\n",
      "\u001b[1m891/891\u001b[0m \u001b[32m━━━━━━━━━━━━━━━━━━━━\u001b[0m\u001b[37m\u001b[0m \u001b[1m13s\u001b[0m 14ms/step - accuracy: 0.9280 - loss: 0.3364 - val_accuracy: 0.9263 - val_loss: 0.3484 - learning_rate: 2.5000e-04\n",
      "Epoch 43/100\n",
      "\u001b[1m891/891\u001b[0m \u001b[32m━━━━━━━━━━━━━━━━━━━━\u001b[0m\u001b[37m\u001b[0m \u001b[1m13s\u001b[0m 14ms/step - accuracy: 0.9283 - loss: 0.3342 - val_accuracy: 0.9263 - val_loss: 0.3466 - learning_rate: 2.5000e-04\n",
      "Epoch 44/100\n",
      "\u001b[1m891/891\u001b[0m \u001b[32m━━━━━━━━━━━━━━━━━━━━\u001b[0m\u001b[37m\u001b[0m \u001b[1m13s\u001b[0m 14ms/step - accuracy: 0.9294 - loss: 0.3288 - val_accuracy: 0.9267 - val_loss: 0.3452 - learning_rate: 2.5000e-04\n",
      "Epoch 45/100\n",
      "\u001b[1m891/891\u001b[0m \u001b[32m━━━━━━━━━━━━━━━━━━━━\u001b[0m\u001b[37m\u001b[0m \u001b[1m13s\u001b[0m 14ms/step - accuracy: 0.9298 - loss: 0.3280 - val_accuracy: 0.9264 - val_loss: 0.3449 - learning_rate: 2.5000e-04\n",
      "Epoch 46/100\n",
      "\u001b[1m891/891\u001b[0m \u001b[32m━━━━━━━━━━━━━━━━━━━━\u001b[0m\u001b[37m\u001b[0m \u001b[1m13s\u001b[0m 14ms/step - accuracy: 0.9299 - loss: 0.3276 - val_accuracy: 0.9270 - val_loss: 0.3439 - learning_rate: 2.5000e-04\n",
      "Epoch 47/100\n",
      "\u001b[1m891/891\u001b[0m \u001b[32m━━━━━━━━━━━━━━━━━━━━\u001b[0m\u001b[37m\u001b[0m \u001b[1m13s\u001b[0m 14ms/step - accuracy: 0.9301 - loss: 0.3255 - val_accuracy: 0.9271 - val_loss: 0.3412 - learning_rate: 2.5000e-04\n",
      "Epoch 48/100\n",
      "\u001b[1m891/891\u001b[0m \u001b[32m━━━━━━━━━━━━━━━━━━━━\u001b[0m\u001b[37m\u001b[0m \u001b[1m13s\u001b[0m 14ms/step - accuracy: 0.9300 - loss: 0.3241 - val_accuracy: 0.9263 - val_loss: 0.3422 - learning_rate: 2.5000e-04\n",
      "Epoch 49/100\n",
      "\u001b[1m891/891\u001b[0m \u001b[32m━━━━━━━━━━━━━━━━━━━━\u001b[0m\u001b[37m\u001b[0m \u001b[1m13s\u001b[0m 14ms/step - accuracy: 0.9297 - loss: 0.3239 - val_accuracy: 0.9264 - val_loss: 0.3418 - learning_rate: 2.5000e-04\n",
      "Epoch 50/100\n",
      "\u001b[1m891/891\u001b[0m \u001b[32m━━━━━━━━━━━━━━━━━━━━\u001b[0m\u001b[37m\u001b[0m \u001b[1m13s\u001b[0m 15ms/step - accuracy: 0.9307 - loss: 0.3218 - val_accuracy: 0.9265 - val_loss: 0.3428 - learning_rate: 2.5000e-04\n",
      "Epoch 51/100\n",
      "\u001b[1m891/891\u001b[0m \u001b[32m━━━━━━━━━━━━━━━━━━━━\u001b[0m\u001b[37m\u001b[0m \u001b[1m13s\u001b[0m 14ms/step - accuracy: 0.9330 - loss: 0.3125 - val_accuracy: 0.9281 - val_loss: 0.3379 - learning_rate: 1.2500e-04\n",
      "Epoch 52/100\n",
      "\u001b[1m891/891\u001b[0m \u001b[32m━━━━━━━━━━━━━━━━━━━━\u001b[0m\u001b[37m\u001b[0m \u001b[1m13s\u001b[0m 14ms/step - accuracy: 0.9345 - loss: 0.3060 - val_accuracy: 0.9283 - val_loss: 0.3359 - learning_rate: 1.2500e-04\n",
      "Epoch 53/100\n",
      "\u001b[1m891/891\u001b[0m \u001b[32m━━━━━━━━━━━━━━━━━━━━\u001b[0m\u001b[37m\u001b[0m \u001b[1m13s\u001b[0m 15ms/step - accuracy: 0.9353 - loss: 0.3029 - val_accuracy: 0.9287 - val_loss: 0.3339 - learning_rate: 1.2500e-04\n",
      "Epoch 54/100\n",
      "\u001b[1m891/891\u001b[0m \u001b[32m━━━━━━━━━━━━━━━━━━━━\u001b[0m\u001b[37m\u001b[0m \u001b[1m13s\u001b[0m 15ms/step - accuracy: 0.9354 - loss: 0.3018 - val_accuracy: 0.9284 - val_loss: 0.3346 - learning_rate: 1.2500e-04\n",
      "Epoch 55/100\n",
      "\u001b[1m891/891\u001b[0m \u001b[32m━━━━━━━━━━━━━━━━━━━━\u001b[0m\u001b[37m\u001b[0m \u001b[1m13s\u001b[0m 15ms/step - accuracy: 0.9355 - loss: 0.3002 - val_accuracy: 0.9281 - val_loss: 0.3348 - learning_rate: 1.2500e-04\n",
      "Epoch 56/100\n",
      "\u001b[1m891/891\u001b[0m \u001b[32m━━━━━━━━━━━━━━━━━━━━\u001b[0m\u001b[37m\u001b[0m \u001b[1m13s\u001b[0m 15ms/step - accuracy: 0.9360 - loss: 0.2999 - val_accuracy: 0.9286 - val_loss: 0.3347 - learning_rate: 1.2500e-04\n",
      "Epoch 57/100\n",
      "\u001b[1m891/891\u001b[0m \u001b[32m━━━━━━━━━━━━━━━━━━━━\u001b[0m\u001b[37m\u001b[0m \u001b[1m13s\u001b[0m 14ms/step - accuracy: 0.9384 - loss: 0.2919 - val_accuracy: 0.9289 - val_loss: 0.3318 - learning_rate: 6.2500e-05\n",
      "Epoch 58/100\n",
      "\u001b[1m891/891\u001b[0m \u001b[32m━━━━━━━━━━━━━━━━━━━━\u001b[0m\u001b[37m\u001b[0m \u001b[1m12s\u001b[0m 14ms/step - accuracy: 0.9379 - loss: 0.2909 - val_accuracy: 0.9295 - val_loss: 0.3320 - learning_rate: 6.2500e-05\n",
      "Epoch 59/100\n",
      "\u001b[1m891/891\u001b[0m \u001b[32m━━━━━━━━━━━━━━━━━━━━\u001b[0m\u001b[37m\u001b[0m \u001b[1m13s\u001b[0m 14ms/step - accuracy: 0.9389 - loss: 0.2881 - val_accuracy: 0.9294 - val_loss: 0.3305 - learning_rate: 6.2500e-05\n",
      "Epoch 60/100\n",
      "\u001b[1m891/891\u001b[0m \u001b[32m━━━━━━━━━━━━━━━━━━━━\u001b[0m\u001b[37m\u001b[0m \u001b[1m13s\u001b[0m 15ms/step - accuracy: 0.9389 - loss: 0.2866 - val_accuracy: 0.9291 - val_loss: 0.3311 - learning_rate: 6.2500e-05\n",
      "Epoch 61/100\n",
      "\u001b[1m891/891\u001b[0m \u001b[32m━━━━━━━━━━━━━━━━━━━━\u001b[0m\u001b[37m\u001b[0m \u001b[1m13s\u001b[0m 15ms/step - accuracy: 0.9388 - loss: 0.2861 - val_accuracy: 0.9290 - val_loss: 0.3309 - learning_rate: 6.2500e-05\n",
      "Epoch 62/100\n",
      "\u001b[1m891/891\u001b[0m \u001b[32m━━━━━━━━━━━━━━━━━━━━\u001b[0m\u001b[37m\u001b[0m \u001b[1m13s\u001b[0m 14ms/step - accuracy: 0.9389 - loss: 0.2861 - val_accuracy: 0.9297 - val_loss: 0.3296 - learning_rate: 6.2500e-05\n",
      "Epoch 63/100\n",
      "\u001b[1m891/891\u001b[0m \u001b[32m━━━━━━━━━━━━━━━━━━━━\u001b[0m\u001b[37m\u001b[0m \u001b[1m13s\u001b[0m 14ms/step - accuracy: 0.9393 - loss: 0.2843 - val_accuracy: 0.9295 - val_loss: 0.3299 - learning_rate: 6.2500e-05\n",
      "Epoch 64/100\n",
      "\u001b[1m891/891\u001b[0m \u001b[32m━━━━━━━━━━━━━━━━━━━━\u001b[0m\u001b[37m\u001b[0m \u001b[1m13s\u001b[0m 14ms/step - accuracy: 0.9390 - loss: 0.2847 - val_accuracy: 0.9293 - val_loss: 0.3300 - learning_rate: 6.2500e-05\n",
      "Epoch 65/100\n",
      "\u001b[1m891/891\u001b[0m \u001b[32m━━━━━━━━━━━━━━━━━━━━\u001b[0m\u001b[37m\u001b[0m \u001b[1m13s\u001b[0m 14ms/step - accuracy: 0.9404 - loss: 0.2809 - val_accuracy: 0.9294 - val_loss: 0.3296 - learning_rate: 6.2500e-05\n",
      "Epoch 66/100\n",
      "\u001b[1m891/891\u001b[0m \u001b[32m━━━━━━━━━━━━━━━━━━━━\u001b[0m\u001b[37m\u001b[0m \u001b[1m13s\u001b[0m 14ms/step - accuracy: 0.9402 - loss: 0.2806 - val_accuracy: 0.9296 - val_loss: 0.3287 - learning_rate: 3.1250e-05\n",
      "Epoch 67/100\n",
      "\u001b[1m891/891\u001b[0m \u001b[32m━━━━━━━━━━━━━━━━━━━━\u001b[0m\u001b[37m\u001b[0m \u001b[1m12s\u001b[0m 14ms/step - accuracy: 0.9412 - loss: 0.2779 - val_accuracy: 0.9296 - val_loss: 0.3285 - learning_rate: 3.1250e-05\n",
      "Epoch 68/100\n",
      "\u001b[1m891/891\u001b[0m \u001b[32m━━━━━━━━━━━━━━━━━━━━\u001b[0m\u001b[37m\u001b[0m \u001b[1m12s\u001b[0m 13ms/step - accuracy: 0.9406 - loss: 0.2791 - val_accuracy: 0.9298 - val_loss: 0.3283 - learning_rate: 3.1250e-05\n",
      "Epoch 69/100\n",
      "\u001b[1m891/891\u001b[0m \u001b[32m━━━━━━━━━━━━━━━━━━━━\u001b[0m\u001b[37m\u001b[0m \u001b[1m12s\u001b[0m 13ms/step - accuracy: 0.9404 - loss: 0.2795 - val_accuracy: 0.9296 - val_loss: 0.3291 - learning_rate: 3.1250e-05\n",
      "Epoch 70/100\n",
      "\u001b[1m891/891\u001b[0m \u001b[32m━━━━━━━━━━━━━━━━━━━━\u001b[0m\u001b[37m\u001b[0m \u001b[1m11s\u001b[0m 13ms/step - accuracy: 0.9412 - loss: 0.2762 - val_accuracy: 0.9296 - val_loss: 0.3283 - learning_rate: 3.1250e-05\n",
      "Epoch 71/100\n",
      "\u001b[1m891/891\u001b[0m \u001b[32m━━━━━━━━━━━━━━━━━━━━\u001b[0m\u001b[37m\u001b[0m \u001b[1m12s\u001b[0m 13ms/step - accuracy: 0.9412 - loss: 0.2769 - val_accuracy: 0.9297 - val_loss: 0.3287 - learning_rate: 3.1250e-05\n",
      "Epoch 72/100\n",
      "\u001b[1m891/891\u001b[0m \u001b[32m━━━━━━━━━━━━━━━━━━━━\u001b[0m\u001b[37m\u001b[0m \u001b[1m12s\u001b[0m 13ms/step - accuracy: 0.9420 - loss: 0.2738 - val_accuracy: 0.9295 - val_loss: 0.3284 - learning_rate: 1.5625e-05\n",
      "Epoch 73/100\n",
      "\u001b[1m891/891\u001b[0m \u001b[32m━━━━━━━━━━━━━━━━━━━━\u001b[0m\u001b[37m\u001b[0m \u001b[1m12s\u001b[0m 13ms/step - accuracy: 0.9419 - loss: 0.2745 - val_accuracy: 0.9298 - val_loss: 0.3278 - learning_rate: 1.5625e-05\n",
      "Epoch 74/100\n",
      "\u001b[1m891/891\u001b[0m \u001b[32m━━━━━━━━━━━━━━━━━━━━\u001b[0m\u001b[37m\u001b[0m \u001b[1m13s\u001b[0m 14ms/step - accuracy: 0.9416 - loss: 0.2745 - val_accuracy: 0.9301 - val_loss: 0.3276 - learning_rate: 1.5625e-05\n",
      "Epoch 75/100\n",
      "\u001b[1m891/891\u001b[0m \u001b[32m━━━━━━━━━━━━━━━━━━━━\u001b[0m\u001b[37m\u001b[0m \u001b[1m12s\u001b[0m 14ms/step - accuracy: 0.9422 - loss: 0.2723 - val_accuracy: 0.9298 - val_loss: 0.3276 - learning_rate: 1.5625e-05\n",
      "Epoch 76/100\n",
      "\u001b[1m891/891\u001b[0m \u001b[32m━━━━━━━━━━━━━━━━━━━━\u001b[0m\u001b[37m\u001b[0m \u001b[1m12s\u001b[0m 14ms/step - accuracy: 0.9419 - loss: 0.2731 - val_accuracy: 0.9295 - val_loss: 0.3285 - learning_rate: 1.5625e-05\n",
      "Epoch 77/100\n",
      "\u001b[1m891/891\u001b[0m \u001b[32m━━━━━━━━━━━━━━━━━━━━\u001b[0m\u001b[37m\u001b[0m \u001b[1m12s\u001b[0m 13ms/step - accuracy: 0.9418 - loss: 0.2742 - val_accuracy: 0.9296 - val_loss: 0.3279 - learning_rate: 1.5625e-05\n",
      "Epoch 78/100\n",
      "\u001b[1m891/891\u001b[0m \u001b[32m━━━━━━━━━━━━━━━━━━━━\u001b[0m\u001b[37m\u001b[0m \u001b[1m11s\u001b[0m 13ms/step - accuracy: 0.9423 - loss: 0.2731 - val_accuracy: 0.9296 - val_loss: 0.3271 - learning_rate: 7.8125e-06\n",
      "Epoch 79/100\n",
      "\u001b[1m891/891\u001b[0m \u001b[32m━━━━━━━━━━━━━━━━━━━━\u001b[0m\u001b[37m\u001b[0m \u001b[1m12s\u001b[0m 13ms/step - accuracy: 0.9422 - loss: 0.2724 - val_accuracy: 0.9297 - val_loss: 0.3276 - learning_rate: 7.8125e-06\n",
      "Epoch 80/100\n",
      "\u001b[1m891/891\u001b[0m \u001b[32m━━━━━━━━━━━━━━━━━━━━\u001b[0m\u001b[37m\u001b[0m \u001b[1m23s\u001b[0m 15ms/step - accuracy: 0.9425 - loss: 0.2717 - val_accuracy: 0.9300 - val_loss: 0.3272 - learning_rate: 7.8125e-06\n",
      "Epoch 81/100\n",
      "\u001b[1m891/891\u001b[0m \u001b[32m━━━━━━━━━━━━━━━━━━━━\u001b[0m\u001b[37m\u001b[0m \u001b[1m11s\u001b[0m 12ms/step - accuracy: 0.9429 - loss: 0.2713 - val_accuracy: 0.9298 - val_loss: 0.3272 - learning_rate: 7.8125e-06\n",
      "Epoch 82/100\n",
      "\u001b[1m891/891\u001b[0m \u001b[32m━━━━━━━━━━━━━━━━━━━━\u001b[0m\u001b[37m\u001b[0m \u001b[1m11s\u001b[0m 12ms/step - accuracy: 0.9420 - loss: 0.2729 - val_accuracy: 0.9298 - val_loss: 0.3274 - learning_rate: 3.9063e-06\n",
      "Epoch 83/100\n",
      "\u001b[1m891/891\u001b[0m \u001b[32m━━━━━━━━━━━━━━━━━━━━\u001b[0m\u001b[37m\u001b[0m \u001b[1m11s\u001b[0m 13ms/step - accuracy: 0.9426 - loss: 0.2712 - val_accuracy: 0.9297 - val_loss: 0.3273 - learning_rate: 3.9063e-06\n"
     ]
    },
    {
     "data": {
      "text/plain": [
       "<keras.src.callbacks.history.History at 0x20f2c9ac080>"
      ]
     },
     "execution_count": 32,
     "metadata": {},
     "output_type": "execute_result"
    }
   ],
   "source": [
    "\n",
    "# ✅ Increased batch size for stability\n",
    "model.fit(\n",
    "    X_train, y_train,\n",
    "    validation_data=(X_cv, y_cv),\n",
    "    epochs=100,\n",
    "    batch_size=512,\n",
    "    callbacks=callbacks,\n",
    "    verbose=1\n",
    ")"
   ]
  },
  {
   "cell_type": "code",
   "execution_count": 33,
   "id": "e9c5e01c",
   "metadata": {},
   "outputs": [
    {
     "name": "stdout",
     "output_type": "stream",
     "text": [
      "\u001b[1m1782/1782\u001b[0m \u001b[32m━━━━━━━━━━━━━━━━━━━━\u001b[0m\u001b[37m\u001b[0m \u001b[1m5s\u001b[0m 3ms/step\n",
      "Validation Accuracy: 0.9296491228070175\n",
      "\u001b[1m1782/1782\u001b[0m \u001b[32m━━━━━━━━━━━━━━━━━━━━\u001b[0m\u001b[37m\u001b[0m \u001b[1m4s\u001b[0m 2ms/step\n",
      "Test Accuracy: 0.9313508771929825\n"
     ]
    }
   ],
   "source": [
    "# Evaluation\n",
    "logits_cv = model.predict(X_cv)\n",
    "y_cv_pred = tf.argmax(tf.nn.softmax(logits_cv, axis=1), axis=1).numpy()\n",
    "print(\"Validation Accuracy:\", accuracy_score(y_cv, y_cv_pred))\n",
    "\n",
    "logits_test = model.predict(X_test)\n",
    "y_test_pred = tf.argmax(tf.nn.softmax(logits_test, axis=1), axis=1).numpy()\n",
    "print(\"Test Accuracy:\", accuracy_score(y_test, y_test_pred))"
   ]
  },
  {
   "cell_type": "code",
   "execution_count": 34,
   "id": "f350901f",
   "metadata": {},
   "outputs": [],
   "source": [
    "# Save model and normalization\n",
    "model.save(\"doodle_model.keras\")"
   ]
  }
 ],
 "metadata": {
  "kernelspec": {
   "display_name": "ml_env",
   "language": "python",
   "name": "python3"
  },
  "language_info": {
   "codemirror_mode": {
    "name": "ipython",
    "version": 3
   },
   "file_extension": ".py",
   "mimetype": "text/x-python",
   "name": "python",
   "nbconvert_exporter": "python",
   "pygments_lexer": "ipython3",
   "version": "3.12.9"
  }
 },
 "nbformat": 4,
 "nbformat_minor": 5
}
