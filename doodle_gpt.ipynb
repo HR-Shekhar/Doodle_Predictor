{
 "cells": [
  {
   "cell_type": "code",
   "execution_count": 1,
   "id": "2befcc52",
   "metadata": {},
   "outputs": [],
   "source": [
    "import numpy as np\n",
    "import os\n",
    "import tensorflow as tf\n",
    "from sklearn.metrics import accuracy_score\n",
    "from tensorflow.keras.models import Sequential\n",
    "from tensorflow.keras.layers import Dense, Dropout\n",
    "from tensorflow.keras import regularizers\n",
    "from tensorflow.keras.callbacks import EarlyStopping, ReduceLROnPlateau\n",
    "from sklearn.model_selection import train_test_split"
   ]
  },
  {
   "cell_type": "code",
   "execution_count": 2,
   "id": "b633dbe3",
   "metadata": {},
   "outputs": [],
   "source": [
    "# Load Data\n",
    "data_dir = './data/'\n",
    "class_names = [\"apple\", \"bat\", \"circle\", \"clock\", \"cloud\",\n",
    "               \"crown\", \"diamond\", \"donut\", \"fish\",\n",
    "               \"hot_dog\", \"lightning\", \"mountain\", \"skull\",\n",
    "               \"smiley_face\", \"square\", \"star\", \"sun\", \"t-shirt\", \"tree\"]"
   ]
  },
  {
   "cell_type": "code",
   "execution_count": 3,
   "id": "f82e7e3d",
   "metadata": {},
   "outputs": [],
   "source": [
    "X, y = [], []\n",
    "\n",
    "for label, class_name in enumerate(class_names):\n",
    "    file_path = os.path.join(data_dir, f\"{class_name}.npy\")\n",
    "    data = np.load(file_path)  # shape: (30000, 784)\n",
    "    X.append(data)\n",
    "    y.append(np.full((data.shape[0],), label))"
   ]
  },
  {
   "cell_type": "code",
   "execution_count": 4,
   "id": "6de0ec15",
   "metadata": {},
   "outputs": [],
   "source": [
    "\n",
    "X = np.vstack(X)  # shape: (570000, 784)\n",
    "y = np.hstack(y)  # shape: (570000,)"
   ]
  },
  {
   "cell_type": "code",
   "execution_count": 5,
   "id": "9a31f665",
   "metadata": {},
   "outputs": [],
   "source": [
    "# ✅ Proper Normalization for image pixel data\n",
    "X = X.astype('float32') / 255.0"
   ]
  },
  {
   "cell_type": "code",
   "execution_count": 6,
   "id": "0a293cb4",
   "metadata": {},
   "outputs": [],
   "source": [
    "X_train, X_, y_train, y_ = train_test_split(X, y, test_size=0.2, random_state=42, stratify=y)\n",
    "X_cv, X_test, y_cv, y_test = train_test_split(X_, y_, test_size=0.5, random_state=42, stratify=y_)"
   ]
  },
  {
   "cell_type": "code",
   "execution_count": 7,
   "id": "835c45d4",
   "metadata": {},
   "outputs": [
    {
     "name": "stderr",
     "output_type": "stream",
     "text": [
      "c:\\Users\\mehim\\anaconda3\\envs\\ml_env\\Lib\\site-packages\\keras\\src\\layers\\core\\dense.py:87: UserWarning: Do not pass an `input_shape`/`input_dim` argument to a layer. When using Sequential models, prefer using an `Input(shape)` object as the first layer in the model instead.\n",
      "  super().__init__(activity_regularizer=activity_regularizer, **kwargs)\n"
     ]
    }
   ],
   "source": [
    "# ✅ Improved and Simplified Model\n",
    "model = Sequential([\n",
    "    Dense(512, activation='relu', input_shape=(784,), kernel_regularizer=regularizers.l2(0.0001)),\n",
    "    Dropout(0.3),\n",
    "    Dense(256, activation='relu', kernel_regularizer=regularizers.l2(0.0001)),\n",
    "    Dropout(0.3),\n",
    "    Dense(128, activation='relu', kernel_regularizer=regularizers.l2(0.0001)),\n",
    "    Dropout(0.2),\n",
    "    Dense(19, activation='linear')  # logits\n",
    "])"
   ]
  },
  {
   "cell_type": "code",
   "execution_count": 8,
   "id": "9c91f3a7",
   "metadata": {},
   "outputs": [],
   "source": [
    "# Compile\n",
    "model.compile(\n",
    "    loss=tf.keras.losses.SparseCategoricalCrossentropy(from_logits=True),\n",
    "    optimizer=tf.keras.optimizers.Adam(learning_rate=0.001),\n",
    "    metrics=['accuracy']\n",
    ")"
   ]
  },
  {
   "cell_type": "code",
   "execution_count": 9,
   "id": "77389ea4",
   "metadata": {},
   "outputs": [],
   "source": [
    "\n",
    "# ✅ Callbacks\n",
    "callbacks = [\n",
    "    EarlyStopping(patience=5, restore_best_weights=True),\n",
    "    ReduceLROnPlateau(patience=3, factor=0.5)\n",
    "]"
   ]
  },
  {
   "cell_type": "code",
   "execution_count": 10,
   "id": "92e2f153",
   "metadata": {},
   "outputs": [
    {
     "name": "stdout",
     "output_type": "stream",
     "text": [
      "Epoch 1/100\n",
      "891/891 - 15s - 17ms/step - accuracy: 0.7600 - loss: 0.9505 - val_accuracy: 0.8579 - val_loss: 0.6196 - learning_rate: 1.0000e-03\n",
      "Epoch 2/100\n",
      "891/891 - 12s - 13ms/step - accuracy: 0.8455 - loss: 0.6689 - val_accuracy: 0.8806 - val_loss: 0.5426 - learning_rate: 1.0000e-03\n",
      "Epoch 3/100\n",
      "891/891 - 12s - 13ms/step - accuracy: 0.8635 - loss: 0.6033 - val_accuracy: 0.8892 - val_loss: 0.5103 - learning_rate: 1.0000e-03\n",
      "Epoch 4/100\n",
      "891/891 - 12s - 13ms/step - accuracy: 0.8736 - loss: 0.5671 - val_accuracy: 0.8961 - val_loss: 0.4875 - learning_rate: 1.0000e-03\n",
      "Epoch 5/100\n",
      "891/891 - 11s - 13ms/step - accuracy: 0.8801 - loss: 0.5430 - val_accuracy: 0.8981 - val_loss: 0.4788 - learning_rate: 1.0000e-03\n",
      "Epoch 6/100\n",
      "891/891 - 12s - 13ms/step - accuracy: 0.8845 - loss: 0.5298 - val_accuracy: 0.9026 - val_loss: 0.4647 - learning_rate: 1.0000e-03\n",
      "Epoch 7/100\n",
      "891/891 - 12s - 14ms/step - accuracy: 0.8868 - loss: 0.5191 - val_accuracy: 0.9049 - val_loss: 0.4550 - learning_rate: 1.0000e-03\n",
      "Epoch 8/100\n",
      "891/891 - 12s - 13ms/step - accuracy: 0.8897 - loss: 0.5096 - val_accuracy: 0.9069 - val_loss: 0.4500 - learning_rate: 1.0000e-03\n",
      "Epoch 9/100\n",
      "891/891 - 11s - 13ms/step - accuracy: 0.8908 - loss: 0.5056 - val_accuracy: 0.9078 - val_loss: 0.4456 - learning_rate: 1.0000e-03\n",
      "Epoch 10/100\n",
      "891/891 - 11s - 13ms/step - accuracy: 0.8925 - loss: 0.4990 - val_accuracy: 0.9091 - val_loss: 0.4416 - learning_rate: 1.0000e-03\n",
      "Epoch 11/100\n",
      "891/891 - 11s - 12ms/step - accuracy: 0.8940 - loss: 0.4947 - val_accuracy: 0.9107 - val_loss: 0.4397 - learning_rate: 1.0000e-03\n",
      "Epoch 12/100\n",
      "891/891 - 11s - 13ms/step - accuracy: 0.8952 - loss: 0.4907 - val_accuracy: 0.9100 - val_loss: 0.4391 - learning_rate: 1.0000e-03\n",
      "Epoch 13/100\n",
      "891/891 - 11s - 12ms/step - accuracy: 0.8957 - loss: 0.4887 - val_accuracy: 0.9092 - val_loss: 0.4432 - learning_rate: 1.0000e-03\n",
      "Epoch 14/100\n",
      "891/891 - 11s - 12ms/step - accuracy: 0.8969 - loss: 0.4853 - val_accuracy: 0.9103 - val_loss: 0.4368 - learning_rate: 1.0000e-03\n",
      "Epoch 15/100\n",
      "891/891 - 11s - 12ms/step - accuracy: 0.8980 - loss: 0.4836 - val_accuracy: 0.9118 - val_loss: 0.4325 - learning_rate: 1.0000e-03\n",
      "Epoch 16/100\n",
      "891/891 - 11s - 12ms/step - accuracy: 0.8977 - loss: 0.4820 - val_accuracy: 0.9110 - val_loss: 0.4363 - learning_rate: 1.0000e-03\n",
      "Epoch 17/100\n",
      "891/891 - 11s - 12ms/step - accuracy: 0.8990 - loss: 0.4785 - val_accuracy: 0.9138 - val_loss: 0.4280 - learning_rate: 1.0000e-03\n",
      "Epoch 18/100\n",
      "891/891 - 11s - 12ms/step - accuracy: 0.8996 - loss: 0.4773 - val_accuracy: 0.9146 - val_loss: 0.4290 - learning_rate: 1.0000e-03\n",
      "Epoch 19/100\n",
      "891/891 - 11s - 12ms/step - accuracy: 0.8995 - loss: 0.4768 - val_accuracy: 0.9118 - val_loss: 0.4337 - learning_rate: 1.0000e-03\n",
      "Epoch 20/100\n",
      "891/891 - 12s - 13ms/step - accuracy: 0.9001 - loss: 0.4755 - val_accuracy: 0.9143 - val_loss: 0.4260 - learning_rate: 1.0000e-03\n",
      "Epoch 21/100\n",
      "891/891 - 12s - 13ms/step - accuracy: 0.9009 - loss: 0.4736 - val_accuracy: 0.9147 - val_loss: 0.4259 - learning_rate: 1.0000e-03\n",
      "Epoch 22/100\n",
      "891/891 - 11s - 13ms/step - accuracy: 0.9008 - loss: 0.4731 - val_accuracy: 0.9136 - val_loss: 0.4261 - learning_rate: 1.0000e-03\n",
      "Epoch 23/100\n",
      "891/891 - 12s - 13ms/step - accuracy: 0.9011 - loss: 0.4711 - val_accuracy: 0.9157 - val_loss: 0.4240 - learning_rate: 1.0000e-03\n",
      "Epoch 24/100\n",
      "891/891 - 12s - 14ms/step - accuracy: 0.9011 - loss: 0.4717 - val_accuracy: 0.9158 - val_loss: 0.4211 - learning_rate: 1.0000e-03\n",
      "Epoch 25/100\n",
      "891/891 - 13s - 14ms/step - accuracy: 0.9016 - loss: 0.4703 - val_accuracy: 0.9165 - val_loss: 0.4223 - learning_rate: 1.0000e-03\n",
      "Epoch 26/100\n",
      "891/891 - 12s - 14ms/step - accuracy: 0.9015 - loss: 0.4710 - val_accuracy: 0.9149 - val_loss: 0.4255 - learning_rate: 1.0000e-03\n",
      "Epoch 27/100\n",
      "891/891 - 12s - 14ms/step - accuracy: 0.9017 - loss: 0.4695 - val_accuracy: 0.9159 - val_loss: 0.4217 - learning_rate: 1.0000e-03\n",
      "Epoch 28/100\n",
      "891/891 - 11s - 12ms/step - accuracy: 0.9130 - loss: 0.4262 - val_accuracy: 0.9230 - val_loss: 0.3923 - learning_rate: 5.0000e-04\n",
      "Epoch 29/100\n",
      "891/891 - 11s - 12ms/step - accuracy: 0.9153 - loss: 0.4101 - val_accuracy: 0.9223 - val_loss: 0.3858 - learning_rate: 5.0000e-04\n",
      "Epoch 30/100\n",
      "891/891 - 11s - 13ms/step - accuracy: 0.9152 - loss: 0.4038 - val_accuracy: 0.9215 - val_loss: 0.3840 - learning_rate: 5.0000e-04\n",
      "Epoch 31/100\n",
      "891/891 - 12s - 13ms/step - accuracy: 0.9163 - loss: 0.3975 - val_accuracy: 0.9234 - val_loss: 0.3744 - learning_rate: 5.0000e-04\n",
      "Epoch 32/100\n",
      "891/891 - 12s - 13ms/step - accuracy: 0.9161 - loss: 0.3939 - val_accuracy: 0.9233 - val_loss: 0.3759 - learning_rate: 5.0000e-04\n",
      "Epoch 33/100\n",
      "891/891 - 12s - 13ms/step - accuracy: 0.9165 - loss: 0.3917 - val_accuracy: 0.9233 - val_loss: 0.3709 - learning_rate: 5.0000e-04\n",
      "Epoch 34/100\n",
      "891/891 - 11s - 13ms/step - accuracy: 0.9172 - loss: 0.3884 - val_accuracy: 0.9232 - val_loss: 0.3722 - learning_rate: 5.0000e-04\n",
      "Epoch 35/100\n",
      "891/891 - 11s - 12ms/step - accuracy: 0.9171 - loss: 0.3879 - val_accuracy: 0.9227 - val_loss: 0.3709 - learning_rate: 5.0000e-04\n",
      "Epoch 36/100\n",
      "891/891 - 11s - 12ms/step - accuracy: 0.9172 - loss: 0.3856 - val_accuracy: 0.9224 - val_loss: 0.3729 - learning_rate: 5.0000e-04\n",
      "Epoch 37/100\n",
      "891/891 - 11s - 12ms/step - accuracy: 0.9243 - loss: 0.3595 - val_accuracy: 0.9261 - val_loss: 0.3567 - learning_rate: 2.5000e-04\n",
      "Epoch 38/100\n",
      "891/891 - 11s - 13ms/step - accuracy: 0.9262 - loss: 0.3521 - val_accuracy: 0.9269 - val_loss: 0.3534 - learning_rate: 2.5000e-04\n",
      "Epoch 39/100\n",
      "891/891 - 11s - 13ms/step - accuracy: 0.9265 - loss: 0.3473 - val_accuracy: 0.9269 - val_loss: 0.3498 - learning_rate: 2.5000e-04\n",
      "Epoch 40/100\n",
      "891/891 - 12s - 13ms/step - accuracy: 0.9274 - loss: 0.3431 - val_accuracy: 0.9267 - val_loss: 0.3495 - learning_rate: 2.5000e-04\n",
      "Epoch 41/100\n",
      "891/891 - 11s - 12ms/step - accuracy: 0.9273 - loss: 0.3414 - val_accuracy: 0.9270 - val_loss: 0.3489 - learning_rate: 2.5000e-04\n",
      "Epoch 42/100\n",
      "891/891 - 12s - 13ms/step - accuracy: 0.9277 - loss: 0.3392 - val_accuracy: 0.9273 - val_loss: 0.3470 - learning_rate: 2.5000e-04\n",
      "Epoch 43/100\n",
      "891/891 - 12s - 13ms/step - accuracy: 0.9280 - loss: 0.3366 - val_accuracy: 0.9269 - val_loss: 0.3478 - learning_rate: 2.5000e-04\n",
      "Epoch 44/100\n",
      "891/891 - 11s - 12ms/step - accuracy: 0.9280 - loss: 0.3355 - val_accuracy: 0.9263 - val_loss: 0.3468 - learning_rate: 2.5000e-04\n",
      "Epoch 45/100\n",
      "891/891 - 12s - 13ms/step - accuracy: 0.9289 - loss: 0.3331 - val_accuracy: 0.9264 - val_loss: 0.3474 - learning_rate: 2.5000e-04\n",
      "Epoch 46/100\n",
      "891/891 - 12s - 14ms/step - accuracy: 0.9284 - loss: 0.3324 - val_accuracy: 0.9277 - val_loss: 0.3437 - learning_rate: 2.5000e-04\n",
      "Epoch 47/100\n",
      "891/891 - 11s - 12ms/step - accuracy: 0.9287 - loss: 0.3310 - val_accuracy: 0.9268 - val_loss: 0.3455 - learning_rate: 2.5000e-04\n",
      "Epoch 48/100\n",
      "891/891 - 11s - 13ms/step - accuracy: 0.9289 - loss: 0.3292 - val_accuracy: 0.9264 - val_loss: 0.3457 - learning_rate: 2.5000e-04\n",
      "Epoch 49/100\n",
      "891/891 - 11s - 13ms/step - accuracy: 0.9288 - loss: 0.3277 - val_accuracy: 0.9258 - val_loss: 0.3466 - learning_rate: 2.5000e-04\n",
      "Epoch 50/100\n",
      "891/891 - 11s - 12ms/step - accuracy: 0.9326 - loss: 0.3146 - val_accuracy: 0.9285 - val_loss: 0.3396 - learning_rate: 1.2500e-04\n",
      "Epoch 51/100\n",
      "891/891 - 11s - 12ms/step - accuracy: 0.9341 - loss: 0.3094 - val_accuracy: 0.9282 - val_loss: 0.3392 - learning_rate: 1.2500e-04\n",
      "Epoch 52/100\n",
      "891/891 - 11s - 12ms/step - accuracy: 0.9343 - loss: 0.3080 - val_accuracy: 0.9286 - val_loss: 0.3380 - learning_rate: 1.2500e-04\n",
      "Epoch 53/100\n",
      "891/891 - 11s - 12ms/step - accuracy: 0.9346 - loss: 0.3059 - val_accuracy: 0.9289 - val_loss: 0.3360 - learning_rate: 1.2500e-04\n",
      "Epoch 54/100\n",
      "891/891 - 11s - 13ms/step - accuracy: 0.9347 - loss: 0.3044 - val_accuracy: 0.9286 - val_loss: 0.3369 - learning_rate: 1.2500e-04\n",
      "Epoch 55/100\n",
      "891/891 - 11s - 13ms/step - accuracy: 0.9350 - loss: 0.3034 - val_accuracy: 0.9285 - val_loss: 0.3365 - learning_rate: 1.2500e-04\n",
      "Epoch 56/100\n",
      "891/891 - 11s - 13ms/step - accuracy: 0.9355 - loss: 0.3014 - val_accuracy: 0.9277 - val_loss: 0.3357 - learning_rate: 1.2500e-04\n",
      "Epoch 57/100\n",
      "891/891 - 11s - 12ms/step - accuracy: 0.9351 - loss: 0.3025 - val_accuracy: 0.9287 - val_loss: 0.3351 - learning_rate: 1.2500e-04\n",
      "Epoch 58/100\n",
      "891/891 - 11s - 13ms/step - accuracy: 0.9357 - loss: 0.2996 - val_accuracy: 0.9289 - val_loss: 0.3344 - learning_rate: 1.2500e-04\n",
      "Epoch 59/100\n",
      "891/891 - 11s - 13ms/step - accuracy: 0.9357 - loss: 0.2994 - val_accuracy: 0.9284 - val_loss: 0.3349 - learning_rate: 1.2500e-04\n",
      "Epoch 60/100\n",
      "891/891 - 11s - 12ms/step - accuracy: 0.9358 - loss: 0.2983 - val_accuracy: 0.9284 - val_loss: 0.3344 - learning_rate: 1.2500e-04\n",
      "Epoch 61/100\n",
      "891/891 - 11s - 13ms/step - accuracy: 0.9360 - loss: 0.2974 - val_accuracy: 0.9286 - val_loss: 0.3342 - learning_rate: 1.2500e-04\n",
      "Epoch 62/100\n",
      "891/891 - 11s - 13ms/step - accuracy: 0.9362 - loss: 0.2957 - val_accuracy: 0.9279 - val_loss: 0.3346 - learning_rate: 1.2500e-04\n",
      "Epoch 63/100\n",
      "891/891 - 11s - 12ms/step - accuracy: 0.9365 - loss: 0.2952 - val_accuracy: 0.9288 - val_loss: 0.3337 - learning_rate: 1.2500e-04\n",
      "Epoch 64/100\n",
      "891/891 - 11s - 12ms/step - accuracy: 0.9364 - loss: 0.2947 - val_accuracy: 0.9285 - val_loss: 0.3335 - learning_rate: 1.2500e-04\n",
      "Epoch 65/100\n",
      "891/891 - 11s - 13ms/step - accuracy: 0.9362 - loss: 0.2944 - val_accuracy: 0.9288 - val_loss: 0.3335 - learning_rate: 1.2500e-04\n",
      "Epoch 66/100\n",
      "891/891 - 11s - 13ms/step - accuracy: 0.9365 - loss: 0.2933 - val_accuracy: 0.9286 - val_loss: 0.3331 - learning_rate: 1.2500e-04\n",
      "Epoch 67/100\n",
      "891/891 - 11s - 12ms/step - accuracy: 0.9370 - loss: 0.2924 - val_accuracy: 0.9281 - val_loss: 0.3331 - learning_rate: 1.2500e-04\n",
      "Epoch 68/100\n",
      "891/891 - 11s - 12ms/step - accuracy: 0.9368 - loss: 0.2925 - val_accuracy: 0.9288 - val_loss: 0.3320 - learning_rate: 1.2500e-04\n",
      "Epoch 69/100\n",
      "891/891 - 11s - 12ms/step - accuracy: 0.9368 - loss: 0.2924 - val_accuracy: 0.9284 - val_loss: 0.3329 - learning_rate: 1.2500e-04\n",
      "Epoch 70/100\n",
      "891/891 - 11s - 12ms/step - accuracy: 0.9371 - loss: 0.2900 - val_accuracy: 0.9281 - val_loss: 0.3347 - learning_rate: 1.2500e-04\n",
      "Epoch 71/100\n",
      "891/891 - 11s - 12ms/step - accuracy: 0.9368 - loss: 0.2902 - val_accuracy: 0.9285 - val_loss: 0.3324 - learning_rate: 1.2500e-04\n",
      "Epoch 72/100\n",
      "891/891 - 11s - 12ms/step - accuracy: 0.9391 - loss: 0.2831 - val_accuracy: 0.9285 - val_loss: 0.3316 - learning_rate: 6.2500e-05\n",
      "Epoch 73/100\n",
      "891/891 - 11s - 12ms/step - accuracy: 0.9399 - loss: 0.2801 - val_accuracy: 0.9292 - val_loss: 0.3310 - learning_rate: 6.2500e-05\n",
      "Epoch 74/100\n",
      "891/891 - 12s - 13ms/step - accuracy: 0.9406 - loss: 0.2786 - val_accuracy: 0.9293 - val_loss: 0.3296 - learning_rate: 6.2500e-05\n",
      "Epoch 75/100\n",
      "891/891 - 12s - 13ms/step - accuracy: 0.9402 - loss: 0.2784 - val_accuracy: 0.9291 - val_loss: 0.3313 - learning_rate: 6.2500e-05\n",
      "Epoch 76/100\n",
      "891/891 - 11s - 12ms/step - accuracy: 0.9400 - loss: 0.2782 - val_accuracy: 0.9294 - val_loss: 0.3301 - learning_rate: 6.2500e-05\n",
      "Epoch 77/100\n",
      "891/891 - 11s - 13ms/step - accuracy: 0.9404 - loss: 0.2770 - val_accuracy: 0.9297 - val_loss: 0.3295 - learning_rate: 6.2500e-05\n",
      "Epoch 78/100\n",
      "891/891 - 11s - 12ms/step - accuracy: 0.9415 - loss: 0.2727 - val_accuracy: 0.9295 - val_loss: 0.3290 - learning_rate: 3.1250e-05\n",
      "Epoch 79/100\n",
      "891/891 - 11s - 12ms/step - accuracy: 0.9420 - loss: 0.2718 - val_accuracy: 0.9300 - val_loss: 0.3292 - learning_rate: 3.1250e-05\n",
      "Epoch 80/100\n",
      "891/891 - 11s - 12ms/step - accuracy: 0.9420 - loss: 0.2715 - val_accuracy: 0.9294 - val_loss: 0.3297 - learning_rate: 3.1250e-05\n",
      "Epoch 81/100\n",
      "891/891 - 11s - 12ms/step - accuracy: 0.9424 - loss: 0.2705 - val_accuracy: 0.9299 - val_loss: 0.3290 - learning_rate: 3.1250e-05\n",
      "Epoch 82/100\n",
      "891/891 - 11s - 12ms/step - accuracy: 0.9425 - loss: 0.2695 - val_accuracy: 0.9296 - val_loss: 0.3284 - learning_rate: 1.5625e-05\n",
      "Epoch 83/100\n",
      "891/891 - 11s - 13ms/step - accuracy: 0.9425 - loss: 0.2693 - val_accuracy: 0.9293 - val_loss: 0.3288 - learning_rate: 1.5625e-05\n",
      "Epoch 84/100\n",
      "891/891 - 11s - 12ms/step - accuracy: 0.9428 - loss: 0.2675 - val_accuracy: 0.9291 - val_loss: 0.3289 - learning_rate: 1.5625e-05\n",
      "Epoch 85/100\n",
      "891/891 - 11s - 12ms/step - accuracy: 0.9427 - loss: 0.2674 - val_accuracy: 0.9294 - val_loss: 0.3292 - learning_rate: 1.5625e-05\n",
      "Epoch 86/100\n",
      "891/891 - 11s - 12ms/step - accuracy: 0.9430 - loss: 0.2675 - val_accuracy: 0.9298 - val_loss: 0.3286 - learning_rate: 7.8125e-06\n",
      "Epoch 87/100\n",
      "891/891 - 11s - 12ms/step - accuracy: 0.9427 - loss: 0.2682 - val_accuracy: 0.9300 - val_loss: 0.3282 - learning_rate: 7.8125e-06\n",
      "Epoch 88/100\n",
      "891/891 - 11s - 12ms/step - accuracy: 0.9433 - loss: 0.2659 - val_accuracy: 0.9297 - val_loss: 0.3287 - learning_rate: 7.8125e-06\n",
      "Epoch 89/100\n",
      "891/891 - 11s - 12ms/step - accuracy: 0.9434 - loss: 0.2662 - val_accuracy: 0.9297 - val_loss: 0.3286 - learning_rate: 7.8125e-06\n",
      "Epoch 90/100\n",
      "891/891 - 11s - 12ms/step - accuracy: 0.9435 - loss: 0.2656 - val_accuracy: 0.9297 - val_loss: 0.3287 - learning_rate: 7.8125e-06\n",
      "Epoch 91/100\n",
      "891/891 - 11s - 12ms/step - accuracy: 0.9435 - loss: 0.2658 - val_accuracy: 0.9298 - val_loss: 0.3285 - learning_rate: 3.9063e-06\n",
      "Epoch 92/100\n",
      "891/891 - 11s - 12ms/step - accuracy: 0.9432 - loss: 0.2661 - val_accuracy: 0.9299 - val_loss: 0.3282 - learning_rate: 3.9063e-06\n",
      "Epoch 93/100\n",
      "891/891 - 11s - 12ms/step - accuracy: 0.9434 - loss: 0.2655 - val_accuracy: 0.9297 - val_loss: 0.3281 - learning_rate: 3.9063e-06\n",
      "Epoch 94/100\n",
      "891/891 - 11s - 12ms/step - accuracy: 0.9436 - loss: 0.2654 - val_accuracy: 0.9299 - val_loss: 0.3282 - learning_rate: 1.9531e-06\n",
      "Epoch 95/100\n",
      "891/891 - 11s - 12ms/step - accuracy: 0.9437 - loss: 0.2659 - val_accuracy: 0.9301 - val_loss: 0.3282 - learning_rate: 1.9531e-06\n",
      "Epoch 96/100\n",
      "891/891 - 11s - 12ms/step - accuracy: 0.9437 - loss: 0.2642 - val_accuracy: 0.9299 - val_loss: 0.3282 - learning_rate: 1.9531e-06\n",
      "Epoch 97/100\n",
      "891/891 - 11s - 12ms/step - accuracy: 0.9435 - loss: 0.2651 - val_accuracy: 0.9299 - val_loss: 0.3281 - learning_rate: 9.7656e-07\n",
      "Epoch 98/100\n",
      "891/891 - 11s - 12ms/step - accuracy: 0.9440 - loss: 0.2641 - val_accuracy: 0.9300 - val_loss: 0.3282 - learning_rate: 9.7656e-07\n"
     ]
    },
    {
     "data": {
      "text/plain": [
       "<keras.src.callbacks.history.History at 0x20f10967170>"
      ]
     },
     "execution_count": 10,
     "metadata": {},
     "output_type": "execute_result"
    }
   ],
   "source": [
    "\n",
    "# ✅ Increased batch size for stability\n",
    "model.fit(\n",
    "    X_train, y_train,\n",
    "    validation_data=(X_cv, y_cv),\n",
    "    epochs=100,\n",
    "    batch_size=512,\n",
    "    callbacks=callbacks,\n",
    "    verbose=2\n",
    ")"
   ]
  },
  {
   "cell_type": "code",
   "execution_count": 11,
   "id": "e9c5e01c",
   "metadata": {},
   "outputs": [
    {
     "name": "stdout",
     "output_type": "stream",
     "text": [
      "\u001b[1m1782/1782\u001b[0m \u001b[32m━━━━━━━━━━━━━━━━━━━━\u001b[0m\u001b[37m\u001b[0m \u001b[1m3s\u001b[0m 1ms/step\n",
      "Validation Accuracy: 0.9297017543859649\n",
      "\u001b[1m1782/1782\u001b[0m \u001b[32m━━━━━━━━━━━━━━━━━━━━\u001b[0m\u001b[37m\u001b[0m \u001b[1m3s\u001b[0m 2ms/step\n",
      "Test Accuracy: 0.9312631578947368\n"
     ]
    }
   ],
   "source": [
    "# Evaluation\n",
    "logits_cv = model.predict(X_cv)\n",
    "y_cv_pred = tf.argmax(tf.nn.softmax(logits_cv, axis=1), axis=1).numpy()\n",
    "print(\"Validation Accuracy:\", accuracy_score(y_cv, y_cv_pred))\n",
    "\n",
    "logits_test = model.predict(X_test)\n",
    "y_test_pred = tf.argmax(tf.nn.softmax(logits_test, axis=1), axis=1).numpy()\n",
    "print(\"Test Accuracy:\", accuracy_score(y_test, y_test_pred))"
   ]
  },
  {
   "cell_type": "code",
   "execution_count": null,
   "id": "f350901f",
   "metadata": {},
   "outputs": [
    {
     "ename": "ValueError",
     "evalue": "Invalid filepath extension for saving. Please add either a `.keras` extension for the native Keras format (recommended) or a `.h5` extension. Use `model.export(filepath)` if you want to export a SavedModel for use with TFLite/TFServing/etc. Received: filepath=doodle_model.",
     "output_type": "error",
     "traceback": [
      "\u001b[31m---------------------------------------------------------------------------\u001b[39m",
      "\u001b[31mValueError\u001b[39m                                Traceback (most recent call last)",
      "\u001b[36mCell\u001b[39m\u001b[36m \u001b[39m\u001b[32mIn[14]\u001b[39m\u001b[32m, line 2\u001b[39m\n\u001b[32m      1\u001b[39m \u001b[38;5;66;03m# Save model and normalization\u001b[39;00m\n\u001b[32m----> \u001b[39m\u001b[32m2\u001b[39m \u001b[43mmodel\u001b[49m\u001b[43m.\u001b[49m\u001b[43msave\u001b[49m\u001b[43m(\u001b[49m\u001b[33;43m\"\u001b[39;49m\u001b[33;43mdoodle_model\u001b[39;49m\u001b[33;43m\"\u001b[39;49m\u001b[43m)\u001b[49m\n",
      "\u001b[36mFile \u001b[39m\u001b[32mc:\\Users\\mehim\\anaconda3\\envs\\ml_env\\Lib\\site-packages\\keras\\src\\utils\\traceback_utils.py:122\u001b[39m, in \u001b[36mfilter_traceback.<locals>.error_handler\u001b[39m\u001b[34m(*args, **kwargs)\u001b[39m\n\u001b[32m    119\u001b[39m     filtered_tb = _process_traceback_frames(e.__traceback__)\n\u001b[32m    120\u001b[39m     \u001b[38;5;66;03m# To get the full stack trace, call:\u001b[39;00m\n\u001b[32m    121\u001b[39m     \u001b[38;5;66;03m# `keras.config.disable_traceback_filtering()`\u001b[39;00m\n\u001b[32m--> \u001b[39m\u001b[32m122\u001b[39m     \u001b[38;5;28;01mraise\u001b[39;00m e.with_traceback(filtered_tb) \u001b[38;5;28;01mfrom\u001b[39;00m\u001b[38;5;250m \u001b[39m\u001b[38;5;28;01mNone\u001b[39;00m\n\u001b[32m    123\u001b[39m \u001b[38;5;28;01mfinally\u001b[39;00m:\n\u001b[32m    124\u001b[39m     \u001b[38;5;28;01mdel\u001b[39;00m filtered_tb\n",
      "\u001b[36mFile \u001b[39m\u001b[32mc:\\Users\\mehim\\anaconda3\\envs\\ml_env\\Lib\\site-packages\\keras\\src\\saving\\saving_api.py:114\u001b[39m, in \u001b[36msave_model\u001b[39m\u001b[34m(model, filepath, overwrite, zipped, **kwargs)\u001b[39m\n\u001b[32m    110\u001b[39m \u001b[38;5;28;01mif\u001b[39;00m \u001b[38;5;28mstr\u001b[39m(filepath).endswith((\u001b[33m\"\u001b[39m\u001b[33m.h5\u001b[39m\u001b[33m\"\u001b[39m, \u001b[33m\"\u001b[39m\u001b[33m.hdf5\u001b[39m\u001b[33m\"\u001b[39m)):\n\u001b[32m    111\u001b[39m     \u001b[38;5;28;01mreturn\u001b[39;00m legacy_h5_format.save_model_to_hdf5(\n\u001b[32m    112\u001b[39m         model, filepath, overwrite, include_optimizer\n\u001b[32m    113\u001b[39m     )\n\u001b[32m--> \u001b[39m\u001b[32m114\u001b[39m \u001b[38;5;28;01mraise\u001b[39;00m \u001b[38;5;167;01mValueError\u001b[39;00m(\n\u001b[32m    115\u001b[39m     \u001b[33m\"\u001b[39m\u001b[33mInvalid filepath extension for saving. \u001b[39m\u001b[33m\"\u001b[39m\n\u001b[32m    116\u001b[39m     \u001b[33m\"\u001b[39m\u001b[33mPlease add either a `.keras` extension for the native Keras \u001b[39m\u001b[33m\"\u001b[39m\n\u001b[32m    117\u001b[39m     \u001b[33mf\u001b[39m\u001b[33m\"\u001b[39m\u001b[33mformat (recommended) or a `.h5` extension. \u001b[39m\u001b[33m\"\u001b[39m\n\u001b[32m    118\u001b[39m     \u001b[33m\"\u001b[39m\u001b[33mUse `model.export(filepath)` if you want to export a SavedModel \u001b[39m\u001b[33m\"\u001b[39m\n\u001b[32m    119\u001b[39m     \u001b[33m\"\u001b[39m\u001b[33mfor use with TFLite/TFServing/etc. \u001b[39m\u001b[33m\"\u001b[39m\n\u001b[32m    120\u001b[39m     \u001b[33mf\u001b[39m\u001b[33m\"\u001b[39m\u001b[33mReceived: filepath=\u001b[39m\u001b[38;5;132;01m{\u001b[39;00mfilepath\u001b[38;5;132;01m}\u001b[39;00m\u001b[33m.\u001b[39m\u001b[33m\"\u001b[39m\n\u001b[32m    121\u001b[39m )\n",
      "\u001b[31mValueError\u001b[39m: Invalid filepath extension for saving. Please add either a `.keras` extension for the native Keras format (recommended) or a `.h5` extension. Use `model.export(filepath)` if you want to export a SavedModel for use with TFLite/TFServing/etc. Received: filepath=doodle_model."
     ]
    }
   ],
   "source": [
    "# Save model and normalization\n",
    "model.save(\"doodle_model.keras\")"
   ]
  }
 ],
 "metadata": {
  "kernelspec": {
   "display_name": "ml_env",
   "language": "python",
   "name": "python3"
  },
  "language_info": {
   "codemirror_mode": {
    "name": "ipython",
    "version": 3
   },
   "file_extension": ".py",
   "mimetype": "text/x-python",
   "name": "python",
   "nbconvert_exporter": "python",
   "pygments_lexer": "ipython3",
   "version": "3.12.9"
  }
 },
 "nbformat": 4,
 "nbformat_minor": 5
}
