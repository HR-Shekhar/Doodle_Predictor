{
 "cells": [
  {
   "cell_type": "code",
   "execution_count": 2,
   "id": "2befcc52",
   "metadata": {},
   "outputs": [],
   "source": [
    "import numpy as np\n",
    "import os\n",
    "import tensorflow as tf\n",
    "from sklearn.metrics import accuracy_score\n",
    "from tensorflow.keras.models import Sequential\n",
    "from tensorflow.keras.layers import Dense, Dropout\n",
    "from tensorflow.keras import regularizers\n",
    "from tensorflow.keras.callbacks import EarlyStopping, ReduceLROnPlateau\n",
    "from sklearn.model_selection import train_test_split"
   ]
  },
  {
   "cell_type": "code",
   "execution_count": 3,
   "id": "b633dbe3",
   "metadata": {},
   "outputs": [],
   "source": [
    "# Load Data\n",
    "data_dir = './data/'\n",
    "class_names = [\"apple\", \"bat\", \"circle\", \"clock\", \"cloud\",\n",
    "               \"crown\", \"diamond\", \"donut\", \"fish\",\n",
    "               \"hot_dog\", \"lightning\", \"mountain\", \"skull\",\n",
    "               \"smiley_face\", \"square\", \"star\", \"sun\", \"t-shirt\", \"tree\"]"
   ]
  },
  {
   "cell_type": "code",
   "execution_count": 4,
   "id": "f82e7e3d",
   "metadata": {},
   "outputs": [],
   "source": [
    "X, y = [], []\n",
    "\n",
    "for label, class_name in enumerate(class_names):\n",
    "    file_path = os.path.join(data_dir, f\"{class_name}.npy\")\n",
    "    data = np.load(file_path)  # shape: (30000, 784)\n",
    "    X.append(data)\n",
    "    y.append(np.full((data.shape[0],), label))"
   ]
  },
  {
   "cell_type": "code",
   "execution_count": 5,
   "id": "6de0ec15",
   "metadata": {},
   "outputs": [],
   "source": [
    "\n",
    "X = np.vstack(X)  # shape: (570000, 784)\n",
    "y = np.hstack(y)  # shape: (570000,)"
   ]
  },
  {
   "cell_type": "code",
   "execution_count": 6,
   "id": "9a31f665",
   "metadata": {},
   "outputs": [],
   "source": [
    "# ✅ Proper Normalization for image pixel data\n",
    "X = X.astype('float32') / 255.0"
   ]
  },
  {
   "cell_type": "code",
   "execution_count": 7,
   "id": "0a293cb4",
   "metadata": {},
   "outputs": [],
   "source": [
    "X_train, X_, y_train, y_ = train_test_split(X, y, test_size=0.2, random_state=42, stratify=y)\n",
    "X_cv, X_test, y_cv, y_test = train_test_split(X_, y_, test_size=0.5, random_state=42, stratify=y_)"
   ]
  },
  {
   "cell_type": "code",
   "execution_count": 8,
   "id": "835c45d4",
   "metadata": {},
   "outputs": [],
   "source": [
    "# ✅ Improved and Simplified Model\n",
    "model = Sequential([\n",
    "    Dense(512, activation='relu', input_shape=(784,), kernel_regularizer=regularizers.l2(0.0001)),\n",
    "    Dropout(0.3),\n",
    "    Dense(256, activation='relu', kernel_regularizer=regularizers.l2(0.0001)),\n",
    "    Dropout(0.3),\n",
    "    Dense(128, activation='relu', kernel_regularizer=regularizers.l2(0.0001)),\n",
    "    Dropout(0.2),\n",
    "    Dense(19, activation='linear')  # logits\n",
    "])"
   ]
  },
  {
   "cell_type": "code",
   "execution_count": 9,
   "id": "9c91f3a7",
   "metadata": {},
   "outputs": [],
   "source": [
    "# Compile\n",
    "model.compile(\n",
    "    loss=tf.keras.losses.SparseCategoricalCrossentropy(from_logits=True),\n",
    "    optimizer=tf.keras.optimizers.Adam(learning_rate=0.001),\n",
    "    metrics=['accuracy']\n",
    ")"
   ]
  },
  {
   "cell_type": "code",
   "execution_count": 10,
   "id": "77389ea4",
   "metadata": {},
   "outputs": [],
   "source": [
    "\n",
    "# ✅ Callbacks\n",
    "callbacks = [\n",
    "    EarlyStopping(patience=5, restore_best_weights=True),\n",
    "    ReduceLROnPlateau(patience=3, factor=0.5)\n",
    "]"
   ]
  },
  {
   "cell_type": "code",
   "execution_count": 11,
   "id": "92e2f153",
   "metadata": {},
   "outputs": [
    {
     "name": "stdout",
     "output_type": "stream",
     "text": [
      "Epoch 1/100\n",
      "891/891 - 42s - loss: 0.9493 - accuracy: 0.7603 - val_loss: 0.6256 - val_accuracy: 0.8565 - lr: 0.0010 - 42s/epoch - 47ms/step\n",
      "Epoch 2/100\n",
      "891/891 - 30s - loss: 0.6712 - accuracy: 0.8447 - val_loss: 0.5427 - val_accuracy: 0.8804 - lr: 0.0010 - 30s/epoch - 34ms/step\n",
      "Epoch 3/100\n",
      "891/891 - 32s - loss: 0.6044 - accuracy: 0.8630 - val_loss: 0.5103 - val_accuracy: 0.8898 - lr: 0.0010 - 32s/epoch - 35ms/step\n",
      "Epoch 4/100\n",
      "891/891 - 29s - loss: 0.5677 - accuracy: 0.8734 - val_loss: 0.4924 - val_accuracy: 0.8945 - lr: 0.0010 - 29s/epoch - 32ms/step\n",
      "Epoch 5/100\n",
      "891/891 - 28s - loss: 0.5451 - accuracy: 0.8795 - val_loss: 0.4755 - val_accuracy: 0.8988 - lr: 0.0010 - 28s/epoch - 31ms/step\n",
      "Epoch 6/100\n",
      "891/891 - 48s - loss: 0.5304 - accuracy: 0.8835 - val_loss: 0.4682 - val_accuracy: 0.9013 - lr: 0.0010 - 48s/epoch - 54ms/step\n",
      "Epoch 7/100\n",
      "891/891 - 33s - loss: 0.5196 - accuracy: 0.8865 - val_loss: 0.4578 - val_accuracy: 0.9045 - lr: 0.0010 - 33s/epoch - 37ms/step\n",
      "Epoch 8/100\n",
      "891/891 - 30s - loss: 0.5108 - accuracy: 0.8898 - val_loss: 0.4560 - val_accuracy: 0.9049 - lr: 0.0010 - 30s/epoch - 33ms/step\n",
      "Epoch 9/100\n",
      "891/891 - 30s - loss: 0.5045 - accuracy: 0.8911 - val_loss: 0.4483 - val_accuracy: 0.9075 - lr: 0.0010 - 30s/epoch - 34ms/step\n",
      "Epoch 10/100\n",
      "891/891 - 33s - loss: 0.5001 - accuracy: 0.8923 - val_loss: 0.4481 - val_accuracy: 0.9078 - lr: 0.0010 - 33s/epoch - 37ms/step\n",
      "Epoch 11/100\n",
      "891/891 - 32s - loss: 0.4952 - accuracy: 0.8937 - val_loss: 0.4417 - val_accuracy: 0.9105 - lr: 0.0010 - 32s/epoch - 36ms/step\n",
      "Epoch 12/100\n",
      "891/891 - 26s - loss: 0.4929 - accuracy: 0.8946 - val_loss: 0.4396 - val_accuracy: 0.9099 - lr: 0.0010 - 26s/epoch - 29ms/step\n",
      "Epoch 13/100\n",
      "891/891 - 23s - loss: 0.4900 - accuracy: 0.8956 - val_loss: 0.4383 - val_accuracy: 0.9108 - lr: 0.0010 - 23s/epoch - 26ms/step\n",
      "Epoch 14/100\n",
      "891/891 - 35s - loss: 0.4877 - accuracy: 0.8962 - val_loss: 0.4347 - val_accuracy: 0.9116 - lr: 0.0010 - 35s/epoch - 40ms/step\n",
      "Epoch 15/100\n",
      "891/891 - 31s - loss: 0.4857 - accuracy: 0.8969 - val_loss: 0.4354 - val_accuracy: 0.9116 - lr: 0.0010 - 31s/epoch - 34ms/step\n",
      "Epoch 16/100\n",
      "891/891 - 30s - loss: 0.4836 - accuracy: 0.8974 - val_loss: 0.4315 - val_accuracy: 0.9130 - lr: 0.0010 - 30s/epoch - 33ms/step\n",
      "Epoch 17/100\n",
      "891/891 - 31s - loss: 0.4827 - accuracy: 0.8976 - val_loss: 0.4284 - val_accuracy: 0.9141 - lr: 0.0010 - 31s/epoch - 35ms/step\n",
      "Epoch 18/100\n",
      "891/891 - 30s - loss: 0.4788 - accuracy: 0.8988 - val_loss: 0.4302 - val_accuracy: 0.9134 - lr: 0.0010 - 30s/epoch - 34ms/step\n",
      "Epoch 19/100\n",
      "891/891 - 32s - loss: 0.4793 - accuracy: 0.8986 - val_loss: 0.4291 - val_accuracy: 0.9135 - lr: 0.0010 - 32s/epoch - 36ms/step\n",
      "Epoch 20/100\n",
      "891/891 - 30s - loss: 0.4783 - accuracy: 0.8989 - val_loss: 0.4334 - val_accuracy: 0.9125 - lr: 0.0010 - 30s/epoch - 34ms/step\n",
      "Epoch 21/100\n",
      "891/891 - 29s - loss: 0.4339 - accuracy: 0.9103 - val_loss: 0.3993 - val_accuracy: 0.9200 - lr: 5.0000e-04 - 29s/epoch - 33ms/step\n",
      "Epoch 22/100\n",
      "891/891 - 27s - loss: 0.4179 - accuracy: 0.9128 - val_loss: 0.3917 - val_accuracy: 0.9202 - lr: 5.0000e-04 - 27s/epoch - 31ms/step\n",
      "Epoch 23/100\n",
      "891/891 - 30s - loss: 0.4102 - accuracy: 0.9133 - val_loss: 0.3867 - val_accuracy: 0.9203 - lr: 5.0000e-04 - 30s/epoch - 33ms/step\n",
      "Epoch 24/100\n",
      "891/891 - 29s - loss: 0.4060 - accuracy: 0.9134 - val_loss: 0.3830 - val_accuracy: 0.9209 - lr: 5.0000e-04 - 29s/epoch - 33ms/step\n",
      "Epoch 25/100\n",
      "891/891 - 29s - loss: 0.4014 - accuracy: 0.9141 - val_loss: 0.3781 - val_accuracy: 0.9220 - lr: 5.0000e-04 - 29s/epoch - 33ms/step\n",
      "Epoch 26/100\n",
      "891/891 - 19s - loss: 0.3976 - accuracy: 0.9147 - val_loss: 0.3774 - val_accuracy: 0.9225 - lr: 5.0000e-04 - 19s/epoch - 21ms/step\n",
      "Epoch 27/100\n",
      "891/891 - 29s - loss: 0.3949 - accuracy: 0.9153 - val_loss: 0.3776 - val_accuracy: 0.9207 - lr: 5.0000e-04 - 29s/epoch - 32ms/step\n",
      "Epoch 28/100\n",
      "891/891 - 29s - loss: 0.3935 - accuracy: 0.9153 - val_loss: 0.3755 - val_accuracy: 0.9208 - lr: 5.0000e-04 - 29s/epoch - 33ms/step\n",
      "Epoch 29/100\n",
      "891/891 - 29s - loss: 0.3898 - accuracy: 0.9159 - val_loss: 0.3750 - val_accuracy: 0.9211 - lr: 5.0000e-04 - 29s/epoch - 33ms/step\n",
      "Epoch 30/100\n",
      "891/891 - 29s - loss: 0.3908 - accuracy: 0.9155 - val_loss: 0.3712 - val_accuracy: 0.9225 - lr: 5.0000e-04 - 29s/epoch - 32ms/step\n",
      "Epoch 31/100\n",
      "891/891 - 29s - loss: 0.3887 - accuracy: 0.9162 - val_loss: 0.3737 - val_accuracy: 0.9216 - lr: 5.0000e-04 - 29s/epoch - 32ms/step\n",
      "Epoch 32/100\n",
      "891/891 - 29s - loss: 0.3864 - accuracy: 0.9165 - val_loss: 0.3707 - val_accuracy: 0.9221 - lr: 5.0000e-04 - 29s/epoch - 32ms/step\n",
      "Epoch 33/100\n",
      "891/891 - 29s - loss: 0.3845 - accuracy: 0.9169 - val_loss: 0.3690 - val_accuracy: 0.9234 - lr: 5.0000e-04 - 29s/epoch - 33ms/step\n",
      "Epoch 34/100\n",
      "891/891 - 29s - loss: 0.3838 - accuracy: 0.9169 - val_loss: 0.3725 - val_accuracy: 0.9214 - lr: 5.0000e-04 - 29s/epoch - 33ms/step\n",
      "Epoch 35/100\n",
      "891/891 - 29s - loss: 0.3829 - accuracy: 0.9171 - val_loss: 0.3701 - val_accuracy: 0.9231 - lr: 5.0000e-04 - 29s/epoch - 33ms/step\n",
      "Epoch 36/100\n",
      "891/891 - 29s - loss: 0.3821 - accuracy: 0.9172 - val_loss: 0.3742 - val_accuracy: 0.9208 - lr: 5.0000e-04 - 29s/epoch - 32ms/step\n",
      "Epoch 37/100\n",
      "891/891 - 29s - loss: 0.3577 - accuracy: 0.9240 - val_loss: 0.3560 - val_accuracy: 0.9247 - lr: 2.5000e-04 - 29s/epoch - 33ms/step\n",
      "Epoch 38/100\n",
      "891/891 - 29s - loss: 0.3490 - accuracy: 0.9256 - val_loss: 0.3543 - val_accuracy: 0.9259 - lr: 2.5000e-04 - 29s/epoch - 33ms/step\n",
      "Epoch 39/100\n",
      "891/891 - 29s - loss: 0.3450 - accuracy: 0.9265 - val_loss: 0.3523 - val_accuracy: 0.9255 - lr: 2.5000e-04 - 29s/epoch - 32ms/step\n",
      "Epoch 40/100\n",
      "891/891 - 18s - loss: 0.3422 - accuracy: 0.9266 - val_loss: 0.3508 - val_accuracy: 0.9263 - lr: 2.5000e-04 - 18s/epoch - 20ms/step\n",
      "Epoch 41/100\n",
      "891/891 - 27s - loss: 0.3386 - accuracy: 0.9274 - val_loss: 0.3495 - val_accuracy: 0.9254 - lr: 2.5000e-04 - 27s/epoch - 31ms/step\n",
      "Epoch 42/100\n",
      "891/891 - 29s - loss: 0.3362 - accuracy: 0.9276 - val_loss: 0.3513 - val_accuracy: 0.9258 - lr: 2.5000e-04 - 29s/epoch - 32ms/step\n",
      "Epoch 43/100\n",
      "891/891 - 28s - loss: 0.3353 - accuracy: 0.9272 - val_loss: 0.3491 - val_accuracy: 0.9254 - lr: 2.5000e-04 - 28s/epoch - 32ms/step\n",
      "Epoch 44/100\n",
      "891/891 - 29s - loss: 0.3339 - accuracy: 0.9274 - val_loss: 0.3501 - val_accuracy: 0.9245 - lr: 2.5000e-04 - 29s/epoch - 33ms/step\n",
      "Epoch 45/100\n",
      "891/891 - 29s - loss: 0.3325 - accuracy: 0.9279 - val_loss: 0.3493 - val_accuracy: 0.9249 - lr: 2.5000e-04 - 29s/epoch - 33ms/step\n",
      "Epoch 46/100\n",
      "891/891 - 29s - loss: 0.3307 - accuracy: 0.9281 - val_loss: 0.3471 - val_accuracy: 0.9258 - lr: 2.5000e-04 - 29s/epoch - 32ms/step\n",
      "Epoch 47/100\n",
      "891/891 - 28s - loss: 0.3290 - accuracy: 0.9287 - val_loss: 0.3464 - val_accuracy: 0.9259 - lr: 2.5000e-04 - 28s/epoch - 32ms/step\n",
      "Epoch 48/100\n",
      "891/891 - 28s - loss: 0.3286 - accuracy: 0.9285 - val_loss: 0.3442 - val_accuracy: 0.9267 - lr: 2.5000e-04 - 28s/epoch - 32ms/step\n",
      "Epoch 49/100\n",
      "891/891 - 28s - loss: 0.3276 - accuracy: 0.9288 - val_loss: 0.3452 - val_accuracy: 0.9265 - lr: 2.5000e-04 - 28s/epoch - 32ms/step\n",
      "Epoch 50/100\n",
      "891/891 - 28s - loss: 0.3264 - accuracy: 0.9289 - val_loss: 0.3471 - val_accuracy: 0.9261 - lr: 2.5000e-04 - 28s/epoch - 32ms/step\n",
      "Epoch 51/100\n",
      "891/891 - 28s - loss: 0.3253 - accuracy: 0.9291 - val_loss: 0.3433 - val_accuracy: 0.9262 - lr: 2.5000e-04 - 28s/epoch - 32ms/step\n",
      "Epoch 52/100\n",
      "891/891 - 28s - loss: 0.3255 - accuracy: 0.9283 - val_loss: 0.3452 - val_accuracy: 0.9263 - lr: 2.5000e-04 - 28s/epoch - 32ms/step\n",
      "Epoch 53/100\n",
      "891/891 - 28s - loss: 0.3228 - accuracy: 0.9297 - val_loss: 0.3453 - val_accuracy: 0.9255 - lr: 2.5000e-04 - 28s/epoch - 32ms/step\n",
      "Epoch 54/100\n",
      "891/891 - 21s - loss: 0.3235 - accuracy: 0.9294 - val_loss: 0.3428 - val_accuracy: 0.9262 - lr: 2.5000e-04 - 21s/epoch - 24ms/step\n",
      "Epoch 55/100\n",
      "891/891 - 24s - loss: 0.3230 - accuracy: 0.9292 - val_loss: 0.3416 - val_accuracy: 0.9264 - lr: 2.5000e-04 - 24s/epoch - 27ms/step\n",
      "Epoch 56/100\n",
      "891/891 - 28s - loss: 0.3211 - accuracy: 0.9295 - val_loss: 0.3442 - val_accuracy: 0.9256 - lr: 2.5000e-04 - 28s/epoch - 32ms/step\n",
      "Epoch 57/100\n",
      "891/891 - 28s - loss: 0.3223 - accuracy: 0.9293 - val_loss: 0.3429 - val_accuracy: 0.9261 - lr: 2.5000e-04 - 28s/epoch - 32ms/step\n",
      "Epoch 58/100\n",
      "891/891 - 28s - loss: 0.3205 - accuracy: 0.9297 - val_loss: 0.3436 - val_accuracy: 0.9262 - lr: 2.5000e-04 - 28s/epoch - 32ms/step\n",
      "Epoch 59/100\n",
      "891/891 - 28s - loss: 0.3051 - accuracy: 0.9340 - val_loss: 0.3359 - val_accuracy: 0.9281 - lr: 1.2500e-04 - 28s/epoch - 31ms/step\n",
      "Epoch 60/100\n",
      "891/891 - 28s - loss: 0.3026 - accuracy: 0.9349 - val_loss: 0.3346 - val_accuracy: 0.9276 - lr: 1.2500e-04 - 28s/epoch - 32ms/step\n",
      "Epoch 61/100\n",
      "891/891 - 28s - loss: 0.3000 - accuracy: 0.9353 - val_loss: 0.3348 - val_accuracy: 0.9287 - lr: 1.2500e-04 - 28s/epoch - 32ms/step\n",
      "Epoch 62/100\n",
      "891/891 - 29s - loss: 0.2989 - accuracy: 0.9354 - val_loss: 0.3353 - val_accuracy: 0.9284 - lr: 1.2500e-04 - 29s/epoch - 32ms/step\n",
      "Epoch 63/100\n",
      "891/891 - 28s - loss: 0.2963 - accuracy: 0.9359 - val_loss: 0.3348 - val_accuracy: 0.9283 - lr: 1.2500e-04 - 28s/epoch - 31ms/step\n",
      "Epoch 64/100\n",
      "891/891 - 28s - loss: 0.2889 - accuracy: 0.9382 - val_loss: 0.3317 - val_accuracy: 0.9285 - lr: 6.2500e-05 - 28s/epoch - 32ms/step\n",
      "Epoch 65/100\n",
      "891/891 - 28s - loss: 0.2860 - accuracy: 0.9387 - val_loss: 0.3329 - val_accuracy: 0.9285 - lr: 6.2500e-05 - 28s/epoch - 32ms/step\n",
      "Epoch 66/100\n",
      "891/891 - 28s - loss: 0.2854 - accuracy: 0.9388 - val_loss: 0.3324 - val_accuracy: 0.9287 - lr: 6.2500e-05 - 28s/epoch - 32ms/step\n",
      "Epoch 67/100\n",
      "891/891 - 28s - loss: 0.2841 - accuracy: 0.9391 - val_loss: 0.3308 - val_accuracy: 0.9291 - lr: 6.2500e-05 - 28s/epoch - 32ms/step\n",
      "Epoch 68/100\n",
      "891/891 - 24s - loss: 0.2836 - accuracy: 0.9392 - val_loss: 0.3307 - val_accuracy: 0.9286 - lr: 6.2500e-05 - 24s/epoch - 27ms/step\n",
      "Epoch 69/100\n",
      "891/891 - 21s - loss: 0.2817 - accuracy: 0.9394 - val_loss: 0.3311 - val_accuracy: 0.9289 - lr: 6.2500e-05 - 21s/epoch - 24ms/step\n",
      "Epoch 70/100\n",
      "891/891 - 29s - loss: 0.2812 - accuracy: 0.9400 - val_loss: 0.3317 - val_accuracy: 0.9290 - lr: 6.2500e-05 - 29s/epoch - 32ms/step\n",
      "Epoch 71/100\n",
      "891/891 - 28s - loss: 0.2808 - accuracy: 0.9400 - val_loss: 0.3315 - val_accuracy: 0.9288 - lr: 6.2500e-05 - 28s/epoch - 31ms/step\n",
      "Epoch 72/100\n",
      "891/891 - 28s - loss: 0.2767 - accuracy: 0.9408 - val_loss: 0.3304 - val_accuracy: 0.9290 - lr: 3.1250e-05 - 28s/epoch - 32ms/step\n",
      "Epoch 73/100\n",
      "891/891 - 29s - loss: 0.2751 - accuracy: 0.9414 - val_loss: 0.3304 - val_accuracy: 0.9291 - lr: 3.1250e-05 - 29s/epoch - 32ms/step\n",
      "Epoch 74/100\n",
      "891/891 - 28s - loss: 0.2751 - accuracy: 0.9411 - val_loss: 0.3299 - val_accuracy: 0.9294 - lr: 3.1250e-05 - 28s/epoch - 32ms/step\n",
      "Epoch 75/100\n",
      "891/891 - 28s - loss: 0.2749 - accuracy: 0.9415 - val_loss: 0.3296 - val_accuracy: 0.9294 - lr: 3.1250e-05 - 28s/epoch - 32ms/step\n",
      "Epoch 76/100\n",
      "891/891 - 28s - loss: 0.2734 - accuracy: 0.9417 - val_loss: 0.3304 - val_accuracy: 0.9295 - lr: 3.1250e-05 - 28s/epoch - 32ms/step\n",
      "Epoch 77/100\n",
      "891/891 - 28s - loss: 0.2730 - accuracy: 0.9417 - val_loss: 0.3290 - val_accuracy: 0.9294 - lr: 3.1250e-05 - 28s/epoch - 32ms/step\n",
      "Epoch 78/100\n",
      "891/891 - 29s - loss: 0.2732 - accuracy: 0.9416 - val_loss: 0.3294 - val_accuracy: 0.9292 - lr: 3.1250e-05 - 29s/epoch - 32ms/step\n",
      "Epoch 79/100\n",
      "891/891 - 28s - loss: 0.2735 - accuracy: 0.9416 - val_loss: 0.3295 - val_accuracy: 0.9295 - lr: 3.1250e-05 - 28s/epoch - 32ms/step\n",
      "Epoch 80/100\n",
      "891/891 - 31s - loss: 0.2721 - accuracy: 0.9416 - val_loss: 0.3298 - val_accuracy: 0.9291 - lr: 3.1250e-05 - 31s/epoch - 35ms/step\n",
      "Epoch 81/100\n",
      "891/891 - 32s - loss: 0.2702 - accuracy: 0.9427 - val_loss: 0.3292 - val_accuracy: 0.9289 - lr: 1.5625e-05 - 32s/epoch - 36ms/step\n",
      "Epoch 82/100\n",
      "891/891 - 29s - loss: 0.2690 - accuracy: 0.9429 - val_loss: 0.3292 - val_accuracy: 0.9295 - lr: 1.5625e-05 - 29s/epoch - 33ms/step\n"
     ]
    },
    {
     "data": {
      "text/plain": [
       "<keras.callbacks.History at 0x1b10052f250>"
      ]
     },
     "execution_count": 11,
     "metadata": {},
     "output_type": "execute_result"
    }
   ],
   "source": [
    "\n",
    "# ✅ Increased batch size for stability\n",
    "model.fit(\n",
    "    X_train, y_train,\n",
    "    validation_data=(X_cv, y_cv),\n",
    "    epochs=100,\n",
    "    batch_size=512,\n",
    "    callbacks=callbacks,\n",
    "    verbose=2\n",
    ")"
   ]
  },
  {
   "cell_type": "code",
   "execution_count": 12,
   "id": "e9c5e01c",
   "metadata": {},
   "outputs": [
    {
     "name": "stdout",
     "output_type": "stream",
     "text": [
      "1782/1782 [==============================] - 6s 3ms/step\n",
      "Validation Accuracy: 0.9293859649122806\n",
      "1782/1782 [==============================] - 12s 7ms/step\n",
      "Test Accuracy: 0.9311578947368421\n"
     ]
    }
   ],
   "source": [
    "# Evaluation\n",
    "logits_cv = model.predict(X_cv)\n",
    "y_cv_pred = tf.argmax(tf.nn.softmax(logits_cv, axis=1), axis=1).numpy()\n",
    "print(\"Validation Accuracy:\", accuracy_score(y_cv, y_cv_pred))\n",
    "\n",
    "logits_test = model.predict(X_test)\n",
    "y_test_pred = tf.argmax(tf.nn.softmax(logits_test, axis=1), axis=1).numpy()\n",
    "print(\"Test Accuracy:\", accuracy_score(y_test, y_test_pred))"
   ]
  },
  {
   "cell_type": "code",
   "execution_count": 14,
   "id": "f350901f",
   "metadata": {},
   "outputs": [],
   "source": [
    "# Save model and normalization\n",
    "model.save(\"doodle_model.keras\")"
   ]
  }
 ],
 "metadata": {
  "kernelspec": {
   "display_name": "base",
   "language": "python",
   "name": "python3"
  },
  "language_info": {
   "codemirror_mode": {
    "name": "ipython",
    "version": 3
   },
   "file_extension": ".py",
   "mimetype": "text/x-python",
   "name": "python",
   "nbconvert_exporter": "python",
   "pygments_lexer": "ipython3",
   "version": "3.10.13"
  }
 },
 "nbformat": 4,
 "nbformat_minor": 5
}
