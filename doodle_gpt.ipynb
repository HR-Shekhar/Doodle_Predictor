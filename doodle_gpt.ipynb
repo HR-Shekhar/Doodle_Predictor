{
 "cells": [
  {
   "cell_type": "code",
   "execution_count": 47,
   "id": "2befcc52",
   "metadata": {},
   "outputs": [],
   "source": [
    "import numpy as np\n",
    "import os\n",
    "import tensorflow as tf\n",
    "from sklearn.metrics import accuracy_score\n",
    "from tensorflow.keras.models import Sequential\n",
    "from tensorflow.keras.layers import Dense, Dropout, Input\n",
    "from tensorflow.keras import regularizers\n",
    "from tensorflow.keras.callbacks import EarlyStopping, ReduceLROnPlateau\n",
    "from sklearn.model_selection import train_test_split"
   ]
  },
  {
   "cell_type": "code",
   "execution_count": 48,
   "id": "b633dbe3",
   "metadata": {},
   "outputs": [],
   "source": [
    "# Load Data\n",
    "data_dir = './data/'\n",
    "class_names = [\"apple\", \"bat\", \"circle\", \"clock\", \"cloud\",\n",
    "               \"crown\", \"diamond\", \"donut\", \"fish\",\n",
    "               \"hot_dog\", \"lightning\", \"mountain\", \"skull\",\n",
    "               \"smiley_face\", \"square\", \"star\", \"sun\", \"t-shirt\", \"tree\"]"
   ]
  },
  {
   "cell_type": "code",
   "execution_count": 49,
   "id": "f82e7e3d",
   "metadata": {},
   "outputs": [],
   "source": [
    "X = []\n",
    "y = []\n",
    "\n",
    "# Append data one by one from each file in data folder to X and y\n",
    "for label, class_name in enumerate(class_names):\n",
    "    file_path = os.path.join(data_dir, f\"{class_name}.npy\")\n",
    "    data = np.load(file_path)  # shape: (30000, 784)\n",
    "\n",
    "    X.append(data)\n",
    "    y.append(np.full((data.shape[0],), label))"
   ]
  },
  {
   "cell_type": "code",
   "execution_count": 50,
   "id": "9bcb6ec7",
   "metadata": {},
   "outputs": [
    {
     "data": {
      "text/plain": [
       "(19, 30000, 784)"
      ]
     },
     "execution_count": 50,
     "metadata": {},
     "output_type": "execute_result"
    }
   ],
   "source": [
    "np.array(X).shape"
   ]
  },
  {
   "cell_type": "code",
   "execution_count": 51,
   "id": "88852739",
   "metadata": {},
   "outputs": [
    {
     "data": {
      "text/plain": [
       "(19, 30000)"
      ]
     },
     "execution_count": 51,
     "metadata": {},
     "output_type": "execute_result"
    }
   ],
   "source": [
    "np.array(y).shape"
   ]
  },
  {
   "cell_type": "code",
   "execution_count": 52,
   "id": "6de0ec15",
   "metadata": {},
   "outputs": [],
   "source": [
    "\n",
    "X = np.vstack(X)  # shape: (570000, 784)\n",
    "y = np.hstack(y)  # shape: (570000,)"
   ]
  },
  {
   "cell_type": "code",
   "execution_count": 53,
   "id": "9a31f665",
   "metadata": {},
   "outputs": [],
   "source": [
    "# ✅ Max Normalization for image pixel data\n",
    "X = X.astype('float32') / 255.0  # max value of a pixel is 255"
   ]
  },
  {
   "cell_type": "code",
   "execution_count": 54,
   "id": "0a293cb4",
   "metadata": {},
   "outputs": [],
   "source": [
    "X_train, X_, y_train, y_ = train_test_split(X, y, test_size=0.2, random_state=42, stratify=y)\n",
    "X_cv, X_test, y_cv, y_test = train_test_split(X_, y_, test_size=0.5, random_state=42, stratify=y_)"
   ]
  },
  {
   "cell_type": "code",
   "execution_count": 55,
   "id": "835c45d4",
   "metadata": {},
   "outputs": [
    {
     "name": "stderr",
     "output_type": "stream",
     "text": [
      "c:\\Users\\mehim\\anaconda3\\envs\\ml_env\\Lib\\site-packages\\keras\\src\\layers\\core\\dense.py:87: UserWarning: Do not pass an `input_shape`/`input_dim` argument to a layer. When using Sequential models, prefer using an `Input(shape)` object as the first layer in the model instead.\n",
      "  super().__init__(activity_regularizer=activity_regularizer, **kwargs)\n"
     ]
    }
   ],
   "source": [
    "# ✅ Improved and Simplified Model\n",
    "model = Sequential([\n",
    "    Dense(512, activation='relu', input_shape=(784,), kernel_regularizer=regularizers.l2(0.0001)),\n",
    "    Dropout(0.3),\n",
    "    Dense(256, activation='relu', kernel_regularizer=regularizers.l2(0.0001)),\n",
    "    Dropout(0.3),\n",
    "    Dense(128, activation='relu', kernel_regularizer=regularizers.l2(0.0001)),\n",
    "    Dropout(0.2),\n",
    "    Dense(19, activation='linear')  # logits\n",
    "])"
   ]
  },
  {
   "cell_type": "code",
   "execution_count": 56,
   "id": "9c91f3a7",
   "metadata": {},
   "outputs": [],
   "source": [
    "# Compile\n",
    "model.compile(\n",
    "    loss=tf.keras.losses.SparseCategoricalCrossentropy(from_logits=True),\n",
    "    optimizer=tf.keras.optimizers.Adam(learning_rate=0.001),\n",
    "    metrics=['accuracy']\n",
    ")"
   ]
  },
  {
   "cell_type": "markdown",
   "id": "57359e68",
   "metadata": {},
   "source": [
    "## Callbacks\n",
    "\n",
    "A callback is a function/object that runs at specific stages of model training — like at the end of each epoch, or when accuracy stops improving.\n",
    "\n",
    "1. `EarlyStopping(patience=5, restore_best_weights=True)` Monitors validation loss (by default).\n",
    "\n",
    "    If validation loss doesn't improve for 5 epochs (`patience=5`), it stops training early.\n",
    "\n",
    "    It also restores the best model weights seen during training if `restore_best_weights=True`.\n",
    "    \n",
    "\n",
    "2. `ReduceLROnPlateau(patience=3, factor=0.5)` Monitors validation loss (or another metric).\n",
    "\n",
    "    If the metric doesn’t improve for 3 epochs, it reduces the learning rate by 50%."
   ]
  },
  {
   "cell_type": "code",
   "execution_count": 57,
   "id": "77389ea4",
   "metadata": {},
   "outputs": [],
   "source": [
    "\n",
    "# ✅ Callbacks\n",
    "callbacks = [\n",
    "    EarlyStopping(patience=5, restore_best_weights=True),\n",
    "    ReduceLROnPlateau(patience=3, factor=0.5)\n",
    "]"
   ]
  },
  {
   "cell_type": "code",
   "execution_count": 58,
   "id": "92e2f153",
   "metadata": {},
   "outputs": [
    {
     "name": "stdout",
     "output_type": "stream",
     "text": [
      "Epoch 1/100\n",
      "\u001b[1m891/891\u001b[0m \u001b[32m━━━━━━━━━━━━━━━━━━━━\u001b[0m\u001b[37m\u001b[0m \u001b[1m23s\u001b[0m 22ms/step - accuracy: 0.6639 - loss: 1.2553 - val_accuracy: 0.8563 - val_loss: 0.6245 - learning_rate: 0.0010\n",
      "Epoch 2/100\n",
      "\u001b[1m891/891\u001b[0m \u001b[32m━━━━━━━━━━━━━━━━━━━━\u001b[0m\u001b[37m\u001b[0m \u001b[1m19s\u001b[0m 21ms/step - accuracy: 0.8408 - loss: 0.6828 - val_accuracy: 0.8813 - val_loss: 0.5449 - learning_rate: 0.0010\n",
      "Epoch 3/100\n",
      "\u001b[1m891/891\u001b[0m \u001b[32m━━━━━━━━━━━━━━━━━━━━\u001b[0m\u001b[37m\u001b[0m \u001b[1m19s\u001b[0m 21ms/step - accuracy: 0.8624 - loss: 0.6090 - val_accuracy: 0.8890 - val_loss: 0.5131 - learning_rate: 0.0010\n",
      "Epoch 4/100\n",
      "\u001b[1m891/891\u001b[0m \u001b[32m━━━━━━━━━━━━━━━━━━━━\u001b[0m\u001b[37m\u001b[0m \u001b[1m19s\u001b[0m 21ms/step - accuracy: 0.8727 - loss: 0.5683 - val_accuracy: 0.8948 - val_loss: 0.4910 - learning_rate: 0.0010\n",
      "Epoch 5/100\n",
      "\u001b[1m891/891\u001b[0m \u001b[32m━━━━━━━━━━━━━━━━━━━━\u001b[0m\u001b[37m\u001b[0m \u001b[1m19s\u001b[0m 21ms/step - accuracy: 0.8805 - loss: 0.5412 - val_accuracy: 0.9001 - val_loss: 0.4720 - learning_rate: 0.0010\n",
      "Epoch 6/100\n",
      "\u001b[1m891/891\u001b[0m \u001b[32m━━━━━━━━━━━━━━━━━━━━\u001b[0m\u001b[37m\u001b[0m \u001b[1m19s\u001b[0m 21ms/step - accuracy: 0.8841 - loss: 0.5284 - val_accuracy: 0.9020 - val_loss: 0.4651 - learning_rate: 0.0010\n",
      "Epoch 7/100\n",
      "\u001b[1m891/891\u001b[0m \u001b[32m━━━━━━━━━━━━━━━━━━━━\u001b[0m\u001b[37m\u001b[0m \u001b[1m19s\u001b[0m 21ms/step - accuracy: 0.8876 - loss: 0.5139 - val_accuracy: 0.9043 - val_loss: 0.4574 - learning_rate: 0.0010\n",
      "Epoch 8/100\n",
      "\u001b[1m891/891\u001b[0m \u001b[32m━━━━━━━━━━━━━━━━━━━━\u001b[0m\u001b[37m\u001b[0m \u001b[1m19s\u001b[0m 21ms/step - accuracy: 0.8909 - loss: 0.5042 - val_accuracy: 0.9051 - val_loss: 0.4502 - learning_rate: 0.0010\n",
      "Epoch 9/100\n",
      "\u001b[1m891/891\u001b[0m \u001b[32m━━━━━━━━━━━━━━━━━━━━\u001b[0m\u001b[37m\u001b[0m \u001b[1m19s\u001b[0m 21ms/step - accuracy: 0.8926 - loss: 0.4989 - val_accuracy: 0.9065 - val_loss: 0.4502 - learning_rate: 0.0010\n",
      "Epoch 10/100\n",
      "\u001b[1m891/891\u001b[0m \u001b[32m━━━━━━━━━━━━━━━━━━━━\u001b[0m\u001b[37m\u001b[0m \u001b[1m19s\u001b[0m 21ms/step - accuracy: 0.8940 - loss: 0.4943 - val_accuracy: 0.9079 - val_loss: 0.4468 - learning_rate: 0.0010\n",
      "Epoch 11/100\n",
      "\u001b[1m891/891\u001b[0m \u001b[32m━━━━━━━━━━━━━━━━━━━━\u001b[0m\u001b[37m\u001b[0m \u001b[1m19s\u001b[0m 21ms/step - accuracy: 0.8958 - loss: 0.4868 - val_accuracy: 0.9090 - val_loss: 0.4428 - learning_rate: 0.0010\n",
      "Epoch 12/100\n",
      "\u001b[1m891/891\u001b[0m \u001b[32m━━━━━━━━━━━━━━━━━━━━\u001b[0m\u001b[37m\u001b[0m \u001b[1m19s\u001b[0m 21ms/step - accuracy: 0.8959 - loss: 0.4872 - val_accuracy: 0.9106 - val_loss: 0.4381 - learning_rate: 0.0010\n",
      "Epoch 13/100\n",
      "\u001b[1m891/891\u001b[0m \u001b[32m━━━━━━━━━━━━━━━━━━━━\u001b[0m\u001b[37m\u001b[0m \u001b[1m19s\u001b[0m 21ms/step - accuracy: 0.8981 - loss: 0.4818 - val_accuracy: 0.9111 - val_loss: 0.4366 - learning_rate: 0.0010\n",
      "Epoch 14/100\n",
      "\u001b[1m891/891\u001b[0m \u001b[32m━━━━━━━━━━━━━━━━━━━━\u001b[0m\u001b[37m\u001b[0m \u001b[1m19s\u001b[0m 21ms/step - accuracy: 0.8970 - loss: 0.4827 - val_accuracy: 0.9119 - val_loss: 0.4350 - learning_rate: 0.0010\n",
      "Epoch 15/100\n",
      "\u001b[1m891/891\u001b[0m \u001b[32m━━━━━━━━━━━━━━━━━━━━\u001b[0m\u001b[37m\u001b[0m \u001b[1m13s\u001b[0m 14ms/step - accuracy: 0.8987 - loss: 0.4787 - val_accuracy: 0.9113 - val_loss: 0.4377 - learning_rate: 0.0010\n",
      "Epoch 16/100\n",
      "\u001b[1m891/891\u001b[0m \u001b[32m━━━━━━━━━━━━━━━━━━━━\u001b[0m\u001b[37m\u001b[0m \u001b[1m10s\u001b[0m 11ms/step - accuracy: 0.8999 - loss: 0.4758 - val_accuracy: 0.9122 - val_loss: 0.4335 - learning_rate: 0.0010\n",
      "Epoch 17/100\n",
      "\u001b[1m891/891\u001b[0m \u001b[32m━━━━━━━━━━━━━━━━━━━━\u001b[0m\u001b[37m\u001b[0m \u001b[1m10s\u001b[0m 11ms/step - accuracy: 0.8998 - loss: 0.4748 - val_accuracy: 0.9131 - val_loss: 0.4304 - learning_rate: 0.0010\n",
      "Epoch 18/100\n",
      "\u001b[1m891/891\u001b[0m \u001b[32m━━━━━━━━━━━━━━━━━━━━\u001b[0m\u001b[37m\u001b[0m \u001b[1m10s\u001b[0m 12ms/step - accuracy: 0.9011 - loss: 0.4704 - val_accuracy: 0.9140 - val_loss: 0.4274 - learning_rate: 0.0010\n",
      "Epoch 19/100\n",
      "\u001b[1m891/891\u001b[0m \u001b[32m━━━━━━━━━━━━━━━━━━━━\u001b[0m\u001b[37m\u001b[0m \u001b[1m10s\u001b[0m 12ms/step - accuracy: 0.8999 - loss: 0.4726 - val_accuracy: 0.9124 - val_loss: 0.4310 - learning_rate: 0.0010\n",
      "Epoch 20/100\n",
      "\u001b[1m891/891\u001b[0m \u001b[32m━━━━━━━━━━━━━━━━━━━━\u001b[0m\u001b[37m\u001b[0m \u001b[1m10s\u001b[0m 12ms/step - accuracy: 0.9012 - loss: 0.4697 - val_accuracy: 0.9127 - val_loss: 0.4307 - learning_rate: 0.0010\n",
      "Epoch 21/100\n",
      "\u001b[1m891/891\u001b[0m \u001b[32m━━━━━━━━━━━━━━━━━━━━\u001b[0m\u001b[37m\u001b[0m \u001b[1m10s\u001b[0m 12ms/step - accuracy: 0.9021 - loss: 0.4679 - val_accuracy: 0.9140 - val_loss: 0.4265 - learning_rate: 0.0010\n",
      "Epoch 22/100\n",
      "\u001b[1m891/891\u001b[0m \u001b[32m━━━━━━━━━━━━━━━━━━━━\u001b[0m\u001b[37m\u001b[0m \u001b[1m10s\u001b[0m 12ms/step - accuracy: 0.9017 - loss: 0.4664 - val_accuracy: 0.9141 - val_loss: 0.4271 - learning_rate: 0.0010\n",
      "Epoch 23/100\n",
      "\u001b[1m891/891\u001b[0m \u001b[32m━━━━━━━━━━━━━━━━━━━━\u001b[0m\u001b[37m\u001b[0m \u001b[1m11s\u001b[0m 12ms/step - accuracy: 0.9031 - loss: 0.4642 - val_accuracy: 0.9137 - val_loss: 0.4268 - learning_rate: 0.0010\n",
      "Epoch 24/100\n",
      "\u001b[1m891/891\u001b[0m \u001b[32m━━━━━━━━━━━━━━━━━━━━\u001b[0m\u001b[37m\u001b[0m \u001b[1m11s\u001b[0m 12ms/step - accuracy: 0.9021 - loss: 0.4682 - val_accuracy: 0.9149 - val_loss: 0.4260 - learning_rate: 0.0010\n",
      "Epoch 25/100\n",
      "\u001b[1m891/891\u001b[0m \u001b[32m━━━━━━━━━━━━━━━━━━━━\u001b[0m\u001b[37m\u001b[0m \u001b[1m11s\u001b[0m 12ms/step - accuracy: 0.9024 - loss: 0.4670 - val_accuracy: 0.9136 - val_loss: 0.4263 - learning_rate: 0.0010\n",
      "Epoch 26/100\n",
      "\u001b[1m891/891\u001b[0m \u001b[32m━━━━━━━━━━━━━━━━━━━━\u001b[0m\u001b[37m\u001b[0m \u001b[1m11s\u001b[0m 12ms/step - accuracy: 0.9040 - loss: 0.4622 - val_accuracy: 0.9147 - val_loss: 0.4247 - learning_rate: 0.0010\n",
      "Epoch 27/100\n",
      "\u001b[1m891/891\u001b[0m \u001b[32m━━━━━━━━━━━━━━━━━━━━\u001b[0m\u001b[37m\u001b[0m \u001b[1m11s\u001b[0m 12ms/step - accuracy: 0.9030 - loss: 0.4627 - val_accuracy: 0.9156 - val_loss: 0.4245 - learning_rate: 0.0010\n",
      "Epoch 28/100\n",
      "\u001b[1m891/891\u001b[0m \u001b[32m━━━━━━━━━━━━━━━━━━━━\u001b[0m\u001b[37m\u001b[0m \u001b[1m11s\u001b[0m 12ms/step - accuracy: 0.9038 - loss: 0.4631 - val_accuracy: 0.9146 - val_loss: 0.4251 - learning_rate: 0.0010\n",
      "Epoch 29/100\n",
      "\u001b[1m891/891\u001b[0m \u001b[32m━━━━━━━━━━━━━━━━━━━━\u001b[0m\u001b[37m\u001b[0m \u001b[1m11s\u001b[0m 12ms/step - accuracy: 0.9043 - loss: 0.4625 - val_accuracy: 0.9163 - val_loss: 0.4231 - learning_rate: 0.0010\n",
      "Epoch 30/100\n",
      "\u001b[1m891/891\u001b[0m \u001b[32m━━━━━━━━━━━━━━━━━━━━\u001b[0m\u001b[37m\u001b[0m \u001b[1m11s\u001b[0m 12ms/step - accuracy: 0.9037 - loss: 0.4624 - val_accuracy: 0.9156 - val_loss: 0.4226 - learning_rate: 0.0010\n",
      "Epoch 31/100\n",
      "\u001b[1m891/891\u001b[0m \u001b[32m━━━━━━━━━━━━━━━━━━━━\u001b[0m\u001b[37m\u001b[0m \u001b[1m11s\u001b[0m 12ms/step - accuracy: 0.9045 - loss: 0.4603 - val_accuracy: 0.9171 - val_loss: 0.4186 - learning_rate: 0.0010\n",
      "Epoch 32/100\n",
      "\u001b[1m891/891\u001b[0m \u001b[32m━━━━━━━━━━━━━━━━━━━━\u001b[0m\u001b[37m\u001b[0m \u001b[1m11s\u001b[0m 13ms/step - accuracy: 0.9049 - loss: 0.4594 - val_accuracy: 0.9153 - val_loss: 0.4252 - learning_rate: 0.0010\n",
      "Epoch 33/100\n",
      "\u001b[1m891/891\u001b[0m \u001b[32m━━━━━━━━━━━━━━━━━━━━\u001b[0m\u001b[37m\u001b[0m \u001b[1m11s\u001b[0m 13ms/step - accuracy: 0.9048 - loss: 0.4596 - val_accuracy: 0.9166 - val_loss: 0.4200 - learning_rate: 0.0010\n",
      "Epoch 34/100\n",
      "\u001b[1m891/891\u001b[0m \u001b[32m━━━━━━━━━━━━━━━━━━━━\u001b[0m\u001b[37m\u001b[0m \u001b[1m11s\u001b[0m 12ms/step - accuracy: 0.9053 - loss: 0.4573 - val_accuracy: 0.9158 - val_loss: 0.4222 - learning_rate: 0.0010\n",
      "Epoch 35/100\n",
      "\u001b[1m891/891\u001b[0m \u001b[32m━━━━━━━━━━━━━━━━━━━━\u001b[0m\u001b[37m\u001b[0m \u001b[1m11s\u001b[0m 12ms/step - accuracy: 0.9124 - loss: 0.4281 - val_accuracy: 0.9225 - val_loss: 0.3897 - learning_rate: 5.0000e-04\n",
      "Epoch 36/100\n",
      "\u001b[1m891/891\u001b[0m \u001b[32m━━━━━━━━━━━━━━━━━━━━\u001b[0m\u001b[37m\u001b[0m \u001b[1m11s\u001b[0m 12ms/step - accuracy: 0.9181 - loss: 0.4015 - val_accuracy: 0.9240 - val_loss: 0.3795 - learning_rate: 5.0000e-04\n",
      "Epoch 37/100\n",
      "\u001b[1m891/891\u001b[0m \u001b[32m━━━━━━━━━━━━━━━━━━━━\u001b[0m\u001b[37m\u001b[0m \u001b[1m11s\u001b[0m 12ms/step - accuracy: 0.9187 - loss: 0.3940 - val_accuracy: 0.9236 - val_loss: 0.3779 - learning_rate: 5.0000e-04\n",
      "Epoch 38/100\n",
      "\u001b[1m891/891\u001b[0m \u001b[32m━━━━━━━━━━━━━━━━━━━━\u001b[0m\u001b[37m\u001b[0m \u001b[1m11s\u001b[0m 12ms/step - accuracy: 0.9181 - loss: 0.3911 - val_accuracy: 0.9252 - val_loss: 0.3722 - learning_rate: 5.0000e-04\n",
      "Epoch 39/100\n",
      "\u001b[1m891/891\u001b[0m \u001b[32m━━━━━━━━━━━━━━━━━━━━\u001b[0m\u001b[37m\u001b[0m \u001b[1m11s\u001b[0m 12ms/step - accuracy: 0.9187 - loss: 0.3868 - val_accuracy: 0.9237 - val_loss: 0.3727 - learning_rate: 5.0000e-04\n",
      "Epoch 40/100\n",
      "\u001b[1m891/891\u001b[0m \u001b[32m━━━━━━━━━━━━━━━━━━━━\u001b[0m\u001b[37m\u001b[0m \u001b[1m11s\u001b[0m 12ms/step - accuracy: 0.9186 - loss: 0.3857 - val_accuracy: 0.9242 - val_loss: 0.3671 - learning_rate: 5.0000e-04\n",
      "Epoch 41/100\n",
      "\u001b[1m891/891\u001b[0m \u001b[32m━━━━━━━━━━━━━━━━━━━━\u001b[0m\u001b[37m\u001b[0m \u001b[1m11s\u001b[0m 12ms/step - accuracy: 0.9199 - loss: 0.3794 - val_accuracy: 0.9237 - val_loss: 0.3679 - learning_rate: 5.0000e-04\n",
      "Epoch 42/100\n",
      "\u001b[1m891/891\u001b[0m \u001b[32m━━━━━━━━━━━━━━━━━━━━\u001b[0m\u001b[37m\u001b[0m \u001b[1m11s\u001b[0m 12ms/step - accuracy: 0.9201 - loss: 0.3781 - val_accuracy: 0.9230 - val_loss: 0.3683 - learning_rate: 5.0000e-04\n",
      "Epoch 43/100\n",
      "\u001b[1m891/891\u001b[0m \u001b[32m━━━━━━━━━━━━━━━━━━━━\u001b[0m\u001b[37m\u001b[0m \u001b[1m11s\u001b[0m 12ms/step - accuracy: 0.9193 - loss: 0.3783 - val_accuracy: 0.9249 - val_loss: 0.3638 - learning_rate: 5.0000e-04\n",
      "Epoch 44/100\n",
      "\u001b[1m891/891\u001b[0m \u001b[32m━━━━━━━━━━━━━━━━━━━━\u001b[0m\u001b[37m\u001b[0m \u001b[1m11s\u001b[0m 12ms/step - accuracy: 0.9192 - loss: 0.3769 - val_accuracy: 0.9236 - val_loss: 0.3676 - learning_rate: 5.0000e-04\n",
      "Epoch 45/100\n",
      "\u001b[1m891/891\u001b[0m \u001b[32m━━━━━━━━━━━━━━━━━━━━\u001b[0m\u001b[37m\u001b[0m \u001b[1m11s\u001b[0m 12ms/step - accuracy: 0.9201 - loss: 0.3748 - val_accuracy: 0.9242 - val_loss: 0.3657 - learning_rate: 5.0000e-04\n",
      "Epoch 46/100\n",
      "\u001b[1m891/891\u001b[0m \u001b[32m━━━━━━━━━━━━━━━━━━━━\u001b[0m\u001b[37m\u001b[0m \u001b[1m11s\u001b[0m 12ms/step - accuracy: 0.9210 - loss: 0.3690 - val_accuracy: 0.9249 - val_loss: 0.3615 - learning_rate: 5.0000e-04\n",
      "Epoch 47/100\n",
      "\u001b[1m891/891\u001b[0m \u001b[32m━━━━━━━━━━━━━━━━━━━━\u001b[0m\u001b[37m\u001b[0m \u001b[1m11s\u001b[0m 12ms/step - accuracy: 0.9201 - loss: 0.3717 - val_accuracy: 0.9248 - val_loss: 0.3638 - learning_rate: 5.0000e-04\n",
      "Epoch 48/100\n",
      "\u001b[1m891/891\u001b[0m \u001b[32m━━━━━━━━━━━━━━━━━━━━\u001b[0m\u001b[37m\u001b[0m \u001b[1m11s\u001b[0m 12ms/step - accuracy: 0.9208 - loss: 0.3702 - val_accuracy: 0.9246 - val_loss: 0.3617 - learning_rate: 5.0000e-04\n",
      "Epoch 49/100\n",
      "\u001b[1m891/891\u001b[0m \u001b[32m━━━━━━━━━━━━━━━━━━━━\u001b[0m\u001b[37m\u001b[0m \u001b[1m11s\u001b[0m 12ms/step - accuracy: 0.9207 - loss: 0.3716 - val_accuracy: 0.9239 - val_loss: 0.3631 - learning_rate: 5.0000e-04\n",
      "Epoch 50/100\n",
      "\u001b[1m891/891\u001b[0m \u001b[32m━━━━━━━━━━━━━━━━━━━━\u001b[0m\u001b[37m\u001b[0m \u001b[1m11s\u001b[0m 12ms/step - accuracy: 0.9258 - loss: 0.3522 - val_accuracy: 0.9272 - val_loss: 0.3520 - learning_rate: 2.5000e-04\n",
      "Epoch 51/100\n",
      "\u001b[1m891/891\u001b[0m \u001b[32m━━━━━━━━━━━━━━━━━━━━\u001b[0m\u001b[37m\u001b[0m \u001b[1m11s\u001b[0m 12ms/step - accuracy: 0.9287 - loss: 0.3407 - val_accuracy: 0.9282 - val_loss: 0.3466 - learning_rate: 2.5000e-04\n",
      "Epoch 52/100\n",
      "\u001b[1m891/891\u001b[0m \u001b[32m━━━━━━━━━━━━━━━━━━━━\u001b[0m\u001b[37m\u001b[0m \u001b[1m11s\u001b[0m 13ms/step - accuracy: 0.9292 - loss: 0.3366 - val_accuracy: 0.9270 - val_loss: 0.3468 - learning_rate: 2.5000e-04\n",
      "Epoch 53/100\n",
      "\u001b[1m891/891\u001b[0m \u001b[32m━━━━━━━━━━━━━━━━━━━━\u001b[0m\u001b[37m\u001b[0m \u001b[1m11s\u001b[0m 13ms/step - accuracy: 0.9296 - loss: 0.3323 - val_accuracy: 0.9274 - val_loss: 0.3460 - learning_rate: 2.5000e-04\n",
      "Epoch 54/100\n",
      "\u001b[1m891/891\u001b[0m \u001b[32m━━━━━━━━━━━━━━━━━━━━\u001b[0m\u001b[37m\u001b[0m \u001b[1m11s\u001b[0m 13ms/step - accuracy: 0.9296 - loss: 0.3298 - val_accuracy: 0.9269 - val_loss: 0.3451 - learning_rate: 2.5000e-04\n",
      "Epoch 55/100\n",
      "\u001b[1m891/891\u001b[0m \u001b[32m━━━━━━━━━━━━━━━━━━━━\u001b[0m\u001b[37m\u001b[0m \u001b[1m11s\u001b[0m 13ms/step - accuracy: 0.9305 - loss: 0.3278 - val_accuracy: 0.9271 - val_loss: 0.3428 - learning_rate: 2.5000e-04\n",
      "Epoch 56/100\n",
      "\u001b[1m891/891\u001b[0m \u001b[32m━━━━━━━━━━━━━━━━━━━━\u001b[0m\u001b[37m\u001b[0m \u001b[1m12s\u001b[0m 13ms/step - accuracy: 0.9307 - loss: 0.3254 - val_accuracy: 0.9271 - val_loss: 0.3431 - learning_rate: 2.5000e-04\n",
      "Epoch 57/100\n",
      "\u001b[1m891/891\u001b[0m \u001b[32m━━━━━━━━━━━━━━━━━━━━\u001b[0m\u001b[37m\u001b[0m \u001b[1m12s\u001b[0m 14ms/step - accuracy: 0.9301 - loss: 0.3256 - val_accuracy: 0.9269 - val_loss: 0.3433 - learning_rate: 2.5000e-04\n",
      "Epoch 58/100\n",
      "\u001b[1m891/891\u001b[0m \u001b[32m━━━━━━━━━━━━━━━━━━━━\u001b[0m\u001b[37m\u001b[0m \u001b[1m12s\u001b[0m 13ms/step - accuracy: 0.9308 - loss: 0.3225 - val_accuracy: 0.9273 - val_loss: 0.3401 - learning_rate: 2.5000e-04\n",
      "Epoch 59/100\n",
      "\u001b[1m891/891\u001b[0m \u001b[32m━━━━━━━━━━━━━━━━━━━━\u001b[0m\u001b[37m\u001b[0m \u001b[1m11s\u001b[0m 13ms/step - accuracy: 0.9312 - loss: 0.3217 - val_accuracy: 0.9275 - val_loss: 0.3419 - learning_rate: 2.5000e-04\n",
      "Epoch 60/100\n",
      "\u001b[1m891/891\u001b[0m \u001b[32m━━━━━━━━━━━━━━━━━━━━\u001b[0m\u001b[37m\u001b[0m \u001b[1m11s\u001b[0m 13ms/step - accuracy: 0.9310 - loss: 0.3200 - val_accuracy: 0.9274 - val_loss: 0.3403 - learning_rate: 2.5000e-04\n",
      "Epoch 61/100\n",
      "\u001b[1m891/891\u001b[0m \u001b[32m━━━━━━━━━━━━━━━━━━━━\u001b[0m\u001b[37m\u001b[0m \u001b[1m11s\u001b[0m 13ms/step - accuracy: 0.9318 - loss: 0.3177 - val_accuracy: 0.9275 - val_loss: 0.3394 - learning_rate: 2.5000e-04\n",
      "Epoch 62/100\n",
      "\u001b[1m891/891\u001b[0m \u001b[32m━━━━━━━━━━━━━━━━━━━━\u001b[0m\u001b[37m\u001b[0m \u001b[1m11s\u001b[0m 13ms/step - accuracy: 0.9314 - loss: 0.3180 - val_accuracy: 0.9261 - val_loss: 0.3409 - learning_rate: 2.5000e-04\n",
      "Epoch 63/100\n",
      "\u001b[1m891/891\u001b[0m \u001b[32m━━━━━━━━━━━━━━━━━━━━\u001b[0m\u001b[37m\u001b[0m \u001b[1m11s\u001b[0m 13ms/step - accuracy: 0.9314 - loss: 0.3184 - val_accuracy: 0.9264 - val_loss: 0.3404 - learning_rate: 2.5000e-04\n",
      "Epoch 64/100\n",
      "\u001b[1m891/891\u001b[0m \u001b[32m━━━━━━━━━━━━━━━━━━━━\u001b[0m\u001b[37m\u001b[0m \u001b[1m11s\u001b[0m 13ms/step - accuracy: 0.9324 - loss: 0.3133 - val_accuracy: 0.9272 - val_loss: 0.3399 - learning_rate: 2.5000e-04\n",
      "Epoch 65/100\n",
      "\u001b[1m891/891\u001b[0m \u001b[32m━━━━━━━━━━━━━━━━━━━━\u001b[0m\u001b[37m\u001b[0m \u001b[1m11s\u001b[0m 13ms/step - accuracy: 0.9345 - loss: 0.3058 - val_accuracy: 0.9287 - val_loss: 0.3347 - learning_rate: 1.2500e-04\n",
      "Epoch 66/100\n",
      "\u001b[1m891/891\u001b[0m \u001b[32m━━━━━━━━━━━━━━━━━━━━\u001b[0m\u001b[37m\u001b[0m \u001b[1m11s\u001b[0m 13ms/step - accuracy: 0.9359 - loss: 0.3010 - val_accuracy: 0.9286 - val_loss: 0.3330 - learning_rate: 1.2500e-04\n",
      "Epoch 67/100\n",
      "\u001b[1m891/891\u001b[0m \u001b[32m━━━━━━━━━━━━━━━━━━━━\u001b[0m\u001b[37m\u001b[0m \u001b[1m11s\u001b[0m 13ms/step - accuracy: 0.9359 - loss: 0.2990 - val_accuracy: 0.9289 - val_loss: 0.3318 - learning_rate: 1.2500e-04\n",
      "Epoch 68/100\n",
      "\u001b[1m891/891\u001b[0m \u001b[32m━━━━━━━━━━━━━━━━━━━━\u001b[0m\u001b[37m\u001b[0m \u001b[1m11s\u001b[0m 13ms/step - accuracy: 0.9370 - loss: 0.2951 - val_accuracy: 0.9288 - val_loss: 0.3321 - learning_rate: 1.2500e-04\n",
      "Epoch 69/100\n",
      "\u001b[1m891/891\u001b[0m \u001b[32m━━━━━━━━━━━━━━━━━━━━\u001b[0m\u001b[37m\u001b[0m \u001b[1m11s\u001b[0m 13ms/step - accuracy: 0.9378 - loss: 0.2913 - val_accuracy: 0.9285 - val_loss: 0.3320 - learning_rate: 1.2500e-04\n",
      "Epoch 70/100\n",
      "\u001b[1m891/891\u001b[0m \u001b[32m━━━━━━━━━━━━━━━━━━━━\u001b[0m\u001b[37m\u001b[0m \u001b[1m11s\u001b[0m 13ms/step - accuracy: 0.9368 - loss: 0.2950 - val_accuracy: 0.9289 - val_loss: 0.3306 - learning_rate: 1.2500e-04\n",
      "Epoch 71/100\n",
      "\u001b[1m891/891\u001b[0m \u001b[32m━━━━━━━━━━━━━━━━━━━━\u001b[0m\u001b[37m\u001b[0m \u001b[1m11s\u001b[0m 13ms/step - accuracy: 0.9374 - loss: 0.2924 - val_accuracy: 0.9289 - val_loss: 0.3303 - learning_rate: 1.2500e-04\n",
      "Epoch 72/100\n",
      "\u001b[1m891/891\u001b[0m \u001b[32m━━━━━━━━━━━━━━━━━━━━\u001b[0m\u001b[37m\u001b[0m \u001b[1m12s\u001b[0m 13ms/step - accuracy: 0.9375 - loss: 0.2923 - val_accuracy: 0.9290 - val_loss: 0.3298 - learning_rate: 1.2500e-04\n",
      "Epoch 73/100\n",
      "\u001b[1m891/891\u001b[0m \u001b[32m━━━━━━━━━━━━━━━━━━━━\u001b[0m\u001b[37m\u001b[0m \u001b[1m12s\u001b[0m 13ms/step - accuracy: 0.9370 - loss: 0.2929 - val_accuracy: 0.9284 - val_loss: 0.3300 - learning_rate: 1.2500e-04\n",
      "Epoch 74/100\n",
      "\u001b[1m891/891\u001b[0m \u001b[32m━━━━━━━━━━━━━━━━━━━━\u001b[0m\u001b[37m\u001b[0m \u001b[1m11s\u001b[0m 13ms/step - accuracy: 0.9376 - loss: 0.2914 - val_accuracy: 0.9289 - val_loss: 0.3287 - learning_rate: 1.2500e-04\n",
      "Epoch 75/100\n",
      "\u001b[1m891/891\u001b[0m \u001b[32m━━━━━━━━━━━━━━━━━━━━\u001b[0m\u001b[37m\u001b[0m \u001b[1m11s\u001b[0m 13ms/step - accuracy: 0.9383 - loss: 0.2871 - val_accuracy: 0.9291 - val_loss: 0.3297 - learning_rate: 1.2500e-04\n",
      "Epoch 76/100\n",
      "\u001b[1m891/891\u001b[0m \u001b[32m━━━━━━━━━━━━━━━━━━━━\u001b[0m\u001b[37m\u001b[0m \u001b[1m11s\u001b[0m 13ms/step - accuracy: 0.9382 - loss: 0.2883 - val_accuracy: 0.9282 - val_loss: 0.3312 - learning_rate: 1.2500e-04\n",
      "Epoch 77/100\n",
      "\u001b[1m891/891\u001b[0m \u001b[32m━━━━━━━━━━━━━━━━━━━━\u001b[0m\u001b[37m\u001b[0m \u001b[1m11s\u001b[0m 13ms/step - accuracy: 0.9386 - loss: 0.2860 - val_accuracy: 0.9282 - val_loss: 0.3288 - learning_rate: 1.2500e-04\n",
      "Epoch 78/100\n",
      "\u001b[1m891/891\u001b[0m \u001b[32m━━━━━━━━━━━━━━━━━━━━\u001b[0m\u001b[37m\u001b[0m \u001b[1m12s\u001b[0m 13ms/step - accuracy: 0.9394 - loss: 0.2824 - val_accuracy: 0.9296 - val_loss: 0.3277 - learning_rate: 6.2500e-05\n",
      "Epoch 79/100\n",
      "\u001b[1m891/891\u001b[0m \u001b[32m━━━━━━━━━━━━━━━━━━━━\u001b[0m\u001b[37m\u001b[0m \u001b[1m11s\u001b[0m 13ms/step - accuracy: 0.9406 - loss: 0.2781 - val_accuracy: 0.9299 - val_loss: 0.3270 - learning_rate: 6.2500e-05\n",
      "Epoch 80/100\n",
      "\u001b[1m891/891\u001b[0m \u001b[32m━━━━━━━━━━━━━━━━━━━━\u001b[0m\u001b[37m\u001b[0m \u001b[1m11s\u001b[0m 13ms/step - accuracy: 0.9412 - loss: 0.2764 - val_accuracy: 0.9301 - val_loss: 0.3261 - learning_rate: 6.2500e-05\n",
      "Epoch 81/100\n",
      "\u001b[1m891/891\u001b[0m \u001b[32m━━━━━━━━━━━━━━━━━━━━\u001b[0m\u001b[37m\u001b[0m \u001b[1m11s\u001b[0m 13ms/step - accuracy: 0.9407 - loss: 0.2782 - val_accuracy: 0.9292 - val_loss: 0.3270 - learning_rate: 6.2500e-05\n",
      "Epoch 82/100\n",
      "\u001b[1m891/891\u001b[0m \u001b[32m━━━━━━━━━━━━━━━━━━━━\u001b[0m\u001b[37m\u001b[0m \u001b[1m11s\u001b[0m 13ms/step - accuracy: 0.9404 - loss: 0.2778 - val_accuracy: 0.9297 - val_loss: 0.3265 - learning_rate: 6.2500e-05\n",
      "Epoch 83/100\n",
      "\u001b[1m891/891\u001b[0m \u001b[32m━━━━━━━━━━━━━━━━━━━━\u001b[0m\u001b[37m\u001b[0m \u001b[1m11s\u001b[0m 13ms/step - accuracy: 0.9411 - loss: 0.2761 - val_accuracy: 0.9288 - val_loss: 0.3276 - learning_rate: 6.2500e-05\n",
      "Epoch 84/100\n",
      "\u001b[1m891/891\u001b[0m \u001b[32m━━━━━━━━━━━━━━━━━━━━\u001b[0m\u001b[37m\u001b[0m \u001b[1m12s\u001b[0m 13ms/step - accuracy: 0.9424 - loss: 0.2724 - val_accuracy: 0.9296 - val_loss: 0.3251 - learning_rate: 3.1250e-05\n",
      "Epoch 85/100\n",
      "\u001b[1m891/891\u001b[0m \u001b[32m━━━━━━━━━━━━━━━━━━━━\u001b[0m\u001b[37m\u001b[0m \u001b[1m11s\u001b[0m 13ms/step - accuracy: 0.9428 - loss: 0.2687 - val_accuracy: 0.9294 - val_loss: 0.3256 - learning_rate: 3.1250e-05\n",
      "Epoch 86/100\n",
      "\u001b[1m891/891\u001b[0m \u001b[32m━━━━━━━━━━━━━━━━━━━━\u001b[0m\u001b[37m\u001b[0m \u001b[1m12s\u001b[0m 13ms/step - accuracy: 0.9419 - loss: 0.2731 - val_accuracy: 0.9298 - val_loss: 0.3252 - learning_rate: 3.1250e-05\n",
      "Epoch 87/100\n",
      "\u001b[1m891/891\u001b[0m \u001b[32m━━━━━━━━━━━━━━━━━━━━\u001b[0m\u001b[37m\u001b[0m \u001b[1m12s\u001b[0m 13ms/step - accuracy: 0.9431 - loss: 0.2682 - val_accuracy: 0.9301 - val_loss: 0.3243 - learning_rate: 3.1250e-05\n",
      "Epoch 88/100\n",
      "\u001b[1m891/891\u001b[0m \u001b[32m━━━━━━━━━━━━━━━━━━━━\u001b[0m\u001b[37m\u001b[0m \u001b[1m12s\u001b[0m 13ms/step - accuracy: 0.9427 - loss: 0.2692 - val_accuracy: 0.9291 - val_loss: 0.3265 - learning_rate: 3.1250e-05\n",
      "Epoch 89/100\n",
      "\u001b[1m891/891\u001b[0m \u001b[32m━━━━━━━━━━━━━━━━━━━━\u001b[0m\u001b[37m\u001b[0m \u001b[1m11s\u001b[0m 13ms/step - accuracy: 0.9427 - loss: 0.2692 - val_accuracy: 0.9297 - val_loss: 0.3252 - learning_rate: 3.1250e-05\n",
      "Epoch 90/100\n",
      "\u001b[1m891/891\u001b[0m \u001b[32m━━━━━━━━━━━━━━━━━━━━\u001b[0m\u001b[37m\u001b[0m \u001b[1m12s\u001b[0m 13ms/step - accuracy: 0.9425 - loss: 0.2690 - val_accuracy: 0.9294 - val_loss: 0.3249 - learning_rate: 3.1250e-05\n",
      "Epoch 91/100\n",
      "\u001b[1m891/891\u001b[0m \u001b[32m━━━━━━━━━━━━━━━━━━━━\u001b[0m\u001b[37m\u001b[0m \u001b[1m11s\u001b[0m 13ms/step - accuracy: 0.9435 - loss: 0.2670 - val_accuracy: 0.9301 - val_loss: 0.3249 - learning_rate: 1.5625e-05\n",
      "Epoch 92/100\n",
      "\u001b[1m891/891\u001b[0m \u001b[32m━━━━━━━━━━━━━━━━━━━━\u001b[0m\u001b[37m\u001b[0m \u001b[1m12s\u001b[0m 13ms/step - accuracy: 0.9428 - loss: 0.2682 - val_accuracy: 0.9298 - val_loss: 0.3250 - learning_rate: 1.5625e-05\n"
     ]
    },
    {
     "data": {
      "text/plain": [
       "<keras.src.callbacks.history.History at 0x20f2d8afb00>"
      ]
     },
     "execution_count": 58,
     "metadata": {},
     "output_type": "execute_result"
    }
   ],
   "source": [
    "\n",
    "# ✅ Increased batch size for stability\n",
    "model.fit(\n",
    "    X_train, y_train,\n",
    "    validation_data=(X_cv, y_cv),\n",
    "    epochs=100,\n",
    "    batch_size=512,\n",
    "    callbacks=callbacks,\n",
    "    verbose=1\n",
    ")"
   ]
  },
  {
   "cell_type": "code",
   "execution_count": 61,
   "id": "e9c5e01c",
   "metadata": {},
   "outputs": [
    {
     "name": "stdout",
     "output_type": "stream",
     "text": [
      "\u001b[1m1782/1782\u001b[0m \u001b[32m━━━━━━━━━━━━━━━━━━━━\u001b[0m\u001b[37m\u001b[0m \u001b[1m3s\u001b[0m 2ms/step\n",
      "Validation Accuracy: 0.9301052631578948\n",
      "\u001b[1m1782/1782\u001b[0m \u001b[32m━━━━━━━━━━━━━━━━━━━━\u001b[0m\u001b[37m\u001b[0m \u001b[1m3s\u001b[0m 2ms/step\n",
      "Test Accuracy: 0.9335087719298245\n"
     ]
    }
   ],
   "source": [
    "# Evaluation\n",
    "logits_cv = model.predict(X_cv)\n",
    "y_cv_pred = tf.argmax(tf.nn.softmax(logits_cv, axis=1), axis=1).numpy()\n",
    "print(\"Validation Accuracy:\", accuracy_score(y_cv, y_cv_pred))\n",
    "\n",
    "logits_test = model.predict(X_test)\n",
    "y_test_pred = tf.argmax(tf.nn.softmax(logits_test, axis=1), axis=1).numpy()\n",
    "print(\"Test Accuracy:\", accuracy_score(y_test, y_test_pred))"
   ]
  },
  {
   "cell_type": "code",
   "execution_count": 62,
   "id": "f350901f",
   "metadata": {},
   "outputs": [],
   "source": [
    "# Save model and normalization\n",
    "model.save(\"doodle_model.keras\")"
   ]
  }
 ],
 "metadata": {
  "kernelspec": {
   "display_name": "ml_env",
   "language": "python",
   "name": "python3"
  },
  "language_info": {
   "codemirror_mode": {
    "name": "ipython",
    "version": 3
   },
   "file_extension": ".py",
   "mimetype": "text/x-python",
   "name": "python",
   "nbconvert_exporter": "python",
   "pygments_lexer": "ipython3",
   "version": "3.12.9"
  }
 },
 "nbformat": 4,
 "nbformat_minor": 5
}
