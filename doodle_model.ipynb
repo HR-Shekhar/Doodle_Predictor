{
 "cells": [
  {
   "cell_type": "code",
   "execution_count": null,
   "id": "3e4acb8c",
   "metadata": {},
   "outputs": [],
   "source": [
    "import numpy as np\n",
    "import os\n",
    "import tensorflow as tf\n",
    "from sklearn.preprocessing import StandardScaler\n",
    "from sklearn.metrics import accuracy_score\n",
    "from tensorflow.keras.models import Sequential\n",
    "from tensorflow.keras.layers import Dense, Dropout\n",
    "from sklearn.model_selection import train_test_split\n",
    "from tensorflow.keras import regularizers, Input\n",
    "from tensorflow.keras.callbacks import EarlyStopping, ReduceLROnPlateau"
   ]
  },
  {
   "cell_type": "code",
   "execution_count": 32,
   "id": "aa388e09",
   "metadata": {},
   "outputs": [],
   "source": [
    "data_dir = ('./data/')\n",
    "class_names = [\"airplane\", \"apple\", \"bat\", \"cat\", \"circle\", \"clock\", \"cloud\",\n",
    "               \"crown\", \"diamond\", \"dog\", \"donut\", \"face\", \"fish\", \"hexagon\",\n",
    "                \"hot_dog\", \"lightning\", \"mountain\", \"river\", \"skull\",\n",
    "                \"smiley_face\", \"square\", \"star\", \"sun\", \"t-shirt\", \"tree\"]"
   ]
  },
  {
   "cell_type": "code",
   "execution_count": null,
   "id": "a8f4ddaa",
   "metadata": {},
   "outputs": [],
   "source": [
    "X = []\n",
    "y = []"
   ]
  },
  {
   "cell_type": "code",
   "execution_count": 34,
   "id": "a5a12996",
   "metadata": {},
   "outputs": [],
   "source": [
    "for label, class_name in enumerate(class_names):\n",
    "    # Create the path to the .npy file (e.g., './data/apple.npy')\n",
    "    file_path = os.path.join(data_dir, f\"{class_name}.npy\")\n",
    "\n",
    "    # Load the .npy file → shape: (2000, 28, 28)\n",
    "    data = np.load(file_path)\n",
    "\n",
    "    X.append(data)\n",
    "\n",
    "    # Add labels to y → [label, label, label, ..., label] (length = number of samples)\n",
    "    y.append(np.full((data.shape[0]), label))\n"
   ]
  },
  {
   "cell_type": "code",
   "execution_count": 35,
   "id": "591e25c3",
   "metadata": {},
   "outputs": [],
   "source": [
    "# Stack all image arrays vertically → final shape: (total_samples, 28, 28)\n",
    "X = np.vstack(X)\n",
    "\n",
    "# Stack all label arrays horizontally → final shape: (total_samples,)\n",
    "y = np.hstack(y)"
   ]
  },
  {
   "cell_type": "code",
   "execution_count": null,
   "id": "cf073ff8",
   "metadata": {},
   "outputs": [],
   "source": [
    "X = StandardScaler().fit_transform(X)"
   ]
  },
  {
   "cell_type": "markdown",
   "id": "3a93e403",
   "metadata": {},
   "source": [
    "### Max Normalization"
   ]
  },
  {
   "cell_type": "code",
   "execution_count": null,
   "id": "a8295fa5",
   "metadata": {},
   "outputs": [
    {
     "data": {
      "text/plain": [
       "(750000, 784)"
      ]
     },
     "execution_count": 36,
     "metadata": {},
     "output_type": "execute_result"
    }
   ],
   "source": [
    "# # Normalize pixel values to range 0–1 (from 0–255)\n",
    "# X = X.astype('float32') / 255.0\n",
    "# X.shape"
   ]
  },
  {
   "cell_type": "code",
   "execution_count": null,
   "id": "958befe6",
   "metadata": {},
   "outputs": [],
   "source": [
    "# Flatten each image from 28x28 → 784 for dense layers\n",
    "# X = X.reshape(X.shape[0], -1)  # shape becomes (total_samples, 784)"
   ]
  },
  {
   "cell_type": "code",
   "execution_count": 38,
   "id": "fabbc7aa",
   "metadata": {},
   "outputs": [],
   "source": [
    "X_train, X_, y_train, y_ = train_test_split(X,y, test_size=0.2, random_state=42, stratify=y)\n",
    "# `stratify=y` ensures equal class distribution in both training and validation sets.\n",
    "\n",
    "X_cv, X_test, y_cv, y_test = train_test_split(X_,y_, test_size=0.5, random_state=42, stratify=y_)"
   ]
  },
  {
   "cell_type": "code",
   "execution_count": null,
   "id": "3e7f458d",
   "metadata": {},
   "outputs": [],
   "source": [
    "model = Sequential([\n",
    "    Input(shape=(784,), name=\"input_vector\"),\n",
    "    Dense(512, activation='relu', kernel_regularizer=regularizers.l2(0.001)),\n",
    "    Dropout(0.4)\n",
    "    Dense(256, activation='relu', kernel_regularizer=regularizers.l2(0.001)),\n",
    "    Dropout(0.3),\n",
    "    Dense(128, activation='relu', kernel_regularizer=regularizers.l2(0.001)),\n",
    "    Dropout(0.2),\n",
    "    Dense(len(class_names), activation='linear')\n",
    "])"
   ]
  },
  {
   "cell_type": "code",
   "execution_count": null,
   "id": "574fe9e3",
   "metadata": {},
   "outputs": [],
   "source": [
    "model.compile(\n",
    "    loss=tf.keras.losses.SparseCategoricalCrossentropy(from_logits=True),\n",
    "    optimizer=tf.keras.optimizers.Adam(learning_rate=0.001),\n",
    "    metrics=['accuracy']\n",
    ")"
   ]
  },
  {
   "cell_type": "code",
   "execution_count": null,
   "id": "2aa6f32b",
   "metadata": {},
   "outputs": [],
   "source": [
    "# Train\n",
    "callbacks = [\n",
    "    EarlyStopping(patience=5, restore_best_weights=True),\n",
    "    ReduceLROnPlateau(patience=3, factor=0.5)\n",
    "]"
   ]
  },
  {
   "cell_type": "code",
   "execution_count": 41,
   "id": "4b06072d",
   "metadata": {},
   "outputs": [
    {
     "name": "stdout",
     "output_type": "stream",
     "text": [
      "Epoch 1/40\n",
      "\u001b[1m18750/18750\u001b[0m \u001b[32m━━━━━━━━━━━━━━━━━━━━\u001b[0m\u001b[37m\u001b[0m \u001b[1m58s\u001b[0m 3ms/step - loss: 1.6175\n",
      "Epoch 2/40\n",
      "\u001b[1m18750/18750\u001b[0m \u001b[32m━━━━━━━━━━━━━━━━━━━━\u001b[0m\u001b[37m\u001b[0m \u001b[1m56s\u001b[0m 3ms/step - loss: 1.2957\n",
      "Epoch 3/40\n",
      "\u001b[1m18750/18750\u001b[0m \u001b[32m━━━━━━━━━━━━━━━━━━━━\u001b[0m\u001b[37m\u001b[0m \u001b[1m89s\u001b[0m 3ms/step - loss: 1.2768\n",
      "Epoch 4/40\n",
      "\u001b[1m18750/18750\u001b[0m \u001b[32m━━━━━━━━━━━━━━━━━━━━\u001b[0m\u001b[37m\u001b[0m \u001b[1m61s\u001b[0m 3ms/step - loss: 1.2697\n",
      "Epoch 5/40\n",
      "\u001b[1m18750/18750\u001b[0m \u001b[32m━━━━━━━━━━━━━━━━━━━━\u001b[0m\u001b[37m\u001b[0m \u001b[1m59s\u001b[0m 3ms/step - loss: 1.2611\n",
      "Epoch 6/40\n",
      "\u001b[1m18750/18750\u001b[0m \u001b[32m━━━━━━━━━━━━━━━━━━━━\u001b[0m\u001b[37m\u001b[0m \u001b[1m55s\u001b[0m 3ms/step - loss: 1.2562\n",
      "Epoch 7/40\n",
      "\u001b[1m18750/18750\u001b[0m \u001b[32m━━━━━━━━━━━━━━━━━━━━\u001b[0m\u001b[37m\u001b[0m \u001b[1m56s\u001b[0m 3ms/step - loss: 1.2539\n",
      "Epoch 8/40\n",
      "\u001b[1m18750/18750\u001b[0m \u001b[32m━━━━━━━━━━━━━━━━━━━━\u001b[0m\u001b[37m\u001b[0m \u001b[1m56s\u001b[0m 3ms/step - loss: 1.2513\n",
      "Epoch 9/40\n",
      "\u001b[1m18750/18750\u001b[0m \u001b[32m━━━━━━━━━━━━━━━━━━━━\u001b[0m\u001b[37m\u001b[0m \u001b[1m57s\u001b[0m 3ms/step - loss: 1.2507\n",
      "Epoch 10/40\n",
      "\u001b[1m18750/18750\u001b[0m \u001b[32m━━━━━━━━━━━━━━━━━━━━\u001b[0m\u001b[37m\u001b[0m \u001b[1m57s\u001b[0m 3ms/step - loss: 1.2476\n",
      "Epoch 11/40\n",
      "\u001b[1m18750/18750\u001b[0m \u001b[32m━━━━━━━━━━━━━━━━━━━━\u001b[0m\u001b[37m\u001b[0m \u001b[1m58s\u001b[0m 3ms/step - loss: 1.2474\n",
      "Epoch 12/40\n",
      "\u001b[1m18750/18750\u001b[0m \u001b[32m━━━━━━━━━━━━━━━━━━━━\u001b[0m\u001b[37m\u001b[0m \u001b[1m59s\u001b[0m 3ms/step - loss: 1.2479\n",
      "Epoch 13/40\n",
      "\u001b[1m18750/18750\u001b[0m \u001b[32m━━━━━━━━━━━━━━━━━━━━\u001b[0m\u001b[37m\u001b[0m \u001b[1m56s\u001b[0m 3ms/step - loss: 1.2480\n",
      "Epoch 14/40\n",
      "\u001b[1m18750/18750\u001b[0m \u001b[32m━━━━━━━━━━━━━━━━━━━━\u001b[0m\u001b[37m\u001b[0m \u001b[1m58s\u001b[0m 3ms/step - loss: 1.2483\n",
      "Epoch 15/40\n",
      "\u001b[1m18750/18750\u001b[0m \u001b[32m━━━━━━━━━━━━━━━━━━━━\u001b[0m\u001b[37m\u001b[0m \u001b[1m59s\u001b[0m 3ms/step - loss: 1.2493\n",
      "Epoch 16/40\n",
      "\u001b[1m18750/18750\u001b[0m \u001b[32m━━━━━━━━━━━━━━━━━━━━\u001b[0m\u001b[37m\u001b[0m \u001b[1m60s\u001b[0m 3ms/step - loss: 1.2474\n",
      "Epoch 17/40\n",
      "\u001b[1m18750/18750\u001b[0m \u001b[32m━━━━━━━━━━━━━━━━━━━━\u001b[0m\u001b[37m\u001b[0m \u001b[1m59s\u001b[0m 3ms/step - loss: 1.2448\n",
      "Epoch 18/40\n",
      "\u001b[1m18750/18750\u001b[0m \u001b[32m━━━━━━━━━━━━━━━━━━━━\u001b[0m\u001b[37m\u001b[0m \u001b[1m59s\u001b[0m 3ms/step - loss: 1.2439\n",
      "Epoch 19/40\n",
      "\u001b[1m18750/18750\u001b[0m \u001b[32m━━━━━━━━━━━━━━━━━━━━\u001b[0m\u001b[37m\u001b[0m \u001b[1m57s\u001b[0m 3ms/step - loss: 1.2462\n",
      "Epoch 20/40\n",
      "\u001b[1m18750/18750\u001b[0m \u001b[32m━━━━━━━━━━━━━━━━━━━━\u001b[0m\u001b[37m\u001b[0m \u001b[1m58s\u001b[0m 3ms/step - loss: 1.2406\n",
      "Epoch 21/40\n",
      "\u001b[1m18750/18750\u001b[0m \u001b[32m━━━━━━━━━━━━━━━━━━━━\u001b[0m\u001b[37m\u001b[0m \u001b[1m58s\u001b[0m 3ms/step - loss: 1.2427\n",
      "Epoch 22/40\n",
      "\u001b[1m18750/18750\u001b[0m \u001b[32m━━━━━━━━━━━━━━━━━━━━\u001b[0m\u001b[37m\u001b[0m \u001b[1m57s\u001b[0m 3ms/step - loss: 1.2441\n",
      "Epoch 23/40\n",
      "\u001b[1m18750/18750\u001b[0m \u001b[32m━━━━━━━━━━━━━━━━━━━━\u001b[0m\u001b[37m\u001b[0m \u001b[1m58s\u001b[0m 3ms/step - loss: 1.2421\n",
      "Epoch 24/40\n",
      "\u001b[1m18750/18750\u001b[0m \u001b[32m━━━━━━━━━━━━━━━━━━━━\u001b[0m\u001b[37m\u001b[0m \u001b[1m55s\u001b[0m 3ms/step - loss: 1.2403\n",
      "Epoch 25/40\n",
      "\u001b[1m18750/18750\u001b[0m \u001b[32m━━━━━━━━━━━━━━━━━━━━\u001b[0m\u001b[37m\u001b[0m \u001b[1m55s\u001b[0m 3ms/step - loss: 1.2411\n",
      "Epoch 26/40\n",
      "\u001b[1m18750/18750\u001b[0m \u001b[32m━━━━━━━━━━━━━━━━━━━━\u001b[0m\u001b[37m\u001b[0m \u001b[1m56s\u001b[0m 3ms/step - loss: 1.2401\n",
      "Epoch 27/40\n",
      "\u001b[1m18750/18750\u001b[0m \u001b[32m━━━━━━━━━━━━━━━━━━━━\u001b[0m\u001b[37m\u001b[0m \u001b[1m57s\u001b[0m 3ms/step - loss: 1.2382\n",
      "Epoch 28/40\n",
      "\u001b[1m18750/18750\u001b[0m \u001b[32m━━━━━━━━━━━━━━━━━━━━\u001b[0m\u001b[37m\u001b[0m \u001b[1m59s\u001b[0m 3ms/step - loss: 1.2395\n",
      "Epoch 29/40\n",
      "\u001b[1m18750/18750\u001b[0m \u001b[32m━━━━━━━━━━━━━━━━━━━━\u001b[0m\u001b[37m\u001b[0m \u001b[1m58s\u001b[0m 3ms/step - loss: 1.2397\n",
      "Epoch 30/40\n",
      "\u001b[1m18750/18750\u001b[0m \u001b[32m━━━━━━━━━━━━━━━━━━━━\u001b[0m\u001b[37m\u001b[0m \u001b[1m57s\u001b[0m 3ms/step - loss: 1.2352\n",
      "Epoch 31/40\n",
      "\u001b[1m18750/18750\u001b[0m \u001b[32m━━━━━━━━━━━━━━━━━━━━\u001b[0m\u001b[37m\u001b[0m \u001b[1m55s\u001b[0m 3ms/step - loss: 1.2372\n",
      "Epoch 32/40\n",
      "\u001b[1m18750/18750\u001b[0m \u001b[32m━━━━━━━━━━━━━━━━━━━━\u001b[0m\u001b[37m\u001b[0m \u001b[1m56s\u001b[0m 3ms/step - loss: 1.2344\n",
      "Epoch 33/40\n",
      "\u001b[1m18750/18750\u001b[0m \u001b[32m━━━━━━━━━━━━━━━━━━━━\u001b[0m\u001b[37m\u001b[0m \u001b[1m55s\u001b[0m 3ms/step - loss: 1.2358\n",
      "Epoch 34/40\n",
      "\u001b[1m18750/18750\u001b[0m \u001b[32m━━━━━━━━━━━━━━━━━━━━\u001b[0m\u001b[37m\u001b[0m \u001b[1m58s\u001b[0m 3ms/step - loss: 1.2368\n",
      "Epoch 35/40\n",
      "\u001b[1m18750/18750\u001b[0m \u001b[32m━━━━━━━━━━━━━━━━━━━━\u001b[0m\u001b[37m\u001b[0m \u001b[1m59s\u001b[0m 3ms/step - loss: 1.2356\n",
      "Epoch 36/40\n",
      "\u001b[1m18750/18750\u001b[0m \u001b[32m━━━━━━━━━━━━━━━━━━━━\u001b[0m\u001b[37m\u001b[0m \u001b[1m59s\u001b[0m 3ms/step - loss: 1.2410\n",
      "Epoch 37/40\n",
      "\u001b[1m18750/18750\u001b[0m \u001b[32m━━━━━━━━━━━━━━━━━━━━\u001b[0m\u001b[37m\u001b[0m \u001b[1m61s\u001b[0m 3ms/step - loss: 1.2377\n",
      "Epoch 38/40\n",
      "\u001b[1m18750/18750\u001b[0m \u001b[32m━━━━━━━━━━━━━━━━━━━━\u001b[0m\u001b[37m\u001b[0m \u001b[1m58s\u001b[0m 3ms/step - loss: 1.2402\n",
      "Epoch 39/40\n",
      "\u001b[1m18750/18750\u001b[0m \u001b[32m━━━━━━━━━━━━━━━━━━━━\u001b[0m\u001b[37m\u001b[0m \u001b[1m59s\u001b[0m 3ms/step - loss: 1.2342\n",
      "Epoch 40/40\n",
      "\u001b[1m18750/18750\u001b[0m \u001b[32m━━━━━━━━━━━━━━━━━━━━\u001b[0m\u001b[37m\u001b[0m \u001b[1m56s\u001b[0m 3ms/step - loss: 1.2365\n"
     ]
    },
    {
     "data": {
      "text/plain": [
       "<keras.src.callbacks.history.History at 0x246af19ed80>"
      ]
     },
     "execution_count": 41,
     "metadata": {},
     "output_type": "execute_result"
    }
   ],
   "source": [
    "model.fit(X_train, y_train, validation_data=(X_cv, y_cv), epochs=50, callbacks=callbacks)"
   ]
  },
  {
   "cell_type": "code",
   "execution_count": 42,
   "id": "3cf84eca",
   "metadata": {},
   "outputs": [
    {
     "name": "stdout",
     "output_type": "stream",
     "text": [
      "\u001b[1m2344/2344\u001b[0m \u001b[32m━━━━━━━━━━━━━━━━━━━━\u001b[0m\u001b[37m\u001b[0m \u001b[1m3s\u001b[0m 1ms/step\n"
     ]
    }
   ],
   "source": [
    "y_cv_pred_probs = model.predict(X_cv)   #predict probability for each label\n",
    "y_cv_pred = np.argmax(y_cv_pred_probs, axis=1)  # selects the label with maximum probability"
   ]
  },
  {
   "cell_type": "code",
   "execution_count": 43,
   "id": "dabe316b",
   "metadata": {},
   "outputs": [
    {
     "name": "stdout",
     "output_type": "stream",
     "text": [
      "0.7578266666666666\n"
     ]
    }
   ],
   "source": [
    "print(accuracy_score(y_cv,y_cv_pred))"
   ]
  },
  {
   "cell_type": "code",
   "execution_count": 44,
   "id": "47139c15",
   "metadata": {},
   "outputs": [
    {
     "name": "stdout",
     "output_type": "stream",
     "text": [
      "\u001b[1m2344/2344\u001b[0m \u001b[32m━━━━━━━━━━━━━━━━━━━━\u001b[0m\u001b[37m\u001b[0m \u001b[1m3s\u001b[0m 1ms/step\n",
      "0.75512\n"
     ]
    }
   ],
   "source": [
    "y_test_pred_probs = model.predict(X_test) \n",
    "y_test_pred = np.argmax(y_test_pred_probs, axis=1)\n",
    "print(accuracy_score(y_test,y_test_pred))"
   ]
  },
  {
   "cell_type": "code",
   "execution_count": 45,
   "id": "8ffe07cc",
   "metadata": {},
   "outputs": [],
   "source": [
    "model.save(\"doodle_model.keras\")"
   ]
  },
  {
   "cell_type": "code",
   "execution_count": null,
   "id": "877935fa",
   "metadata": {},
   "outputs": [],
   "source": []
  }
 ],
 "metadata": {
  "kernelspec": {
   "display_name": "ml_env",
   "language": "python",
   "name": "python3"
  },
  "language_info": {
   "codemirror_mode": {
    "name": "ipython",
    "version": 3
   },
   "file_extension": ".py",
   "mimetype": "text/x-python",
   "name": "python",
   "nbconvert_exporter": "python",
   "pygments_lexer": "ipython3",
   "version": "3.12.9"
  }
 },
 "nbformat": 4,
 "nbformat_minor": 5
}
