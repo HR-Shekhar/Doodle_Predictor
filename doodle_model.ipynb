{
 "cells": [
  {
   "cell_type": "code",
   "execution_count": 2,
   "id": "3e4acb8c",
   "metadata": {},
   "outputs": [],
   "source": [
    "import numpy as np\n",
    "import os\n",
    "import tensorflow as tf\n",
    "from sklearn.preprocessing import StandardScaler\n",
    "from sklearn.metrics import accuracy_score\n",
    "from tensorflow.keras.models import Sequential\n",
    "from tensorflow.keras.layers import Dense, Dropout\n",
    "from sklearn.model_selection import train_test_split\n",
    "from tensorflow.keras import regularizers, Input\n",
    "from tensorflow.keras.callbacks import EarlyStopping, ReduceLROnPlateau"
   ]
  },
  {
   "cell_type": "code",
   "execution_count": 3,
   "id": "aa388e09",
   "metadata": {},
   "outputs": [],
   "source": [
    "data_dir = ('./data/')\n",
    "class_names = [\"apple\", \"bat\", \"circle\", \"clock\", \"cloud\",\n",
    "               \"crown\", \"diamond\", \"donut\", \"fish\",\n",
    "                \"hot_dog\", \"lightning\", \"mountain\", \"skull\",\n",
    "                \"smiley_face\", \"square\", \"star\", \"sun\", \"t-shirt\", \"tree\"]"
   ]
  },
  {
   "cell_type": "code",
   "execution_count": 4,
   "id": "a8f4ddaa",
   "metadata": {},
   "outputs": [],
   "source": [
    "X = []\n",
    "y = []"
   ]
  },
  {
   "cell_type": "code",
   "execution_count": 5,
   "id": "a5a12996",
   "metadata": {},
   "outputs": [],
   "source": [
    "for label, class_name in enumerate(class_names):\n",
    "    # Create the path to the .npy file (e.g., './data/apple.npy')\n",
    "    file_path = os.path.join(data_dir, f\"{class_name}.npy\")\n",
    "\n",
    "    # Load the .npy file → shape: (2000, 28, 28)\n",
    "    data = np.load(file_path)\n",
    "\n",
    "    X.append(data)\n",
    "\n",
    "    # Add labels to y → [label, label, label, ..., label] (length = number of samples)\n",
    "    y.append(np.full((data.shape[0]), label))\n"
   ]
  },
  {
   "cell_type": "code",
   "execution_count": 6,
   "id": "591e25c3",
   "metadata": {},
   "outputs": [],
   "source": [
    "# Stack all image arrays vertically → final shape: (total_samples, 28, 28)\n",
    "X = np.vstack(X)\n",
    "\n",
    "# Stack all label arrays horizontally → final shape: (total_samples,)\n",
    "y = np.hstack(y)"
   ]
  },
  {
   "cell_type": "code",
   "execution_count": 7,
   "id": "cf073ff8",
   "metadata": {},
   "outputs": [],
   "source": [
    "scaler = StandardScaler()\n",
    "X = scaler.fit_transform(X)"
   ]
  },
  {
   "cell_type": "markdown",
   "id": "3a93e403",
   "metadata": {},
   "source": [
    "### Max Normalization"
   ]
  },
  {
   "cell_type": "code",
   "execution_count": 132,
   "id": "a8295fa5",
   "metadata": {},
   "outputs": [],
   "source": [
    "# # Normalize pixel values to range 0–1 (from 0–255)\n",
    "# X = X.astype('float32') / 255.0\n",
    "# X.shape"
   ]
  },
  {
   "cell_type": "code",
   "execution_count": 133,
   "id": "958befe6",
   "metadata": {},
   "outputs": [],
   "source": [
    "# Flatten each image from 28x28 → 784 for dense layers\n",
    "# X = X.reshape(X.shape[0], -1)  # shape becomes (total_samples, 784)"
   ]
  },
  {
   "cell_type": "code",
   "execution_count": 134,
   "id": "fabbc7aa",
   "metadata": {},
   "outputs": [],
   "source": [
    "X_train, X_, y_train, y_ = train_test_split(X,y, test_size=0.2, random_state=42, stratify=y)\n",
    "# `stratify=y` ensures equal class distribution in both training and validation sets.\n",
    "\n",
    "X_cv, X_test, y_cv, y_test = train_test_split(X_,y_, test_size=0.5, random_state=42, stratify=y_)"
   ]
  },
  {
   "cell_type": "code",
   "execution_count": 141,
   "id": "3e7f458d",
   "metadata": {},
   "outputs": [],
   "source": [
    "model = Sequential([\n",
    "    Input(shape=(784,), name=\"input_vector\"),\n",
    "    Dense(784, activation='relu', kernel_regularizer=regularizers.l2(0.001)),\n",
    "    Dropout(0.4),\n",
    "    Dense(512, activation='relu', kernel_regularizer=regularizers.l2(0.001)),\n",
    "    Dropout(0.35),\n",
    "    Dense(512, activation='relu', kernel_regularizer=regularizers.l2(0.001)),\n",
    "    Dropout(0.3),\n",
    "    Dense(256, activation='relu', kernel_regularizer=regularizers.l2(0.001)),\n",
    "    Dropout(0.25),\n",
    "    Dense(128, activation='relu', kernel_regularizer=regularizers.l2(0.001)),\n",
    "    Dropout(0.2),\n",
    "    Dense(len(class_names), activation='linear')\n",
    "])"
   ]
  },
  {
   "cell_type": "code",
   "execution_count": 143,
   "id": "574fe9e3",
   "metadata": {},
   "outputs": [],
   "source": [
    "model.compile(\n",
    "    loss=tf.keras.losses.SparseCategoricalCrossentropy(from_logits=True),\n",
    "    optimizer=tf.keras.optimizers.Adam(learning_rate=0.001),\n",
    "    metrics=['accuracy']\n",
    ")"
   ]
  },
  {
   "cell_type": "code",
   "execution_count": 144,
   "id": "2aa6f32b",
   "metadata": {},
   "outputs": [],
   "source": [
    "# Train\n",
    "callbacks = [\n",
    "    EarlyStopping(patience=5, restore_best_weights=True),\n",
    "    ReduceLROnPlateau(patience=3, factor=0.5)\n",
    "]"
   ]
  },
  {
   "cell_type": "code",
   "execution_count": 145,
   "id": "4b06072d",
   "metadata": {},
   "outputs": [
    {
     "name": "stdout",
     "output_type": "stream",
     "text": [
      "Epoch 1/60\n",
      "\u001b[1m14250/14250\u001b[0m \u001b[32m━━━━━━━━━━━━━━━━━━━━\u001b[0m\u001b[37m\u001b[0m \u001b[1m194s\u001b[0m 13ms/step - accuracy: 0.6756 - loss: 2.1104 - val_accuracy: 0.7906 - val_loss: 1.3634 - learning_rate: 0.0010\n",
      "Epoch 2/60\n",
      "\u001b[1m14250/14250\u001b[0m \u001b[32m━━━━━━━━━━━━━━━━━━━━\u001b[0m\u001b[37m\u001b[0m \u001b[1m194s\u001b[0m 14ms/step - accuracy: 0.7537 - loss: 1.4909 - val_accuracy: 0.8058 - val_loss: 1.2571 - learning_rate: 0.0010\n",
      "Epoch 3/60\n",
      "\u001b[1m14250/14250\u001b[0m \u001b[32m━━━━━━━━━━━━━━━━━━━━\u001b[0m\u001b[37m\u001b[0m \u001b[1m194s\u001b[0m 14ms/step - accuracy: 0.7603 - loss: 1.4274 - val_accuracy: 0.8186 - val_loss: 1.1939 - learning_rate: 0.0010\n",
      "Epoch 4/60\n",
      "\u001b[1m14250/14250\u001b[0m \u001b[32m━━━━━━━━━━━━━━━━━━━━\u001b[0m\u001b[37m\u001b[0m \u001b[1m192s\u001b[0m 13ms/step - accuracy: 0.7647 - loss: 1.3973 - val_accuracy: 0.8202 - val_loss: 1.1709 - learning_rate: 0.0010\n",
      "Epoch 5/60\n",
      "\u001b[1m14250/14250\u001b[0m \u001b[32m━━━━━━━━━━━━━━━━━━━━\u001b[0m\u001b[37m\u001b[0m \u001b[1m193s\u001b[0m 14ms/step - accuracy: 0.7655 - loss: 1.3844 - val_accuracy: 0.8227 - val_loss: 1.1663 - learning_rate: 0.0010\n",
      "Epoch 6/60\n",
      "\u001b[1m14250/14250\u001b[0m \u001b[32m━━━━━━━━━━━━━━━━━━━━\u001b[0m\u001b[37m\u001b[0m \u001b[1m194s\u001b[0m 14ms/step - accuracy: 0.7671 - loss: 1.3784 - val_accuracy: 0.8200 - val_loss: 1.1557 - learning_rate: 0.0010\n",
      "Epoch 7/60\n",
      "\u001b[1m14250/14250\u001b[0m \u001b[32m━━━━━━━━━━━━━━━━━━━━\u001b[0m\u001b[37m\u001b[0m \u001b[1m190s\u001b[0m 13ms/step - accuracy: 0.7662 - loss: 1.3666 - val_accuracy: 0.8228 - val_loss: 1.1498 - learning_rate: 0.0010\n",
      "Epoch 8/60\n",
      "\u001b[1m14250/14250\u001b[0m \u001b[32m━━━━━━━━━━━━━━━━━━━━\u001b[0m\u001b[37m\u001b[0m \u001b[1m191s\u001b[0m 13ms/step - accuracy: 0.7663 - loss: 1.3631 - val_accuracy: 0.8229 - val_loss: 1.1484 - learning_rate: 0.0010\n",
      "Epoch 9/60\n",
      "\u001b[1m14250/14250\u001b[0m \u001b[32m━━━━━━━━━━━━━━━━━━━━\u001b[0m\u001b[37m\u001b[0m \u001b[1m185s\u001b[0m 13ms/step - accuracy: 0.7665 - loss: 1.3594 - val_accuracy: 0.8182 - val_loss: 1.1582 - learning_rate: 0.0010\n",
      "Epoch 10/60\n",
      "\u001b[1m14250/14250\u001b[0m \u001b[32m━━━━━━━━━━━━━━━━━━━━\u001b[0m\u001b[37m\u001b[0m \u001b[1m180s\u001b[0m 13ms/step - accuracy: 0.7670 - loss: 1.3546 - val_accuracy: 0.8184 - val_loss: 1.1564 - learning_rate: 0.0010\n",
      "Epoch 11/60\n",
      "\u001b[1m14250/14250\u001b[0m \u001b[32m━━━━━━━━━━━━━━━━━━━━\u001b[0m\u001b[37m\u001b[0m \u001b[1m183s\u001b[0m 13ms/step - accuracy: 0.7674 - loss: 1.3476 - val_accuracy: 0.8237 - val_loss: 1.1288 - learning_rate: 0.0010\n",
      "Epoch 12/60\n",
      "\u001b[1m14250/14250\u001b[0m \u001b[32m━━━━━━━━━━━━━━━━━━━━\u001b[0m\u001b[37m\u001b[0m \u001b[1m185s\u001b[0m 13ms/step - accuracy: 0.7658 - loss: 1.3465 - val_accuracy: 0.8185 - val_loss: 1.1440 - learning_rate: 0.0010\n",
      "Epoch 13/60\n",
      "\u001b[1m14250/14250\u001b[0m \u001b[32m━━━━━━━━━━━━━━━━━━━━\u001b[0m\u001b[37m\u001b[0m \u001b[1m187s\u001b[0m 13ms/step - accuracy: 0.7667 - loss: 1.3380 - val_accuracy: 0.8258 - val_loss: 1.1204 - learning_rate: 0.0010\n",
      "Epoch 14/60\n",
      "\u001b[1m14250/14250\u001b[0m \u001b[32m━━━━━━━━━━━━━━━━━━━━\u001b[0m\u001b[37m\u001b[0m \u001b[1m187s\u001b[0m 13ms/step - accuracy: 0.7659 - loss: 1.3384 - val_accuracy: 0.8185 - val_loss: 1.1277 - learning_rate: 0.0010\n",
      "Epoch 15/60\n",
      "\u001b[1m14250/14250\u001b[0m \u001b[32m━━━━━━━━━━━━━━━━━━━━\u001b[0m\u001b[37m\u001b[0m \u001b[1m183s\u001b[0m 13ms/step - accuracy: 0.7651 - loss: 1.3400 - val_accuracy: 0.8226 - val_loss: 1.1182 - learning_rate: 0.0010\n",
      "Epoch 16/60\n",
      "\u001b[1m14250/14250\u001b[0m \u001b[32m━━━━━━━━━━━━━━━━━━━━\u001b[0m\u001b[37m\u001b[0m \u001b[1m191s\u001b[0m 13ms/step - accuracy: 0.7645 - loss: 1.3342 - val_accuracy: 0.8221 - val_loss: 1.1114 - learning_rate: 0.0010\n",
      "Epoch 17/60\n",
      "\u001b[1m14250/14250\u001b[0m \u001b[32m━━━━━━━━━━━━━━━━━━━━\u001b[0m\u001b[37m\u001b[0m \u001b[1m186s\u001b[0m 13ms/step - accuracy: 0.7656 - loss: 1.3340 - val_accuracy: 0.8241 - val_loss: 1.1082 - learning_rate: 0.0010\n",
      "Epoch 18/60\n",
      "\u001b[1m14250/14250\u001b[0m \u001b[32m━━━━━━━━━━━━━━━━━━━━\u001b[0m\u001b[37m\u001b[0m \u001b[1m186s\u001b[0m 13ms/step - accuracy: 0.7633 - loss: 1.3337 - val_accuracy: 0.8216 - val_loss: 1.1079 - learning_rate: 0.0010\n",
      "Epoch 19/60\n",
      "\u001b[1m14250/14250\u001b[0m \u001b[32m━━━━━━━━━━━━━━━━━━━━\u001b[0m\u001b[37m\u001b[0m \u001b[1m185s\u001b[0m 13ms/step - accuracy: 0.7631 - loss: 1.3337 - val_accuracy: 0.8249 - val_loss: 1.0985 - learning_rate: 0.0010\n",
      "Epoch 20/60\n",
      "\u001b[1m14250/14250\u001b[0m \u001b[32m━━━━━━━━━━━━━━━━━━━━\u001b[0m\u001b[37m\u001b[0m \u001b[1m186s\u001b[0m 13ms/step - accuracy: 0.7639 - loss: 1.3221 - val_accuracy: 0.8217 - val_loss: 1.1093 - learning_rate: 0.0010\n",
      "Epoch 21/60\n",
      "\u001b[1m14250/14250\u001b[0m \u001b[32m━━━━━━━━━━━━━━━━━━━━\u001b[0m\u001b[37m\u001b[0m \u001b[1m186s\u001b[0m 13ms/step - accuracy: 0.7651 - loss: 1.3229 - val_accuracy: 0.8211 - val_loss: 1.1040 - learning_rate: 0.0010\n",
      "Epoch 22/60\n",
      "\u001b[1m14250/14250\u001b[0m \u001b[32m━━━━━━━━━━━━━━━━━━━━\u001b[0m\u001b[37m\u001b[0m \u001b[1m184s\u001b[0m 13ms/step - accuracy: 0.7634 - loss: 1.3223 - val_accuracy: 0.8198 - val_loss: 1.1044 - learning_rate: 0.0010\n",
      "Epoch 23/60\n",
      "\u001b[1m14250/14250\u001b[0m \u001b[32m━━━━━━━━━━━━━━━━━━━━\u001b[0m\u001b[37m\u001b[0m \u001b[1m185s\u001b[0m 13ms/step - accuracy: 0.7907 - loss: 1.1391 - val_accuracy: 0.8506 - val_loss: 0.8616 - learning_rate: 5.0000e-04\n",
      "Epoch 24/60\n",
      "\u001b[1m14250/14250\u001b[0m \u001b[32m━━━━━━━━━━━━━━━━━━━━\u001b[0m\u001b[37m\u001b[0m \u001b[1m185s\u001b[0m 13ms/step - accuracy: 0.8004 - loss: 1.0492 - val_accuracy: 0.8519 - val_loss: 0.8537 - learning_rate: 5.0000e-04\n",
      "Epoch 25/60\n",
      "\u001b[1m14250/14250\u001b[0m \u001b[32m━━━━━━━━━━━━━━━━━━━━\u001b[0m\u001b[37m\u001b[0m \u001b[1m181s\u001b[0m 13ms/step - accuracy: 0.8023 - loss: 1.0415 - val_accuracy: 0.8511 - val_loss: 0.8476 - learning_rate: 5.0000e-04\n",
      "Epoch 26/60\n",
      "\u001b[1m14250/14250\u001b[0m \u001b[32m━━━━━━━━━━━━━━━━━━━━\u001b[0m\u001b[37m\u001b[0m \u001b[1m183s\u001b[0m 13ms/step - accuracy: 0.8030 - loss: 1.0300 - val_accuracy: 0.8492 - val_loss: 0.8517 - learning_rate: 5.0000e-04\n",
      "Epoch 27/60\n",
      "\u001b[1m14250/14250\u001b[0m \u001b[32m━━━━━━━━━━━━━━━━━━━━\u001b[0m\u001b[37m\u001b[0m \u001b[1m181s\u001b[0m 13ms/step - accuracy: 0.8026 - loss: 1.0325 - val_accuracy: 0.8518 - val_loss: 0.8453 - learning_rate: 5.0000e-04\n",
      "Epoch 28/60\n",
      "\u001b[1m14250/14250\u001b[0m \u001b[32m━━━━━━━━━━━━━━━━━━━━\u001b[0m\u001b[37m\u001b[0m \u001b[1m181s\u001b[0m 13ms/step - accuracy: 0.8035 - loss: 1.0274 - val_accuracy: 0.8538 - val_loss: 0.8412 - learning_rate: 5.0000e-04\n",
      "Epoch 29/60\n",
      "\u001b[1m14250/14250\u001b[0m \u001b[32m━━━━━━━━━━━━━━━━━━━━\u001b[0m\u001b[37m\u001b[0m \u001b[1m181s\u001b[0m 13ms/step - accuracy: 0.8046 - loss: 1.0224 - val_accuracy: 0.8512 - val_loss: 0.8437 - learning_rate: 5.0000e-04\n",
      "Epoch 30/60\n",
      "\u001b[1m14250/14250\u001b[0m \u001b[32m━━━━━━━━━━━━━━━━━━━━\u001b[0m\u001b[37m\u001b[0m \u001b[1m181s\u001b[0m 13ms/step - accuracy: 0.8025 - loss: 1.0266 - val_accuracy: 0.8536 - val_loss: 0.8339 - learning_rate: 5.0000e-04\n",
      "Epoch 31/60\n",
      "\u001b[1m14250/14250\u001b[0m \u001b[32m━━━━━━━━━━━━━━━━━━━━\u001b[0m\u001b[37m\u001b[0m \u001b[1m181s\u001b[0m 13ms/step - accuracy: 0.8038 - loss: 1.0235 - val_accuracy: 0.8492 - val_loss: 0.8389 - learning_rate: 5.0000e-04\n",
      "Epoch 32/60\n",
      "\u001b[1m14250/14250\u001b[0m \u001b[32m━━━━━━━━━━━━━━━━━━━━\u001b[0m\u001b[37m\u001b[0m \u001b[1m181s\u001b[0m 13ms/step - accuracy: 0.8039 - loss: 1.0219 - val_accuracy: 0.8511 - val_loss: 0.8379 - learning_rate: 5.0000e-04\n",
      "Epoch 33/60\n",
      "\u001b[1m14250/14250\u001b[0m \u001b[32m━━━━━━━━━━━━━━━━━━━━\u001b[0m\u001b[37m\u001b[0m \u001b[1m180s\u001b[0m 13ms/step - accuracy: 0.8057 - loss: 1.0182 - val_accuracy: 0.8517 - val_loss: 0.8403 - learning_rate: 5.0000e-04\n",
      "Epoch 34/60\n",
      "\u001b[1m14250/14250\u001b[0m \u001b[32m━━━━━━━━━━━━━━━━━━━━\u001b[0m\u001b[37m\u001b[0m \u001b[1m181s\u001b[0m 13ms/step - accuracy: 0.8217 - loss: 0.9276 - val_accuracy: 0.8724 - val_loss: 0.7030 - learning_rate: 2.5000e-04\n",
      "Epoch 35/60\n",
      "\u001b[1m14250/14250\u001b[0m \u001b[32m━━━━━━━━━━━━━━━━━━━━\u001b[0m\u001b[37m\u001b[0m \u001b[1m182s\u001b[0m 13ms/step - accuracy: 0.8302 - loss: 0.8616 - val_accuracy: 0.8714 - val_loss: 0.6931 - learning_rate: 2.5000e-04\n",
      "Epoch 36/60\n",
      "\u001b[1m14250/14250\u001b[0m \u001b[32m━━━━━━━━━━━━━━━━━━━━\u001b[0m\u001b[37m\u001b[0m \u001b[1m182s\u001b[0m 13ms/step - accuracy: 0.8311 - loss: 0.8504 - val_accuracy: 0.8721 - val_loss: 0.6847 - learning_rate: 2.5000e-04\n",
      "Epoch 37/60\n",
      "\u001b[1m14250/14250\u001b[0m \u001b[32m━━━━━━━━━━━━━━━━━━━━\u001b[0m\u001b[37m\u001b[0m \u001b[1m181s\u001b[0m 13ms/step - accuracy: 0.8305 - loss: 0.8496 - val_accuracy: 0.8734 - val_loss: 0.6816 - learning_rate: 2.5000e-04\n",
      "Epoch 38/60\n",
      "\u001b[1m14250/14250\u001b[0m \u001b[32m━━━━━━━━━━━━━━━━━━━━\u001b[0m\u001b[37m\u001b[0m \u001b[1m182s\u001b[0m 13ms/step - accuracy: 0.8317 - loss: 0.8452 - val_accuracy: 0.8734 - val_loss: 0.6820 - learning_rate: 2.5000e-04\n",
      "Epoch 39/60\n",
      "\u001b[1m14250/14250\u001b[0m \u001b[32m━━━━━━━━━━━━━━━━━━━━\u001b[0m\u001b[37m\u001b[0m \u001b[1m181s\u001b[0m 13ms/step - accuracy: 0.8318 - loss: 0.8415 - val_accuracy: 0.8752 - val_loss: 0.6763 - learning_rate: 2.5000e-04\n",
      "Epoch 40/60\n",
      "\u001b[1m14250/14250\u001b[0m \u001b[32m━━━━━━━━━━━━━━━━━━━━\u001b[0m\u001b[37m\u001b[0m \u001b[1m182s\u001b[0m 13ms/step - accuracy: 0.8327 - loss: 0.8369 - val_accuracy: 0.8736 - val_loss: 0.6786 - learning_rate: 2.5000e-04\n",
      "Epoch 41/60\n",
      "\u001b[1m14250/14250\u001b[0m \u001b[32m━━━━━━━━━━━━━━━━━━━━\u001b[0m\u001b[37m\u001b[0m \u001b[1m182s\u001b[0m 13ms/step - accuracy: 0.8333 - loss: 0.8377 - val_accuracy: 0.8759 - val_loss: 0.6685 - learning_rate: 2.5000e-04\n",
      "Epoch 42/60\n",
      "\u001b[1m14250/14250\u001b[0m \u001b[32m━━━━━━━━━━━━━━━━━━━━\u001b[0m\u001b[37m\u001b[0m \u001b[1m183s\u001b[0m 13ms/step - accuracy: 0.8329 - loss: 0.8338 - val_accuracy: 0.8742 - val_loss: 0.6708 - learning_rate: 2.5000e-04\n",
      "Epoch 43/60\n",
      "\u001b[1m14250/14250\u001b[0m \u001b[32m━━━━━━━━━━━━━━━━━━━━\u001b[0m\u001b[37m\u001b[0m \u001b[1m182s\u001b[0m 13ms/step - accuracy: 0.8339 - loss: 0.8329 - val_accuracy: 0.8750 - val_loss: 0.6699 - learning_rate: 2.5000e-04\n",
      "Epoch 44/60\n",
      "\u001b[1m14250/14250\u001b[0m \u001b[32m━━━━━━━━━━━━━━━━━━━━\u001b[0m\u001b[37m\u001b[0m \u001b[1m185s\u001b[0m 13ms/step - accuracy: 0.8327 - loss: 0.8321 - val_accuracy: 0.8758 - val_loss: 0.6642 - learning_rate: 2.5000e-04\n",
      "Epoch 45/60\n",
      "\u001b[1m14250/14250\u001b[0m \u001b[32m━━━━━━━━━━━━━━━━━━━━\u001b[0m\u001b[37m\u001b[0m \u001b[1m183s\u001b[0m 13ms/step - accuracy: 0.8336 - loss: 0.8287 - val_accuracy: 0.8761 - val_loss: 0.6642 - learning_rate: 2.5000e-04\n",
      "Epoch 46/60\n",
      "\u001b[1m14250/14250\u001b[0m \u001b[32m━━━━━━━━━━━━━━━━━━━━\u001b[0m\u001b[37m\u001b[0m \u001b[1m182s\u001b[0m 13ms/step - accuracy: 0.8342 - loss: 0.8246 - val_accuracy: 0.8751 - val_loss: 0.6625 - learning_rate: 2.5000e-04\n",
      "Epoch 47/60\n",
      "\u001b[1m14250/14250\u001b[0m \u001b[32m━━━━━━━━━━━━━━━━━━━━\u001b[0m\u001b[37m\u001b[0m \u001b[1m184s\u001b[0m 13ms/step - accuracy: 0.8338 - loss: 0.8271 - val_accuracy: 0.8753 - val_loss: 0.6685 - learning_rate: 2.5000e-04\n",
      "Epoch 48/60\n",
      "\u001b[1m14250/14250\u001b[0m \u001b[32m━━━━━━━━━━━━━━━━━━━━\u001b[0m\u001b[37m\u001b[0m \u001b[1m186s\u001b[0m 13ms/step - accuracy: 0.8327 - loss: 0.8298 - val_accuracy: 0.8777 - val_loss: 0.6594 - learning_rate: 2.5000e-04\n",
      "Epoch 49/60\n",
      "\u001b[1m14250/14250\u001b[0m \u001b[32m━━━━━━━━━━━━━━━━━━━━\u001b[0m\u001b[37m\u001b[0m \u001b[1m185s\u001b[0m 13ms/step - accuracy: 0.8355 - loss: 0.8233 - val_accuracy: 0.8763 - val_loss: 0.6613 - learning_rate: 2.5000e-04\n",
      "Epoch 50/60\n",
      "\u001b[1m14250/14250\u001b[0m \u001b[32m━━━━━━━━━━━━━━━━━━━━\u001b[0m\u001b[37m\u001b[0m \u001b[1m183s\u001b[0m 13ms/step - accuracy: 0.8352 - loss: 0.8227 - val_accuracy: 0.8773 - val_loss: 0.6608 - learning_rate: 2.5000e-04\n",
      "Epoch 51/60\n",
      "\u001b[1m14250/14250\u001b[0m \u001b[32m━━━━━━━━━━━━━━━━━━━━\u001b[0m\u001b[37m\u001b[0m \u001b[1m183s\u001b[0m 13ms/step - accuracy: 0.8349 - loss: 0.8232 - val_accuracy: 0.8753 - val_loss: 0.6665 - learning_rate: 2.5000e-04\n",
      "Epoch 52/60\n",
      "\u001b[1m14250/14250\u001b[0m \u001b[32m━━━━━━━━━━━━━━━━━━━━\u001b[0m\u001b[37m\u001b[0m \u001b[1m184s\u001b[0m 13ms/step - accuracy: 0.8461 - loss: 0.7713 - val_accuracy: 0.8866 - val_loss: 0.5976 - learning_rate: 1.2500e-04\n",
      "Epoch 53/60\n",
      "\u001b[1m14250/14250\u001b[0m \u001b[32m━━━━━━━━━━━━━━━━━━━━\u001b[0m\u001b[37m\u001b[0m \u001b[1m190s\u001b[0m 13ms/step - accuracy: 0.8513 - loss: 0.7318 - val_accuracy: 0.8875 - val_loss: 0.5871 - learning_rate: 1.2500e-04\n",
      "Epoch 54/60\n",
      "\u001b[1m14250/14250\u001b[0m \u001b[32m━━━━━━━━━━━━━━━━━━━━\u001b[0m\u001b[37m\u001b[0m \u001b[1m188s\u001b[0m 13ms/step - accuracy: 0.8532 - loss: 0.7230 - val_accuracy: 0.8891 - val_loss: 0.5790 - learning_rate: 1.2500e-04\n",
      "Epoch 55/60\n",
      "\u001b[1m14250/14250\u001b[0m \u001b[32m━━━━━━━━━━━━━━━━━━━━\u001b[0m\u001b[37m\u001b[0m \u001b[1m184s\u001b[0m 13ms/step - accuracy: 0.8542 - loss: 0.7164 - val_accuracy: 0.8888 - val_loss: 0.5787 - learning_rate: 1.2500e-04\n",
      "Epoch 56/60\n",
      "\u001b[1m14250/14250\u001b[0m \u001b[32m━━━━━━━━━━━━━━━━━━━━\u001b[0m\u001b[37m\u001b[0m \u001b[1m184s\u001b[0m 13ms/step - accuracy: 0.8530 - loss: 0.7179 - val_accuracy: 0.8890 - val_loss: 0.5788 - learning_rate: 1.2500e-04\n",
      "Epoch 57/60\n",
      "\u001b[1m14250/14250\u001b[0m \u001b[32m━━━━━━━━━━━━━━━━━━━━\u001b[0m\u001b[37m\u001b[0m \u001b[1m185s\u001b[0m 13ms/step - accuracy: 0.8550 - loss: 0.7092 - val_accuracy: 0.8901 - val_loss: 0.5735 - learning_rate: 1.2500e-04\n",
      "Epoch 58/60\n",
      "\u001b[1m14250/14250\u001b[0m \u001b[32m━━━━━━━━━━━━━━━━━━━━\u001b[0m\u001b[37m\u001b[0m \u001b[1m184s\u001b[0m 13ms/step - accuracy: 0.8542 - loss: 0.7101 - val_accuracy: 0.8914 - val_loss: 0.5688 - learning_rate: 1.2500e-04\n",
      "Epoch 59/60\n",
      "\u001b[1m14250/14250\u001b[0m \u001b[32m━━━━━━━━━━━━━━━━━━━━\u001b[0m\u001b[37m\u001b[0m \u001b[1m184s\u001b[0m 13ms/step - accuracy: 0.8544 - loss: 0.7085 - val_accuracy: 0.8897 - val_loss: 0.5725 - learning_rate: 1.2500e-04\n",
      "Epoch 60/60\n",
      "\u001b[1m14250/14250\u001b[0m \u001b[32m━━━━━━━━━━━━━━━━━━━━\u001b[0m\u001b[37m\u001b[0m \u001b[1m186s\u001b[0m 13ms/step - accuracy: 0.8546 - loss: 0.7070 - val_accuracy: 0.8902 - val_loss: 0.5697 - learning_rate: 1.2500e-04\n"
     ]
    },
    {
     "data": {
      "text/plain": [
       "<keras.src.callbacks.history.History at 0x246bc1d3fb0>"
      ]
     },
     "execution_count": 145,
     "metadata": {},
     "output_type": "execute_result"
    }
   ],
   "source": [
    "model.fit(X_train, y_train, validation_data=(X_cv, y_cv), epochs=60, callbacks=callbacks)"
   ]
  },
  {
   "cell_type": "code",
   "execution_count": null,
   "id": "3cf84eca",
   "metadata": {},
   "outputs": [
    {
     "name": "stdout",
     "output_type": "stream",
     "text": [
      "\u001b[1m2063/2063\u001b[0m \u001b[32m━━━━━━━━━━━━━━━━━━━━\u001b[0m\u001b[37m\u001b[0m \u001b[1m3s\u001b[0m 2ms/step\n"
     ]
    }
   ],
   "source": [
    "y_cv_pred_probs = model.predict(X_cv)   #predict probability for each label\n",
    "y_cv_pred = np.argmax(y_cv_pred_probs, axis=1)  # selects the label with maximum probability"
   ]
  },
  {
   "cell_type": "code",
   "execution_count": null,
   "id": "dabe316b",
   "metadata": {},
   "outputs": [
    {
     "name": "stdout",
     "output_type": "stream",
     "text": [
      "0.865560606060606\n"
     ]
    }
   ],
   "source": [
    "print(accuracy_score(y_cv,y_cv_pred))"
   ]
  },
  {
   "cell_type": "code",
   "execution_count": null,
   "id": "47139c15",
   "metadata": {},
   "outputs": [
    {
     "name": "stdout",
     "output_type": "stream",
     "text": [
      "\u001b[1m2063/2063\u001b[0m \u001b[32m━━━━━━━━━━━━━━━━━━━━\u001b[0m\u001b[37m\u001b[0m \u001b[1m3s\u001b[0m 1ms/step\n",
      "0.8652878787878788\n"
     ]
    }
   ],
   "source": [
    "y_test_pred_probs = model.predict(X_test) \n",
    "y_test_pred = np.argmax(y_test_pred_probs, axis=1)\n",
    "print(accuracy_score(y_test,y_test_pred))"
   ]
  },
  {
   "cell_type": "code",
   "execution_count": null,
   "id": "8ffe07cc",
   "metadata": {},
   "outputs": [],
   "source": [
    "model.save(\"doodle_model.keras\")"
   ]
  },
  {
   "cell_type": "code",
   "execution_count": 9,
   "id": "877935fa",
   "metadata": {},
   "outputs": [
    {
     "data": {
      "text/plain": [
       "['data_scaler.pkl']"
      ]
     },
     "execution_count": 9,
     "metadata": {},
     "output_type": "execute_result"
    }
   ],
   "source": [
    "import joblib\n",
    "\n",
    "data_scaler = {\"scaler\" : scaler}\n",
    "\n",
    "joblib.dump(data_scaler, \"data_scaler.pkl\")"
   ]
  }
 ],
 "metadata": {
  "kernelspec": {
   "display_name": "ml_env",
   "language": "python",
   "name": "python3"
  },
  "language_info": {
   "codemirror_mode": {
    "name": "ipython",
    "version": 3
   },
   "file_extension": ".py",
   "mimetype": "text/x-python",
   "name": "python",
   "nbconvert_exporter": "python",
   "pygments_lexer": "ipython3",
   "version": "3.12.9"
  }
 },
 "nbformat": 4,
 "nbformat_minor": 5
}
