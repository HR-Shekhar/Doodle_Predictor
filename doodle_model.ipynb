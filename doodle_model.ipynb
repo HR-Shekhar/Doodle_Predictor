{
 "cells": [
  {
   "cell_type": "code",
   "execution_count": 29,
   "id": "3e4acb8c",
   "metadata": {},
   "outputs": [],
   "source": [
    "import numpy as np\n",
    "import os\n",
    "import tensorflow as tf\n",
    "from sklearn.preprocessing import StandardScaler\n",
    "from sklearn.metrics import accuracy_score\n",
    "from tensorflow.keras.models import Sequential\n",
    "from tensorflow.keras.layers import Dense, Dropout\n",
    "from sklearn.model_selection import train_test_split\n",
    "from tensorflow.keras import regularizers, Input\n",
    "from tensorflow.keras.callbacks import EarlyStopping, ReduceLROnPlateau"
   ]
  },
  {
   "cell_type": "code",
   "execution_count": 30,
   "id": "aa388e09",
   "metadata": {},
   "outputs": [
    {
     "data": {
      "text/plain": [
       "19"
      ]
     },
     "execution_count": 30,
     "metadata": {},
     "output_type": "execute_result"
    }
   ],
   "source": [
    "data_dir = ('./data/')\n",
    "class_names = [\"apple\", \"bat\", \"circle\", \"clock\", \"cloud\",\n",
    "               \"crown\", \"diamond\", \"donut\", \"fish\",\n",
    "                \"hot_dog\", \"lightning\", \"mountain\", \"skull\",\n",
    "                \"smiley_face\", \"square\", \"star\", \"sun\", \"t-shirt\", \"tree\"]\n",
    "\n",
    "len(class_names)"
   ]
  },
  {
   "cell_type": "code",
   "execution_count": 31,
   "id": "a8f4ddaa",
   "metadata": {},
   "outputs": [],
   "source": [
    "X = []\n",
    "y = []"
   ]
  },
  {
   "cell_type": "code",
   "execution_count": 32,
   "id": "a5a12996",
   "metadata": {},
   "outputs": [],
   "source": [
    "for label, class_name in enumerate(class_names):\n",
    "    # Create the path to the .npy file (e.g., './data/apple.npy')\n",
    "    file_path = os.path.join(data_dir, f\"{class_name}.npy\")\n",
    "\n",
    "    # Load the .npy file → shape: (2000, 28, 28)\n",
    "    data = np.load(file_path)\n",
    "\n",
    "    X.append(data)\n",
    "\n",
    "    # Add labels to y → [label, label, label, ..., label] (length = number of samples)\n",
    "    y.append(np.full((data.shape[0]), label))\n"
   ]
  },
  {
   "cell_type": "code",
   "execution_count": 33,
   "id": "591e25c3",
   "metadata": {},
   "outputs": [],
   "source": [
    "# Stack all image arrays vertically → final shape: (total_samples, 28, 28)\n",
    "X = np.vstack(X)\n",
    "\n",
    "# Stack all label arrays horizontally → final shape: (total_samples,)\n",
    "y = np.hstack(y)"
   ]
  },
  {
   "cell_type": "code",
   "execution_count": 34,
   "id": "cf073ff8",
   "metadata": {},
   "outputs": [],
   "source": [
    "scaler = StandardScaler()\n",
    "X = scaler.fit_transform(X)"
   ]
  },
  {
   "cell_type": "markdown",
   "id": "3a93e403",
   "metadata": {},
   "source": [
    "### Max Normalization"
   ]
  },
  {
   "cell_type": "code",
   "execution_count": 35,
   "id": "a8295fa5",
   "metadata": {},
   "outputs": [],
   "source": [
    "# # Normalize pixel values to range 0–1 (from 0–255)\n",
    "# X = X.astype('float32') / 255.0\n",
    "# X.shape"
   ]
  },
  {
   "cell_type": "code",
   "execution_count": 36,
   "id": "958befe6",
   "metadata": {},
   "outputs": [],
   "source": [
    "# Flatten each image from 28x28 → 784 for dense layers\n",
    "# X = X.reshape(X.shape[0], -1)  # shape becomes (total_samples, 784)"
   ]
  },
  {
   "cell_type": "code",
   "execution_count": 37,
   "id": "fabbc7aa",
   "metadata": {},
   "outputs": [],
   "source": [
    "X_train, X_, y_train, y_ = train_test_split(X,y, test_size=0.2, random_state=42, stratify=y)\n",
    "# `stratify=y` ensures equal class distribution in both training and validation sets.\n",
    "\n",
    "X_cv, X_test, y_cv, y_test = train_test_split(X_,y_, test_size=0.5, random_state=42, stratify=y_)"
   ]
  },
  {
   "cell_type": "code",
   "execution_count": 38,
   "id": "3e7f458d",
   "metadata": {},
   "outputs": [],
   "source": [
    "model = Sequential([\n",
    "    Input(shape=(784,), name=\"input_vector\"),\n",
    "    Dense(784, activation='relu', kernel_regularizer=regularizers.l2(0.001)),\n",
    "    Dropout(0.4),\n",
    "    Dense(512, activation='relu', kernel_regularizer=regularizers.l2(0.001)),\n",
    "    Dropout(0.35),\n",
    "    Dense(512, activation='relu', kernel_regularizer=regularizers.l2(0.001)),\n",
    "    Dropout(0.3),\n",
    "    Dense(256, activation='relu', kernel_regularizer=regularizers.l2(0.001)),\n",
    "    Dropout(0.25),\n",
    "    Dense(128, activation='relu', kernel_regularizer=regularizers.l2(0.001)),\n",
    "    Dropout(0.2),\n",
    "    Dense(64, activation='relu', kernel_regularizer=regularizers.l2(0.001)),\n",
    "    Dropout(0.15),\n",
    "    Dense(19, activation='linear')\n",
    "])"
   ]
  },
  {
   "cell_type": "code",
   "execution_count": 39,
   "id": "574fe9e3",
   "metadata": {},
   "outputs": [],
   "source": [
    "model.compile(\n",
    "    loss=tf.keras.losses.SparseCategoricalCrossentropy(from_logits=True),\n",
    "    optimizer=tf.keras.optimizers.Adam(learning_rate=0.001),\n",
    "    metrics=['accuracy']\n",
    ")"
   ]
  },
  {
   "cell_type": "code",
   "execution_count": 40,
   "id": "2aa6f32b",
   "metadata": {},
   "outputs": [],
   "source": [
    "# Train\n",
    "callbacks = [\n",
    "    EarlyStopping(patience=5, restore_best_weights=True),\n",
    "    ReduceLROnPlateau(patience=3, factor=0.5)\n",
    "]"
   ]
  },
  {
   "cell_type": "code",
   "execution_count": null,
   "id": "4b06072d",
   "metadata": {},
   "outputs": [
    {
     "name": "stdout",
     "output_type": "stream",
     "text": [
      "Epoch 1/60\n",
      "\u001b[1m14250/14250\u001b[0m \u001b[32m━━━━━━━━━━━━━━━━━━━━\u001b[0m\u001b[37m\u001b[0m \u001b[1m188s\u001b[0m 13ms/step - accuracy: 0.6539 - loss: 2.1835 - val_accuracy: 0.8001 - val_loss: 1.3548 - learning_rate: 0.0010\n",
      "Epoch 2/60\n",
      "\u001b[1m14250/14250\u001b[0m \u001b[32m━━━━━━━━━━━━━━━━━━━━\u001b[0m\u001b[37m\u001b[0m \u001b[1m180s\u001b[0m 13ms/step - accuracy: 0.7474 - loss: 1.5474 - val_accuracy: 0.8055 - val_loss: 1.2809 - learning_rate: 0.0010\n",
      "Epoch 3/60\n",
      "\u001b[1m14250/14250\u001b[0m \u001b[32m━━━━━━━━━━━━━━━━━━━━\u001b[0m\u001b[37m\u001b[0m \u001b[1m175s\u001b[0m 12ms/step - accuracy: 0.7546 - loss: 1.4857 - val_accuracy: 0.8043 - val_loss: 1.2847 - learning_rate: 0.0010\n",
      "Epoch 4/60\n",
      "\u001b[1m14250/14250\u001b[0m \u001b[32m━━━━━━━━━━━━━━━━━━━━\u001b[0m\u001b[37m\u001b[0m \u001b[1m175s\u001b[0m 12ms/step - accuracy: 0.7577 - loss: 1.4610 - val_accuracy: 0.8092 - val_loss: 1.2440 - learning_rate: 0.0010\n",
      "Epoch 5/60\n",
      "\u001b[1m14250/14250\u001b[0m \u001b[32m━━━━━━━━━━━━━━━━━━━━\u001b[0m\u001b[37m\u001b[0m \u001b[1m175s\u001b[0m 12ms/step - accuracy: 0.7588 - loss: 1.4462 - val_accuracy: 0.8151 - val_loss: 1.2269 - learning_rate: 0.0010\n",
      "Epoch 6/60\n",
      "\u001b[1m14250/14250\u001b[0m \u001b[32m━━━━━━━━━━━━━━━━━━━━\u001b[0m\u001b[37m\u001b[0m \u001b[1m175s\u001b[0m 12ms/step - accuracy: 0.7605 - loss: 1.4314 - val_accuracy: 0.8126 - val_loss: 1.2124 - learning_rate: 0.0010\n",
      "Epoch 7/60\n",
      "\u001b[1m14250/14250\u001b[0m \u001b[32m━━━━━━━━━━━━━━━━━━━━\u001b[0m\u001b[37m\u001b[0m \u001b[1m176s\u001b[0m 12ms/step - accuracy: 0.7602 - loss: 1.4250 - val_accuracy: 0.8131 - val_loss: 1.2246 - learning_rate: 0.0010\n",
      "Epoch 8/60\n",
      "\u001b[1m14250/14250\u001b[0m \u001b[32m━━━━━━━━━━━━━━━━━━━━\u001b[0m\u001b[37m\u001b[0m \u001b[1m175s\u001b[0m 12ms/step - accuracy: 0.7600 - loss: 1.4205 - val_accuracy: 0.8160 - val_loss: 1.2065 - learning_rate: 0.0010\n",
      "Epoch 9/60\n",
      "\u001b[1m14250/14250\u001b[0m \u001b[32m━━━━━━━━━━━━━━━━━━━━\u001b[0m\u001b[37m\u001b[0m \u001b[1m174s\u001b[0m 12ms/step - accuracy: 0.7599 - loss: 1.4150 - val_accuracy: 0.8101 - val_loss: 1.1995 - learning_rate: 0.0010\n",
      "Epoch 10/60\n",
      "\u001b[1m14250/14250\u001b[0m \u001b[32m━━━━━━━━━━━━━━━━━━━━\u001b[0m\u001b[37m\u001b[0m \u001b[1m175s\u001b[0m 12ms/step - accuracy: 0.7601 - loss: 1.4087 - val_accuracy: 0.8118 - val_loss: 1.2039 - learning_rate: 0.0010\n",
      "Epoch 11/60\n",
      "\u001b[1m14250/14250\u001b[0m \u001b[32m━━━━━━━━━━━━━━━━━━━━\u001b[0m\u001b[37m\u001b[0m \u001b[1m175s\u001b[0m 12ms/step - accuracy: 0.7598 - loss: 1.4034 - val_accuracy: 0.8114 - val_loss: 1.1801 - learning_rate: 0.0010\n",
      "Epoch 12/60\n",
      "\u001b[1m14250/14250\u001b[0m \u001b[32m━━━━━━━━━━━━━━━━━━━━\u001b[0m\u001b[37m\u001b[0m \u001b[1m175s\u001b[0m 12ms/step - accuracy: 0.7602 - loss: 1.3957 - val_accuracy: 0.8101 - val_loss: 1.1951 - learning_rate: 0.0010\n",
      "Epoch 13/60\n",
      "\u001b[1m14250/14250\u001b[0m \u001b[32m━━━━━━━━━━━━━━━━━━━━\u001b[0m\u001b[37m\u001b[0m \u001b[1m175s\u001b[0m 12ms/step - accuracy: 0.7606 - loss: 1.3905 - val_accuracy: 0.8151 - val_loss: 1.1787 - learning_rate: 0.0010\n",
      "Epoch 14/60\n",
      "\u001b[1m14250/14250\u001b[0m \u001b[32m━━━━━━━━━━━━━━━━━━━━\u001b[0m\u001b[37m\u001b[0m \u001b[1m175s\u001b[0m 12ms/step - accuracy: 0.7590 - loss: 1.3929 - val_accuracy: 0.8080 - val_loss: 1.1875 - learning_rate: 0.0010\n",
      "Epoch 15/60\n",
      "\u001b[1m14250/14250\u001b[0m \u001b[32m━━━━━━━━━━━━━━━━━━━━\u001b[0m\u001b[37m\u001b[0m \u001b[1m175s\u001b[0m 12ms/step - accuracy: 0.7599 - loss: 1.3880 - val_accuracy: 0.8152 - val_loss: 1.1578 - learning_rate: 0.0010\n",
      "Epoch 16/60\n",
      "\u001b[1m14250/14250\u001b[0m \u001b[32m━━━━━━━━━━━━━━━━━━━━\u001b[0m\u001b[37m\u001b[0m \u001b[1m175s\u001b[0m 12ms/step - accuracy: 0.7586 - loss: 1.3886 - val_accuracy: 0.8167 - val_loss: 1.1548 - learning_rate: 0.0010\n",
      "Epoch 17/60\n",
      "\u001b[1m14250/14250\u001b[0m \u001b[32m━━━━━━━━━━━━━━━━━━━━\u001b[0m\u001b[37m\u001b[0m \u001b[1m176s\u001b[0m 12ms/step - accuracy: 0.7585 - loss: 1.3895 - val_accuracy: 0.8172 - val_loss: 1.1572 - learning_rate: 0.0010\n",
      "Epoch 18/60\n",
      "\u001b[1m14250/14250\u001b[0m \u001b[32m━━━━━━━━━━━━━━━━━━━━\u001b[0m\u001b[37m\u001b[0m \u001b[1m174s\u001b[0m 12ms/step - accuracy: 0.7592 - loss: 1.3821 - val_accuracy: 0.8189 - val_loss: 1.1523 - learning_rate: 0.0010\n",
      "Epoch 19/60\n",
      "\u001b[1m14250/14250\u001b[0m \u001b[32m━━━━━━━━━━━━━━━━━━━━\u001b[0m\u001b[37m\u001b[0m \u001b[1m176s\u001b[0m 12ms/step - accuracy: 0.7572 - loss: 1.3867 - val_accuracy: 0.8143 - val_loss: 1.1610 - learning_rate: 0.0010\n",
      "Epoch 20/60\n",
      "\u001b[1m14250/14250\u001b[0m \u001b[32m━━━━━━━━━━━━━━━━━━━━\u001b[0m\u001b[37m\u001b[0m \u001b[1m175s\u001b[0m 12ms/step - accuracy: 0.7570 - loss: 1.3865 - val_accuracy: 0.8184 - val_loss: 1.1504 - learning_rate: 0.0010\n",
      "Epoch 21/60\n",
      "\u001b[1m14250/14250\u001b[0m \u001b[32m━━━━━━━━━━━━━━━━━━━━\u001b[0m\u001b[37m\u001b[0m \u001b[1m177s\u001b[0m 12ms/step - accuracy: 0.7579 - loss: 1.3823 - val_accuracy: 0.8037 - val_loss: 1.1952 - learning_rate: 0.0010\n",
      "Epoch 22/60\n",
      "\u001b[1m14250/14250\u001b[0m \u001b[32m━━━━━━━━━━━━━━━━━━━━\u001b[0m\u001b[37m\u001b[0m \u001b[1m175s\u001b[0m 12ms/step - accuracy: 0.7570 - loss: 1.3837 - val_accuracy: 0.8134 - val_loss: 1.1637 - learning_rate: 0.0010\n",
      "Epoch 23/60\n",
      "\u001b[1m14250/14250\u001b[0m \u001b[32m━━━━━━━━━━━━━━━━━━━━\u001b[0m\u001b[37m\u001b[0m \u001b[1m177s\u001b[0m 12ms/step - accuracy: 0.7586 - loss: 1.3777 - val_accuracy: 0.8103 - val_loss: 1.1709 - learning_rate: 0.0010\n",
      "Epoch 24/60\n",
      "\u001b[1m14250/14250\u001b[0m \u001b[32m━━━━━━━━━━━━━━━━━━━━\u001b[0m\u001b[37m\u001b[0m \u001b[1m177s\u001b[0m 12ms/step - accuracy: 0.7847 - loss: 1.1959 - val_accuracy: 0.8444 - val_loss: 0.9099 - learning_rate: 5.0000e-04\n",
      "Epoch 25/60\n",
      "\u001b[1m14250/14250\u001b[0m \u001b[32m━━━━━━━━━━━━━━━━━━━━\u001b[0m\u001b[37m\u001b[0m \u001b[1m176s\u001b[0m 12ms/step - accuracy: 0.7942 - loss: 1.1067 - val_accuracy: 0.8483 - val_loss: 0.8912 - learning_rate: 5.0000e-04\n",
      "Epoch 26/60\n",
      "\u001b[1m14250/14250\u001b[0m \u001b[32m━━━━━━━━━━━━━━━━━━━━\u001b[0m\u001b[37m\u001b[0m \u001b[1m176s\u001b[0m 12ms/step - accuracy: 0.7967 - loss: 1.0923 - val_accuracy: 0.8472 - val_loss: 0.8966 - learning_rate: 5.0000e-04\n",
      "Epoch 27/60\n",
      "\u001b[1m14250/14250\u001b[0m \u001b[32m━━━━━━━━━━━━━━━━━━━━\u001b[0m\u001b[37m\u001b[0m \u001b[1m175s\u001b[0m 12ms/step - accuracy: 0.7977 - loss: 1.0876 - val_accuracy: 0.8491 - val_loss: 0.8853 - learning_rate: 5.0000e-04\n",
      "Epoch 28/60\n",
      "\u001b[1m14250/14250\u001b[0m \u001b[32m━━━━━━━━━━━━━━━━━━━━\u001b[0m\u001b[37m\u001b[0m \u001b[1m176s\u001b[0m 12ms/step - accuracy: 0.7982 - loss: 1.0860 - val_accuracy: 0.8509 - val_loss: 0.8730 - learning_rate: 5.0000e-04\n",
      "Epoch 29/60\n",
      "\u001b[1m14250/14250\u001b[0m \u001b[32m━━━━━━━━━━━━━━━━━━━━\u001b[0m\u001b[37m\u001b[0m \u001b[1m175s\u001b[0m 12ms/step - accuracy: 0.7988 - loss: 1.0796 - val_accuracy: 0.8515 - val_loss: 0.8698 - learning_rate: 5.0000e-04\n",
      "Epoch 30/60\n",
      "\u001b[1m14250/14250\u001b[0m \u001b[32m━━━━━━━━━━━━━━━━━━━━\u001b[0m\u001b[37m\u001b[0m \u001b[1m175s\u001b[0m 12ms/step - accuracy: 0.7986 - loss: 1.0791 - val_accuracy: 0.8490 - val_loss: 0.8756 - learning_rate: 5.0000e-04\n",
      "Epoch 31/60\n",
      "\u001b[1m14250/14250\u001b[0m \u001b[32m━━━━━━━━━━━━━━━━━━━━\u001b[0m\u001b[37m\u001b[0m \u001b[1m175s\u001b[0m 12ms/step - accuracy: 0.7983 - loss: 1.0785 - val_accuracy: 0.8470 - val_loss: 0.8844 - learning_rate: 5.0000e-04\n",
      "Epoch 32/60\n",
      "\u001b[1m14250/14250\u001b[0m \u001b[32m━━━━━━━━━━━━━━━━━━━━\u001b[0m\u001b[37m\u001b[0m \u001b[1m177s\u001b[0m 12ms/step - accuracy: 0.7994 - loss: 1.0753 - val_accuracy: 0.8499 - val_loss: 0.8747 - learning_rate: 5.0000e-04\n",
      "Epoch 33/60\n",
      "\u001b[1m14250/14250\u001b[0m \u001b[32m━━━━━━━━━━━━━━━━━━━━\u001b[0m\u001b[37m\u001b[0m \u001b[1m176s\u001b[0m 12ms/step - accuracy: 0.8158 - loss: 0.9816 - val_accuracy: 0.8663 - val_loss: 0.7466 - learning_rate: 2.5000e-04\n",
      "Epoch 34/60\n",
      "\u001b[1m14250/14250\u001b[0m \u001b[32m━━━━━━━━━━━━━━━━━━━━\u001b[0m\u001b[37m\u001b[0m \u001b[1m175s\u001b[0m 12ms/step - accuracy: 0.8250 - loss: 0.9151 - val_accuracy: 0.8698 - val_loss: 0.7261 - learning_rate: 2.5000e-04\n",
      "Epoch 35/60\n",
      "\u001b[1m14250/14250\u001b[0m \u001b[32m━━━━━━━━━━━━━━━━━━━━\u001b[0m\u001b[37m\u001b[0m \u001b[1m176s\u001b[0m 12ms/step - accuracy: 0.8256 - loss: 0.9034 - val_accuracy: 0.8698 - val_loss: 0.7249 - learning_rate: 2.5000e-04\n",
      "Epoch 36/60\n",
      "\u001b[1m14250/14250\u001b[0m \u001b[32m━━━━━━━━━━━━━━━━━━━━\u001b[0m\u001b[37m\u001b[0m \u001b[1m176s\u001b[0m 12ms/step - accuracy: 0.8266 - loss: 0.8987 - val_accuracy: 0.8720 - val_loss: 0.7171 - learning_rate: 2.5000e-04\n",
      "Epoch 37/60\n",
      "\u001b[1m14250/14250\u001b[0m \u001b[32m━━━━━━━━━━━━━━━━━━━━\u001b[0m\u001b[37m\u001b[0m \u001b[1m176s\u001b[0m 12ms/step - accuracy: 0.8271 - loss: 0.8942 - val_accuracy: 0.8708 - val_loss: 0.7221 - learning_rate: 2.5000e-04\n",
      "Epoch 38/60\n",
      "\u001b[1m14250/14250\u001b[0m \u001b[32m━━━━━━━━━━━━━━━━━━━━\u001b[0m\u001b[37m\u001b[0m \u001b[1m176s\u001b[0m 12ms/step - accuracy: 0.8282 - loss: 0.8913 - val_accuracy: 0.8700 - val_loss: 0.7206 - learning_rate: 2.5000e-04\n",
      "Epoch 39/60\n",
      "\u001b[1m14250/14250\u001b[0m \u001b[32m━━━━━━━━━━━━━━━━━━━━\u001b[0m\u001b[37m\u001b[0m \u001b[1m176s\u001b[0m 12ms/step - accuracy: 0.8284 - loss: 0.8876 - val_accuracy: 0.8700 - val_loss: 0.7118 - learning_rate: 2.5000e-04\n",
      "Epoch 40/60\n",
      "\u001b[1m14250/14250\u001b[0m \u001b[32m━━━━━━━━━━━━━━━━━━━━\u001b[0m\u001b[37m\u001b[0m \u001b[1m176s\u001b[0m 12ms/step - accuracy: 0.8284 - loss: 0.8837 - val_accuracy: 0.8734 - val_loss: 0.7048 - learning_rate: 2.5000e-04\n",
      "Epoch 41/60\n",
      "\u001b[1m14250/14250\u001b[0m \u001b[32m━━━━━━━━━━━━━━━━━━━━\u001b[0m\u001b[37m\u001b[0m \u001b[1m176s\u001b[0m 12ms/step - accuracy: 0.8288 - loss: 0.8851 - val_accuracy: 0.8736 - val_loss: 0.7040 - learning_rate: 2.5000e-04\n",
      "Epoch 42/60\n",
      "\u001b[1m14250/14250\u001b[0m \u001b[32m━━━━━━━━━━━━━━━━━━━━\u001b[0m\u001b[37m\u001b[0m \u001b[1m176s\u001b[0m 12ms/step - accuracy: 0.8304 - loss: 0.8781 - val_accuracy: 0.8743 - val_loss: 0.6978 - learning_rate: 2.5000e-04\n",
      "Epoch 43/60\n",
      "\u001b[1m14250/14250\u001b[0m \u001b[32m━━━━━━━━━━━━━━━━━━━━\u001b[0m\u001b[37m\u001b[0m \u001b[1m177s\u001b[0m 12ms/step - accuracy: 0.8295 - loss: 0.8795 - val_accuracy: 0.8731 - val_loss: 0.7048 - learning_rate: 2.5000e-04\n",
      "Epoch 44/60\n",
      "\u001b[1m14250/14250\u001b[0m \u001b[32m━━━━━━━━━━━━━━━━━━━━\u001b[0m\u001b[37m\u001b[0m \u001b[1m176s\u001b[0m 12ms/step - accuracy: 0.8305 - loss: 0.8770 - val_accuracy: 0.8733 - val_loss: 0.7030 - learning_rate: 2.5000e-04\n",
      "Epoch 45/60\n",
      "\u001b[1m14250/14250\u001b[0m \u001b[32m━━━━━━━━━━━━━━━━━━━━\u001b[0m\u001b[37m\u001b[0m \u001b[1m176s\u001b[0m 12ms/step - accuracy: 0.8286 - loss: 0.8783 - val_accuracy: 0.8740 - val_loss: 0.7031 - learning_rate: 2.5000e-04\n",
      "Epoch 46/60\n",
      "\u001b[1m14250/14250\u001b[0m \u001b[32m━━━━━━━━━━━━━━━━━━━━\u001b[0m\u001b[37m\u001b[0m \u001b[1m176s\u001b[0m 12ms/step - accuracy: 0.8414 - loss: 0.8243 - val_accuracy: 0.8828 - val_loss: 0.6423 - learning_rate: 1.2500e-04\n",
      "Epoch 47/60\n",
      "\u001b[1m14250/14250\u001b[0m \u001b[32m━━━━━━━━━━━━━━━━━━━━\u001b[0m\u001b[37m\u001b[0m \u001b[1m183s\u001b[0m 13ms/step - accuracy: 0.8452 - loss: 0.7914 - val_accuracy: 0.8851 - val_loss: 0.6251 - learning_rate: 1.2500e-04\n",
      "Epoch 48/60\n",
      "\u001b[1m14250/14250\u001b[0m \u001b[32m━━━━━━━━━━━━━━━━━━━━\u001b[0m\u001b[37m\u001b[0m \u001b[1m192s\u001b[0m 13ms/step - accuracy: 0.8483 - loss: 0.7782 - val_accuracy: 0.8848 - val_loss: 0.6270 - learning_rate: 1.2500e-04\n",
      "Epoch 49/60\n",
      "\u001b[1m14250/14250\u001b[0m \u001b[32m━━━━━━━━━━━━━━━━━━━━\u001b[0m\u001b[37m\u001b[0m \u001b[1m192s\u001b[0m 13ms/step - accuracy: 0.8478 - loss: 0.7746 - val_accuracy: 0.8841 - val_loss: 0.6218 - learning_rate: 1.2500e-04\n",
      "Epoch 50/60\n",
      "\u001b[1m14250/14250\u001b[0m \u001b[32m━━━━━━━━━━━━━━━━━━━━\u001b[0m\u001b[37m\u001b[0m \u001b[1m196s\u001b[0m 14ms/step - accuracy: 0.8487 - loss: 0.7676 - val_accuracy: 0.8867 - val_loss: 0.6136 - learning_rate: 1.2500e-04\n",
      "Epoch 51/60\n",
      "\u001b[1m14250/14250\u001b[0m \u001b[32m━━━━━━━━━━━━━━━━━━━━\u001b[0m\u001b[37m\u001b[0m \u001b[1m201s\u001b[0m 14ms/step - accuracy: 0.8488 - loss: 0.7665 - val_accuracy: 0.8870 - val_loss: 0.6133 - learning_rate: 1.2500e-04\n",
      "Epoch 52/60\n",
      "\u001b[1m14250/14250\u001b[0m \u001b[32m━━━━━━━━━━━━━━━━━━━━\u001b[0m\u001b[37m\u001b[0m \u001b[1m198s\u001b[0m 14ms/step - accuracy: 0.8501 - loss: 0.7631 - val_accuracy: 0.8854 - val_loss: 0.6164 - learning_rate: 1.2500e-04\n",
      "Epoch 53/60\n",
      "\u001b[1m14250/14250\u001b[0m \u001b[32m━━━━━━━━━━━━━━━━━━━━\u001b[0m\u001b[37m\u001b[0m \u001b[1m194s\u001b[0m 14ms/step - accuracy: 0.8489 - loss: 0.7634 - val_accuracy: 0.8872 - val_loss: 0.6114 - learning_rate: 1.2500e-04\n",
      "Epoch 54/60\n",
      "\u001b[1m14250/14250\u001b[0m \u001b[32m━━━━━━━━━━━━━━━━━━━━\u001b[0m\u001b[37m\u001b[0m \u001b[1m183s\u001b[0m 13ms/step - accuracy: 0.8494 - loss: 0.7619 - val_accuracy: 0.8859 - val_loss: 0.6117 - learning_rate: 1.2500e-04\n",
      "Epoch 55/60\n",
      "\u001b[1m14249/14250\u001b[0m \u001b[32m━━━━━━━━━━━━━━━━━━━\u001b[0m\u001b[37m━\u001b[0m \u001b[1m0s\u001b[0m 13ms/step - accuracy: 0.8492 - loss: 0.7581"
     ]
    }
   ],
   "source": [
    "model.fit(X_train, y_train, validation_data=(X_cv, y_cv), epochs=60, callbacks=callbacks)"
   ]
  },
  {
   "cell_type": "code",
   "execution_count": null,
   "id": "3cf84eca",
   "metadata": {},
   "outputs": [
    {
     "name": "stdout",
     "output_type": "stream",
     "text": [
      "\u001b[1m1782/1782\u001b[0m \u001b[32m━━━━━━━━━━━━━━━━━━━━\u001b[0m\u001b[37m\u001b[0m \u001b[1m4s\u001b[0m 2ms/step\n",
      "[ 0.23491237  0.06949262  0.23087056 -0.3209829   0.25277767  0.06923839\n",
      "  0.10394874 -0.04959957  0.20198688 -0.03559215 -0.19816582 -0.05125165\n",
      " -0.08544864  0.14654806 -0.08121859  0.15131322 -0.16571915  0.23785128\n",
      " -0.04661243]\n"
     ]
    }
   ],
   "source": [
    "# Predict logits (raw scores)\n",
    "logits = model.predict(X_cv)  # shape: (num_samples, num_classes)\n",
    "\n",
    "# Convert logits to probabilities using softmax\n",
    "y_cv_pred_probs = tf.nn.softmax(logits, axis=1).numpy()\n",
    "\n",
    "# Show probability distribution for sample 50\n",
    "print(\"Predicted probabilities for sample 50:\", y_cv_pred_probs[50])\n",
    "\n",
    "# Get predicted class index with the highest probability\n",
    "y_cv_pred = np.argmax(y_cv_pred_probs, axis=1)\n",
    "\n",
    "# Show predicted class index for sample 50\n",
    "print(\"Predicted class index for sample 50:\", y_cv_pred[50])\n",
    "\n",
    "# Get class label\n",
    "print(\"Predicted class label for sample 50:\", class_names[y_cv_pred[50]])\n"
   ]
  },
  {
   "cell_type": "code",
   "execution_count": null,
   "id": "dabe316b",
   "metadata": {},
   "outputs": [
    {
     "name": "stdout",
     "output_type": "stream",
     "text": [
      "0.865560606060606\n"
     ]
    }
   ],
   "source": [
    "print(accuracy_score(y_cv,y_cv_pred))"
   ]
  },
  {
   "cell_type": "code",
   "execution_count": null,
   "id": "47139c15",
   "metadata": {},
   "outputs": [
    {
     "name": "stdout",
     "output_type": "stream",
     "text": [
      "\u001b[1m2063/2063\u001b[0m \u001b[32m━━━━━━━━━━━━━━━━━━━━\u001b[0m\u001b[37m\u001b[0m \u001b[1m3s\u001b[0m 1ms/step\n",
      "0.8652878787878788\n"
     ]
    }
   ],
   "source": [
    "logits = model.predict(X_test)\n",
    "y_test_pred_probs = tf.nn.softmax(logits, axis=1).numpy() \n",
    "y_test_pred = np.argmax(y_test_pred_probs, axis=1)\n",
    "print(accuracy_score(y_test,y_test_pred))"
   ]
  },
  {
   "cell_type": "code",
   "execution_count": null,
   "id": "8ffe07cc",
   "metadata": {},
   "outputs": [],
   "source": [
    "model.save(\"doodle_model.keras\", save_format=\"keras\")"
   ]
  },
  {
   "cell_type": "code",
   "execution_count": null,
   "id": "877935fa",
   "metadata": {},
   "outputs": [
    {
     "data": {
      "text/plain": [
       "['data_scaler.pkl']"
      ]
     },
     "execution_count": 9,
     "metadata": {},
     "output_type": "execute_result"
    }
   ],
   "source": [
    "import joblib\n",
    "\n",
    "data_scaler = {\"scaler\" : scaler}\n",
    "\n",
    "joblib.dump(data_scaler, \"data_scaler.pkl\")"
   ]
  }
 ],
 "metadata": {
  "kernelspec": {
   "display_name": "ml_env",
   "language": "python",
   "name": "python3"
  },
  "language_info": {
   "codemirror_mode": {
    "name": "ipython",
    "version": 3
   },
   "file_extension": ".py",
   "mimetype": "text/x-python",
   "name": "python",
   "nbconvert_exporter": "python",
   "pygments_lexer": "ipython3",
   "version": "3.12.9"
  }
 },
 "nbformat": 4,
 "nbformat_minor": 5
}
