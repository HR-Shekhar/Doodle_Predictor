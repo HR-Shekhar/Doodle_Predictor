{
 "cells": [
  {
   "cell_type": "code",
   "execution_count": 78,
   "id": "3e4acb8c",
   "metadata": {},
   "outputs": [],
   "source": [
    "import numpy as np\n",
    "import os\n",
    "import tensorflow as tf\n",
    "from sklearn.preprocessing import StandardScaler\n",
    "from sklearn.metrics import accuracy_score\n",
    "from tensorflow.keras.models import Sequential\n",
    "from tensorflow.keras.layers import Dense, Dropout\n",
    "from sklearn.model_selection import train_test_split\n",
    "from tensorflow.keras import regularizers, Input\n",
    "from tensorflow.keras.callbacks import EarlyStopping, ReduceLROnPlateau"
   ]
  },
  {
   "cell_type": "code",
   "execution_count": 79,
   "id": "aa388e09",
   "metadata": {},
   "outputs": [],
   "source": [
    "data_dir = ('./data/')\n",
    "class_names = [\"apple\", \"bat\", \"cat\", \"circle\", \"clock\", \"cloud\",\n",
    "               \"crown\", \"diamond\", \"dog\", \"donut\", \"fish\",\n",
    "                \"hot_dog\", \"lightning\", \"mountain\", \"river\", \"skull\",\n",
    "                \"smiley_face\", \"square\", \"star\", \"sun\", \"t-shirt\", \"tree\"]"
   ]
  },
  {
   "cell_type": "code",
   "execution_count": 80,
   "id": "a8f4ddaa",
   "metadata": {},
   "outputs": [],
   "source": [
    "X = []\n",
    "y = []"
   ]
  },
  {
   "cell_type": "code",
   "execution_count": 81,
   "id": "a5a12996",
   "metadata": {},
   "outputs": [],
   "source": [
    "for label, class_name in enumerate(class_names):\n",
    "    # Create the path to the .npy file (e.g., './data/apple.npy')\n",
    "    file_path = os.path.join(data_dir, f\"{class_name}.npy\")\n",
    "\n",
    "    # Load the .npy file → shape: (2000, 28, 28)\n",
    "    data = np.load(file_path)\n",
    "\n",
    "    X.append(data)\n",
    "\n",
    "    # Add labels to y → [label, label, label, ..., label] (length = number of samples)\n",
    "    y.append(np.full((data.shape[0]), label))\n"
   ]
  },
  {
   "cell_type": "code",
   "execution_count": 82,
   "id": "591e25c3",
   "metadata": {},
   "outputs": [],
   "source": [
    "# Stack all image arrays vertically → final shape: (total_samples, 28, 28)\n",
    "X = np.vstack(X)\n",
    "\n",
    "# Stack all label arrays horizontally → final shape: (total_samples,)\n",
    "y = np.hstack(y)"
   ]
  },
  {
   "cell_type": "code",
   "execution_count": 83,
   "id": "cf073ff8",
   "metadata": {},
   "outputs": [],
   "source": [
    "X = StandardScaler().fit_transform(X)"
   ]
  },
  {
   "cell_type": "markdown",
   "id": "3a93e403",
   "metadata": {},
   "source": [
    "### Max Normalization"
   ]
  },
  {
   "cell_type": "code",
   "execution_count": 84,
   "id": "a8295fa5",
   "metadata": {},
   "outputs": [],
   "source": [
    "# # Normalize pixel values to range 0–1 (from 0–255)\n",
    "# X = X.astype('float32') / 255.0\n",
    "# X.shape"
   ]
  },
  {
   "cell_type": "code",
   "execution_count": 85,
   "id": "958befe6",
   "metadata": {},
   "outputs": [],
   "source": [
    "# Flatten each image from 28x28 → 784 for dense layers\n",
    "# X = X.reshape(X.shape[0], -1)  # shape becomes (total_samples, 784)"
   ]
  },
  {
   "cell_type": "code",
   "execution_count": 86,
   "id": "fabbc7aa",
   "metadata": {},
   "outputs": [],
   "source": [
    "X_train, X_, y_train, y_ = train_test_split(X,y, test_size=0.2, random_state=42, stratify=y)\n",
    "# `stratify=y` ensures equal class distribution in both training and validation sets.\n",
    "\n",
    "X_cv, X_test, y_cv, y_test = train_test_split(X_,y_, test_size=0.5, random_state=42, stratify=y_)"
   ]
  },
  {
   "cell_type": "code",
   "execution_count": 87,
   "id": "3e7f458d",
   "metadata": {},
   "outputs": [],
   "source": [
    "model = Sequential([\n",
    "    Input(shape=(784,), name=\"input_vector\"),\n",
    "    Dense(512, activation='relu', kernel_regularizer=regularizers.l2(0.001)),\n",
    "    Dropout(0.4),\n",
    "    Dense(256, activation='relu', kernel_regularizer=regularizers.l2(0.001)),\n",
    "    Dropout(0.3),\n",
    "    Dense(128, activation='relu', kernel_regularizer=regularizers.l2(0.001)),\n",
    "    Dropout(0.2),\n",
    "    Dense(len(class_names), activation='linear')\n",
    "])"
   ]
  },
  {
   "cell_type": "code",
   "execution_count": 88,
   "id": "574fe9e3",
   "metadata": {},
   "outputs": [],
   "source": [
    "model.compile(\n",
    "    loss=tf.keras.losses.SparseCategoricalCrossentropy(from_logits=True),\n",
    "    optimizer=tf.keras.optimizers.Adam(learning_rate=0.001),\n",
    "    metrics=['accuracy']\n",
    ")"
   ]
  },
  {
   "cell_type": "code",
   "execution_count": 89,
   "id": "2aa6f32b",
   "metadata": {},
   "outputs": [],
   "source": [
    "# Train\n",
    "callbacks = [\n",
    "    EarlyStopping(patience=5, restore_best_weights=True),\n",
    "    ReduceLROnPlateau(patience=3, factor=0.5)\n",
    "]"
   ]
  },
  {
   "cell_type": "code",
   "execution_count": 90,
   "id": "4b06072d",
   "metadata": {},
   "outputs": [
    {
     "name": "stdout",
     "output_type": "stream",
     "text": [
      "Epoch 1/50\n",
      "\u001b[1m16500/16500\u001b[0m \u001b[32m━━━━━━━━━━━━━━━━━━━━\u001b[0m\u001b[37m\u001b[0m \u001b[1m97s\u001b[0m 6ms/step - accuracy: 0.6532 - loss: 1.8109 - val_accuracy: 0.7698 - val_loss: 1.2714 - learning_rate: 0.0010\n",
      "Epoch 2/50\n",
      "\u001b[1m16500/16500\u001b[0m \u001b[32m━━━━━━━━━━━━━━━━━━━━\u001b[0m\u001b[37m\u001b[0m \u001b[1m93s\u001b[0m 6ms/step - accuracy: 0.7232 - loss: 1.4337 - val_accuracy: 0.7818 - val_loss: 1.2279 - learning_rate: 0.0010\n",
      "Epoch 3/50\n",
      "\u001b[1m16500/16500\u001b[0m \u001b[32m━━━━━━━━━━━━━━━━━━━━\u001b[0m\u001b[37m\u001b[0m \u001b[1m93s\u001b[0m 6ms/step - accuracy: 0.7303 - loss: 1.4074 - val_accuracy: 0.7861 - val_loss: 1.1972 - learning_rate: 0.0010\n",
      "Epoch 4/50\n",
      "\u001b[1m16500/16500\u001b[0m \u001b[32m━━━━━━━━━━━━━━━━━━━━\u001b[0m\u001b[37m\u001b[0m \u001b[1m95s\u001b[0m 6ms/step - accuracy: 0.7337 - loss: 1.3881 - val_accuracy: 0.7887 - val_loss: 1.1776 - learning_rate: 0.0010\n",
      "Epoch 5/50\n",
      "\u001b[1m16500/16500\u001b[0m \u001b[32m━━━━━━━━━━━━━━━━━━━━\u001b[0m\u001b[37m\u001b[0m \u001b[1m90s\u001b[0m 5ms/step - accuracy: 0.7355 - loss: 1.3753 - val_accuracy: 0.7871 - val_loss: 1.1821 - learning_rate: 0.0010\n",
      "Epoch 6/50\n",
      "\u001b[1m16500/16500\u001b[0m \u001b[32m━━━━━━━━━━━━━━━━━━━━\u001b[0m\u001b[37m\u001b[0m \u001b[1m90s\u001b[0m 5ms/step - accuracy: 0.7360 - loss: 1.3657 - val_accuracy: 0.7865 - val_loss: 1.1756 - learning_rate: 0.0010\n",
      "Epoch 7/50\n",
      "\u001b[1m16500/16500\u001b[0m \u001b[32m━━━━━━━━━━━━━━━━━━━━\u001b[0m\u001b[37m\u001b[0m \u001b[1m88s\u001b[0m 5ms/step - accuracy: 0.7369 - loss: 1.3601 - val_accuracy: 0.7882 - val_loss: 1.1713 - learning_rate: 0.0010\n",
      "Epoch 8/50\n",
      "\u001b[1m16500/16500\u001b[0m \u001b[32m━━━━━━━━━━━━━━━━━━━━\u001b[0m\u001b[37m\u001b[0m \u001b[1m88s\u001b[0m 5ms/step - accuracy: 0.7345 - loss: 1.3602 - val_accuracy: 0.7918 - val_loss: 1.1500 - learning_rate: 0.0010\n",
      "Epoch 9/50\n",
      "\u001b[1m16500/16500\u001b[0m \u001b[32m━━━━━━━━━━━━━━━━━━━━\u001b[0m\u001b[37m\u001b[0m \u001b[1m89s\u001b[0m 5ms/step - accuracy: 0.7362 - loss: 1.3552 - val_accuracy: 0.7848 - val_loss: 1.1681 - learning_rate: 0.0010\n",
      "Epoch 10/50\n",
      "\u001b[1m16500/16500\u001b[0m \u001b[32m━━━━━━━━━━━━━━━━━━━━\u001b[0m\u001b[37m\u001b[0m \u001b[1m96s\u001b[0m 6ms/step - accuracy: 0.7337 - loss: 1.3549 - val_accuracy: 0.7883 - val_loss: 1.1469 - learning_rate: 0.0010\n",
      "Epoch 11/50\n",
      "\u001b[1m16500/16500\u001b[0m \u001b[32m━━━━━━━━━━━━━━━━━━━━\u001b[0m\u001b[37m\u001b[0m \u001b[1m91s\u001b[0m 6ms/step - accuracy: 0.7362 - loss: 1.3461 - val_accuracy: 0.7914 - val_loss: 1.1417 - learning_rate: 0.0010\n",
      "Epoch 12/50\n",
      "\u001b[1m16500/16500\u001b[0m \u001b[32m━━━━━━━━━━━━━━━━━━━━\u001b[0m\u001b[37m\u001b[0m \u001b[1m91s\u001b[0m 6ms/step - accuracy: 0.7337 - loss: 1.3512 - val_accuracy: 0.7860 - val_loss: 1.1520 - learning_rate: 0.0010\n",
      "Epoch 13/50\n",
      "\u001b[1m16500/16500\u001b[0m \u001b[32m━━━━━━━━━━━━━━━━━━━━\u001b[0m\u001b[37m\u001b[0m \u001b[1m90s\u001b[0m 5ms/step - accuracy: 0.7341 - loss: 1.3468 - val_accuracy: 0.7912 - val_loss: 1.1392 - learning_rate: 0.0010\n",
      "Epoch 14/50\n",
      "\u001b[1m16500/16500\u001b[0m \u001b[32m━━━━━━━━━━━━━━━━━━━━\u001b[0m\u001b[37m\u001b[0m \u001b[1m90s\u001b[0m 5ms/step - accuracy: 0.7336 - loss: 1.3462 - val_accuracy: 0.7843 - val_loss: 1.1632 - learning_rate: 0.0010\n",
      "Epoch 15/50\n",
      "\u001b[1m16500/16500\u001b[0m \u001b[32m━━━━━━━━━━━━━━━━━━━━\u001b[0m\u001b[37m\u001b[0m \u001b[1m89s\u001b[0m 5ms/step - accuracy: 0.7349 - loss: 1.3413 - val_accuracy: 0.7911 - val_loss: 1.1302 - learning_rate: 0.0010\n",
      "Epoch 16/50\n",
      "\u001b[1m16500/16500\u001b[0m \u001b[32m━━━━━━━━━━━━━━━━━━━━\u001b[0m\u001b[37m\u001b[0m \u001b[1m88s\u001b[0m 5ms/step - accuracy: 0.7328 - loss: 1.3441 - val_accuracy: 0.7871 - val_loss: 1.1364 - learning_rate: 0.0010\n",
      "Epoch 17/50\n",
      "\u001b[1m16500/16500\u001b[0m \u001b[32m━━━━━━━━━━━━━━━━━━━━\u001b[0m\u001b[37m\u001b[0m \u001b[1m88s\u001b[0m 5ms/step - accuracy: 0.7337 - loss: 1.3376 - val_accuracy: 0.7881 - val_loss: 1.1429 - learning_rate: 0.0010\n",
      "Epoch 18/50\n",
      "\u001b[1m16500/16500\u001b[0m \u001b[32m━━━━━━━━━━━━━━━━━━━━\u001b[0m\u001b[37m\u001b[0m \u001b[1m89s\u001b[0m 5ms/step - accuracy: 0.7337 - loss: 1.3367 - val_accuracy: 0.7920 - val_loss: 1.1321 - learning_rate: 0.0010\n",
      "Epoch 19/50\n",
      "\u001b[1m16500/16500\u001b[0m \u001b[32m━━━━━━━━━━━━━━━━━━━━\u001b[0m\u001b[37m\u001b[0m \u001b[1m88s\u001b[0m 5ms/step - accuracy: 0.7624 - loss: 1.1581 - val_accuracy: 0.8196 - val_loss: 0.9055 - learning_rate: 5.0000e-04\n",
      "Epoch 20/50\n",
      "\u001b[1m16500/16500\u001b[0m \u001b[32m━━━━━━━━━━━━━━━━━━━━\u001b[0m\u001b[37m\u001b[0m \u001b[1m89s\u001b[0m 5ms/step - accuracy: 0.7707 - loss: 1.0832 - val_accuracy: 0.8201 - val_loss: 0.8948 - learning_rate: 5.0000e-04\n",
      "Epoch 21/50\n",
      "\u001b[1m16500/16500\u001b[0m \u001b[32m━━━━━━━━━━━━━━━━━━━━\u001b[0m\u001b[37m\u001b[0m \u001b[1m88s\u001b[0m 5ms/step - accuracy: 0.7739 - loss: 1.0683 - val_accuracy: 0.8226 - val_loss: 0.8858 - learning_rate: 5.0000e-04\n",
      "Epoch 22/50\n",
      "\u001b[1m16500/16500\u001b[0m \u001b[32m━━━━━━━━━━━━━━━━━━━━\u001b[0m\u001b[37m\u001b[0m \u001b[1m88s\u001b[0m 5ms/step - accuracy: 0.7746 - loss: 1.0642 - val_accuracy: 0.8219 - val_loss: 0.8877 - learning_rate: 5.0000e-04\n",
      "Epoch 23/50\n",
      "\u001b[1m16500/16500\u001b[0m \u001b[32m━━━━━━━━━━━━━━━━━━━━\u001b[0m\u001b[37m\u001b[0m \u001b[1m88s\u001b[0m 5ms/step - accuracy: 0.7729 - loss: 1.0638 - val_accuracy: 0.8225 - val_loss: 0.8869 - learning_rate: 5.0000e-04\n",
      "Epoch 24/50\n",
      "\u001b[1m16500/16500\u001b[0m \u001b[32m━━━━━━━━━━━━━━━━━━━━\u001b[0m\u001b[37m\u001b[0m \u001b[1m88s\u001b[0m 5ms/step - accuracy: 0.7737 - loss: 1.0641 - val_accuracy: 0.8262 - val_loss: 0.8712 - learning_rate: 5.0000e-04\n",
      "Epoch 25/50\n",
      "\u001b[1m16500/16500\u001b[0m \u001b[32m━━━━━━━━━━━━━━━━━━━━\u001b[0m\u001b[37m\u001b[0m \u001b[1m89s\u001b[0m 5ms/step - accuracy: 0.7740 - loss: 1.0579 - val_accuracy: 0.8242 - val_loss: 0.8808 - learning_rate: 5.0000e-04\n",
      "Epoch 26/50\n",
      "\u001b[1m16500/16500\u001b[0m \u001b[32m━━━━━━━━━━━━━━━━━━━━\u001b[0m\u001b[37m\u001b[0m \u001b[1m89s\u001b[0m 5ms/step - accuracy: 0.7767 - loss: 1.0541 - val_accuracy: 0.8224 - val_loss: 0.8818 - learning_rate: 5.0000e-04\n",
      "Epoch 27/50\n",
      "\u001b[1m16500/16500\u001b[0m \u001b[32m━━━━━━━━━━━━━━━━━━━━\u001b[0m\u001b[37m\u001b[0m \u001b[1m89s\u001b[0m 5ms/step - accuracy: 0.7766 - loss: 1.0560 - val_accuracy: 0.8281 - val_loss: 0.8676 - learning_rate: 5.0000e-04\n",
      "Epoch 28/50\n",
      "\u001b[1m16500/16500\u001b[0m \u001b[32m━━━━━━━━━━━━━━━━━━━━\u001b[0m\u001b[37m\u001b[0m \u001b[1m89s\u001b[0m 5ms/step - accuracy: 0.7753 - loss: 1.0552 - val_accuracy: 0.8270 - val_loss: 0.8732 - learning_rate: 5.0000e-04\n",
      "Epoch 29/50\n",
      "\u001b[1m16500/16500\u001b[0m \u001b[32m━━━━━━━━━━━━━━━━━━━━\u001b[0m\u001b[37m\u001b[0m \u001b[1m89s\u001b[0m 5ms/step - accuracy: 0.7752 - loss: 1.0557 - val_accuracy: 0.8276 - val_loss: 0.8728 - learning_rate: 5.0000e-04\n",
      "Epoch 30/50\n",
      "\u001b[1m16500/16500\u001b[0m \u001b[32m━━━━━━━━━━━━━━━━━━━━\u001b[0m\u001b[37m\u001b[0m \u001b[1m89s\u001b[0m 5ms/step - accuracy: 0.7750 - loss: 1.0582 - val_accuracy: 0.8281 - val_loss: 0.8678 - learning_rate: 5.0000e-04\n",
      "Epoch 31/50\n",
      "\u001b[1m16500/16500\u001b[0m \u001b[32m━━━━━━━━━━━━━━━━━━━━\u001b[0m\u001b[37m\u001b[0m \u001b[1m90s\u001b[0m 5ms/step - accuracy: 0.7950 - loss: 0.9562 - val_accuracy: 0.8438 - val_loss: 0.7469 - learning_rate: 2.5000e-04\n",
      "Epoch 32/50\n",
      "\u001b[1m16500/16500\u001b[0m \u001b[32m━━━━━━━━━━━━━━━━━━━━\u001b[0m\u001b[37m\u001b[0m \u001b[1m89s\u001b[0m 5ms/step - accuracy: 0.8026 - loss: 0.8955 - val_accuracy: 0.8494 - val_loss: 0.7267 - learning_rate: 2.5000e-04\n",
      "Epoch 33/50\n",
      "\u001b[1m16500/16500\u001b[0m \u001b[32m━━━━━━━━━━━━━━━━━━━━\u001b[0m\u001b[37m\u001b[0m \u001b[1m89s\u001b[0m 5ms/step - accuracy: 0.8039 - loss: 0.8874 - val_accuracy: 0.8495 - val_loss: 0.7208 - learning_rate: 2.5000e-04\n",
      "Epoch 34/50\n",
      "\u001b[1m16500/16500\u001b[0m \u001b[32m━━━━━━━━━━━━━━━━━━━━\u001b[0m\u001b[37m\u001b[0m \u001b[1m89s\u001b[0m 5ms/step - accuracy: 0.8059 - loss: 0.8773 - val_accuracy: 0.8505 - val_loss: 0.7176 - learning_rate: 2.5000e-04\n",
      "Epoch 35/50\n",
      "\u001b[1m16500/16500\u001b[0m \u001b[32m━━━━━━━━━━━━━━━━━━━━\u001b[0m\u001b[37m\u001b[0m \u001b[1m89s\u001b[0m 5ms/step - accuracy: 0.8062 - loss: 0.8734 - val_accuracy: 0.8510 - val_loss: 0.7138 - learning_rate: 2.5000e-04\n",
      "Epoch 36/50\n",
      "\u001b[1m16500/16500\u001b[0m \u001b[32m━━━━━━━━━━━━━━━━━━━━\u001b[0m\u001b[37m\u001b[0m \u001b[1m89s\u001b[0m 5ms/step - accuracy: 0.8070 - loss: 0.8740 - val_accuracy: 0.8516 - val_loss: 0.7079 - learning_rate: 2.5000e-04\n",
      "Epoch 37/50\n",
      "\u001b[1m16500/16500\u001b[0m \u001b[32m━━━━━━━━━━━━━━━━━━━━\u001b[0m\u001b[37m\u001b[0m \u001b[1m89s\u001b[0m 5ms/step - accuracy: 0.8066 - loss: 0.8701 - val_accuracy: 0.8515 - val_loss: 0.7124 - learning_rate: 2.5000e-04\n",
      "Epoch 38/50\n",
      "\u001b[1m16500/16500\u001b[0m \u001b[32m━━━━━━━━━━━━━━━━━━━━\u001b[0m\u001b[37m\u001b[0m \u001b[1m90s\u001b[0m 5ms/step - accuracy: 0.8068 - loss: 0.8697 - val_accuracy: 0.8511 - val_loss: 0.7118 - learning_rate: 2.5000e-04\n",
      "Epoch 39/50\n",
      "\u001b[1m16500/16500\u001b[0m \u001b[32m━━━━━━━━━━━━━━━━━━━━\u001b[0m\u001b[37m\u001b[0m \u001b[1m89s\u001b[0m 5ms/step - accuracy: 0.8059 - loss: 0.8713 - val_accuracy: 0.8496 - val_loss: 0.7111 - learning_rate: 2.5000e-04\n",
      "Epoch 40/50\n",
      "\u001b[1m16500/16500\u001b[0m \u001b[32m━━━━━━━━━━━━━━━━━━━━\u001b[0m\u001b[37m\u001b[0m \u001b[1m89s\u001b[0m 5ms/step - accuracy: 0.8185 - loss: 0.8151 - val_accuracy: 0.8637 - val_loss: 0.6443 - learning_rate: 1.2500e-04\n",
      "Epoch 41/50\n",
      "\u001b[1m16500/16500\u001b[0m \u001b[32m━━━━━━━━━━━━━━━━━━━━\u001b[0m\u001b[37m\u001b[0m \u001b[1m89s\u001b[0m 5ms/step - accuracy: 0.8241 - loss: 0.7816 - val_accuracy: 0.8631 - val_loss: 0.6370 - learning_rate: 1.2500e-04\n",
      "Epoch 42/50\n",
      "\u001b[1m16500/16500\u001b[0m \u001b[32m━━━━━━━━━━━━━━━━━━━━\u001b[0m\u001b[37m\u001b[0m \u001b[1m90s\u001b[0m 5ms/step - accuracy: 0.8251 - loss: 0.7708 - val_accuracy: 0.8634 - val_loss: 0.6303 - learning_rate: 1.2500e-04\n",
      "Epoch 43/50\n",
      "\u001b[1m16500/16500\u001b[0m \u001b[32m━━━━━━━━━━━━━━━━━━━━\u001b[0m\u001b[37m\u001b[0m \u001b[1m89s\u001b[0m 5ms/step - accuracy: 0.8248 - loss: 0.7691 - val_accuracy: 0.8642 - val_loss: 0.6253 - learning_rate: 1.2500e-04\n",
      "Epoch 44/50\n",
      "\u001b[1m16500/16500\u001b[0m \u001b[32m━━━━━━━━━━━━━━━━━━━━\u001b[0m\u001b[37m\u001b[0m \u001b[1m89s\u001b[0m 5ms/step - accuracy: 0.8254 - loss: 0.7653 - val_accuracy: 0.8640 - val_loss: 0.6265 - learning_rate: 1.2500e-04\n",
      "Epoch 45/50\n",
      "\u001b[1m16500/16500\u001b[0m \u001b[32m━━━━━━━━━━━━━━━━━━━━\u001b[0m\u001b[37m\u001b[0m \u001b[1m90s\u001b[0m 5ms/step - accuracy: 0.8263 - loss: 0.7621 - val_accuracy: 0.8643 - val_loss: 0.6238 - learning_rate: 1.2500e-04\n",
      "Epoch 46/50\n",
      "\u001b[1m16500/16500\u001b[0m \u001b[32m━━━━━━━━━━━━━━━━━━━━\u001b[0m\u001b[37m\u001b[0m \u001b[1m90s\u001b[0m 5ms/step - accuracy: 0.8259 - loss: 0.7602 - val_accuracy: 0.8646 - val_loss: 0.6200 - learning_rate: 1.2500e-04\n",
      "Epoch 47/50\n",
      "\u001b[1m16500/16500\u001b[0m \u001b[32m━━━━━━━━━━━━━━━━━━━━\u001b[0m\u001b[37m\u001b[0m \u001b[1m91s\u001b[0m 5ms/step - accuracy: 0.8256 - loss: 0.7593 - val_accuracy: 0.8652 - val_loss: 0.6188 - learning_rate: 1.2500e-04\n",
      "Epoch 48/50\n",
      "\u001b[1m16500/16500\u001b[0m \u001b[32m━━━━━━━━━━━━━━━━━━━━\u001b[0m\u001b[37m\u001b[0m \u001b[1m90s\u001b[0m 5ms/step - accuracy: 0.8269 - loss: 0.7559 - val_accuracy: 0.8666 - val_loss: 0.6133 - learning_rate: 1.2500e-04\n",
      "Epoch 49/50\n",
      "\u001b[1m16500/16500\u001b[0m \u001b[32m━━━━━━━━━━━━━━━━━━━━\u001b[0m\u001b[37m\u001b[0m \u001b[1m90s\u001b[0m 5ms/step - accuracy: 0.8267 - loss: 0.7529 - val_accuracy: 0.8661 - val_loss: 0.6136 - learning_rate: 1.2500e-04\n",
      "Epoch 50/50\n",
      "\u001b[1m16500/16500\u001b[0m \u001b[32m━━━━━━━━━━━━━━━━━━━━\u001b[0m\u001b[37m\u001b[0m \u001b[1m89s\u001b[0m 5ms/step - accuracy: 0.8273 - loss: 0.7532 - val_accuracy: 0.8656 - val_loss: 0.6125 - learning_rate: 1.2500e-04\n"
     ]
    },
    {
     "data": {
      "text/plain": [
       "<keras.src.callbacks.history.History at 0x246a9edbdd0>"
      ]
     },
     "execution_count": 90,
     "metadata": {},
     "output_type": "execute_result"
    }
   ],
   "source": [
    "model.fit(X_train, y_train, validation_data=(X_cv, y_cv), epochs=50, callbacks=callbacks)"
   ]
  },
  {
   "cell_type": "code",
   "execution_count": 91,
   "id": "3cf84eca",
   "metadata": {},
   "outputs": [
    {
     "name": "stdout",
     "output_type": "stream",
     "text": [
      "\u001b[1m2063/2063\u001b[0m \u001b[32m━━━━━━━━━━━━━━━━━━━━\u001b[0m\u001b[37m\u001b[0m \u001b[1m3s\u001b[0m 2ms/step\n"
     ]
    }
   ],
   "source": [
    "y_cv_pred_probs = model.predict(X_cv)   #predict probability for each label\n",
    "y_cv_pred = np.argmax(y_cv_pred_probs, axis=1)  # selects the label with maximum probability"
   ]
  },
  {
   "cell_type": "code",
   "execution_count": 92,
   "id": "dabe316b",
   "metadata": {},
   "outputs": [
    {
     "name": "stdout",
     "output_type": "stream",
     "text": [
      "0.865560606060606\n"
     ]
    }
   ],
   "source": [
    "print(accuracy_score(y_cv,y_cv_pred))"
   ]
  },
  {
   "cell_type": "code",
   "execution_count": 93,
   "id": "47139c15",
   "metadata": {},
   "outputs": [
    {
     "name": "stdout",
     "output_type": "stream",
     "text": [
      "\u001b[1m2063/2063\u001b[0m \u001b[32m━━━━━━━━━━━━━━━━━━━━\u001b[0m\u001b[37m\u001b[0m \u001b[1m3s\u001b[0m 1ms/step\n",
      "0.8652878787878788\n"
     ]
    }
   ],
   "source": [
    "y_test_pred_probs = model.predict(X_test) \n",
    "y_test_pred = np.argmax(y_test_pred_probs, axis=1)\n",
    "print(accuracy_score(y_test,y_test_pred))"
   ]
  },
  {
   "cell_type": "code",
   "execution_count": 94,
   "id": "8ffe07cc",
   "metadata": {},
   "outputs": [],
   "source": [
    "model.save(\"doodle_model.keras\")"
   ]
  },
  {
   "cell_type": "code",
   "execution_count": null,
   "id": "877935fa",
   "metadata": {},
   "outputs": [],
   "source": []
  }
 ],
 "metadata": {
  "kernelspec": {
   "display_name": "ml_env",
   "language": "python",
   "name": "python3"
  },
  "language_info": {
   "codemirror_mode": {
    "name": "ipython",
    "version": 3
   },
   "file_extension": ".py",
   "mimetype": "text/x-python",
   "name": "python",
   "nbconvert_exporter": "python",
   "pygments_lexer": "ipython3",
   "version": "3.12.9"
  }
 },
 "nbformat": 4,
 "nbformat_minor": 5
}
