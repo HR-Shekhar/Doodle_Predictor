{
 "cells": [
  {
   "cell_type": "code",
   "execution_count": 76,
   "id": "3e4acb8c",
   "metadata": {},
   "outputs": [],
   "source": [
    "import numpy as np\n",
    "import os\n",
    "import tensorflow as tf\n",
    "from sklearn.preprocessing import StandardScaler\n",
    "from sklearn.metrics import accuracy_score\n",
    "from tensorflow.keras.models import Sequential\n",
    "from tensorflow.keras.layers import Dense, Dropout\n",
    "from sklearn.model_selection import train_test_split\n",
    "from tensorflow.keras import regularizers, Input\n",
    "from tensorflow.keras.callbacks import EarlyStopping, ReduceLROnPlateau"
   ]
  },
  {
   "cell_type": "code",
   "execution_count": 77,
   "id": "aa388e09",
   "metadata": {},
   "outputs": [
    {
     "data": {
      "text/plain": [
       "19"
      ]
     },
     "execution_count": 77,
     "metadata": {},
     "output_type": "execute_result"
    }
   ],
   "source": [
    "data_dir = ('./data/')\n",
    "class_names = [\"apple\", \"bat\", \"circle\", \"clock\", \"cloud\",\n",
    "               \"crown\", \"diamond\", \"donut\", \"fish\",\n",
    "                \"hot_dog\", \"lightning\", \"mountain\", \"skull\",\n",
    "                \"smiley_face\", \"square\", \"star\", \"sun\", \"t-shirt\", \"tree\"]\n",
    "\n",
    "len(class_names)"
   ]
  },
  {
   "cell_type": "code",
   "execution_count": 78,
   "id": "a8f4ddaa",
   "metadata": {},
   "outputs": [],
   "source": [
    "X = []\n",
    "y = []"
   ]
  },
  {
   "cell_type": "code",
   "execution_count": 79,
   "id": "a5a12996",
   "metadata": {},
   "outputs": [],
   "source": [
    "for label, class_name in enumerate(class_names):\n",
    "    # Create the path to the .npy file (e.g., './data/apple.npy')\n",
    "    file_path = os.path.join(data_dir, f\"{class_name}.npy\")\n",
    "\n",
    "    # Load the .npy file → shape: (2000, 28, 28)\n",
    "    data = np.load(file_path)\n",
    "\n",
    "    X.append(data)\n",
    "\n",
    "    # Add labels to y → [label, label, label, ..., label] (length = number of samples)\n",
    "    y.append(np.full((data.shape[0]), label))\n"
   ]
  },
  {
   "cell_type": "code",
   "execution_count": 80,
   "id": "591e25c3",
   "metadata": {},
   "outputs": [],
   "source": [
    "# Stack all image arrays vertically → final shape: (total_samples, 28, 28)\n",
    "X = np.vstack(X)\n",
    "\n",
    "# Stack all label arrays horizontally → final shape: (total_samples,)\n",
    "y = np.hstack(y)"
   ]
  },
  {
   "cell_type": "code",
   "execution_count": 81,
   "id": "cf073ff8",
   "metadata": {},
   "outputs": [],
   "source": [
    "scaler = StandardScaler()\n",
    "X = scaler.fit_transform(X)"
   ]
  },
  {
   "cell_type": "markdown",
   "id": "3a93e403",
   "metadata": {},
   "source": [
    "### Max Normalization"
   ]
  },
  {
   "cell_type": "code",
   "execution_count": 82,
   "id": "a8295fa5",
   "metadata": {},
   "outputs": [],
   "source": [
    "# # Normalize pixel values to range 0–1 (from 0–255)\n",
    "# X = X.astype('float32') / 255.0\n",
    "# X.shape"
   ]
  },
  {
   "cell_type": "code",
   "execution_count": 83,
   "id": "958befe6",
   "metadata": {},
   "outputs": [],
   "source": [
    "# Flatten each image from 28x28 → 784 for dense layers\n",
    "# X = X.reshape(X.shape[0], -1)  # shape becomes (total_samples, 784)"
   ]
  },
  {
   "cell_type": "code",
   "execution_count": 84,
   "id": "fabbc7aa",
   "metadata": {},
   "outputs": [],
   "source": [
    "X_train, X_, y_train, y_ = train_test_split(X,y, test_size=0.2, random_state=42, stratify=y)\n",
    "# `stratify=y` ensures equal class distribution in both training and validation sets.\n",
    "\n",
    "X_cv, X_test, y_cv, y_test = train_test_split(X_,y_, test_size=0.5, random_state=42, stratify=y_)"
   ]
  },
  {
   "cell_type": "code",
   "execution_count": 85,
   "id": "3e7f458d",
   "metadata": {},
   "outputs": [
    {
     "name": "stderr",
     "output_type": "stream",
     "text": [
      "c:\\Users\\mehim\\anaconda3\\envs\\ml_env\\Lib\\site-packages\\keras\\src\\layers\\core\\dense.py:87: UserWarning: Do not pass an `input_shape`/`input_dim` argument to a layer. When using Sequential models, prefer using an `Input(shape)` object as the first layer in the model instead.\n",
      "  super().__init__(activity_regularizer=activity_regularizer, **kwargs)\n"
     ]
    }
   ],
   "source": [
    "model = Sequential([\n",
    "    Dense(784, activation='relu', kernel_regularizer=regularizers.l2(0.001), input_shape=(784,)),\n",
    "    Dropout(0.4),\n",
    "    Dense(512, activation='relu', kernel_regularizer=regularizers.l2(0.001)),\n",
    "    Dropout(0.35),\n",
    "    Dense(512, activation='relu', kernel_regularizer=regularizers.l2(0.001)),\n",
    "    Dropout(0.3),\n",
    "    Dense(256, activation='relu', kernel_regularizer=regularizers.l2(0.001)),\n",
    "    Dropout(0.25),\n",
    "    Dense(128, activation='relu', kernel_regularizer=regularizers.l2(0.001)),\n",
    "    Dropout(0.2),\n",
    "    Dense(64, activation='relu', kernel_regularizer=regularizers.l2(0.001)),\n",
    "    Dropout(0.15),\n",
    "    Dense(32, activation='relu', kernel_regularizer=regularizers.l2(0.001)),\n",
    "    Dropout(0.1),\n",
    "    Dense(19, activation='linear')\n",
    "])"
   ]
  },
  {
   "cell_type": "code",
   "execution_count": 86,
   "id": "574fe9e3",
   "metadata": {},
   "outputs": [],
   "source": [
    "model.compile(\n",
    "    loss=tf.keras.losses.SparseCategoricalCrossentropy(from_logits=True),\n",
    "    optimizer=tf.keras.optimizers.Adam(learning_rate=0.001),\n",
    "    metrics=['accuracy']\n",
    ")"
   ]
  },
  {
   "cell_type": "code",
   "execution_count": 87,
   "id": "2aa6f32b",
   "metadata": {},
   "outputs": [],
   "source": [
    "# Train\n",
    "callbacks = [\n",
    "    EarlyStopping(patience=5, restore_best_weights=True),\n",
    "    ReduceLROnPlateau(patience=3, factor=0.5)\n",
    "]"
   ]
  },
  {
   "cell_type": "code",
   "execution_count": null,
   "id": "4b06072d",
   "metadata": {},
   "outputs": [
    {
     "name": "stdout",
     "output_type": "stream",
     "text": [
      "Epoch 1/100\n",
      "\u001b[1m22800/22800\u001b[0m \u001b[32m━━━━━━━━━━━━━━━━━━━━\u001b[0m\u001b[37m\u001b[0m \u001b[1m306s\u001b[0m 13ms/step - accuracy: 0.6029 - loss: 2.2552 - val_accuracy: 0.7704 - val_loss: 1.5152 - learning_rate: 0.0010\n",
      "Epoch 2/100\n",
      "\u001b[1m22800/22800\u001b[0m \u001b[32m━━━━━━━━━━━━━━━━━━━━\u001b[0m\u001b[37m\u001b[0m \u001b[1m313s\u001b[0m 14ms/step - accuracy: 0.7197 - loss: 1.7094 - val_accuracy: 0.7811 - val_loss: 1.4437 - learning_rate: 0.0010\n",
      "Epoch 3/100\n",
      "\u001b[1m22800/22800\u001b[0m \u001b[32m━━━━━━━━━━━━━━━━━━━━\u001b[0m\u001b[37m\u001b[0m \u001b[1m276s\u001b[0m 12ms/step - accuracy: 0.7282 - loss: 1.6427 - val_accuracy: 0.7881 - val_loss: 1.3788 - learning_rate: 0.0010\n",
      "Epoch 4/100\n",
      "\u001b[1m22800/22800\u001b[0m \u001b[32m━━━━━━━━━━━━━━━━━━━━\u001b[0m\u001b[37m\u001b[0m \u001b[1m279s\u001b[0m 12ms/step - accuracy: 0.7290 - loss: 1.6247 - val_accuracy: 0.7929 - val_loss: 1.3607 - learning_rate: 0.0010\n",
      "Epoch 5/100\n",
      "\u001b[1m22800/22800\u001b[0m \u001b[32m━━━━━━━━━━━━━━━━━━━━\u001b[0m\u001b[37m\u001b[0m \u001b[1m281s\u001b[0m 12ms/step - accuracy: 0.7314 - loss: 1.6060 - val_accuracy: 0.7934 - val_loss: 1.3352 - learning_rate: 0.0010\n",
      "Epoch 6/100\n",
      "\u001b[1m22800/22800\u001b[0m \u001b[32m━━━━━━━━━━━━━━━━━━━━\u001b[0m\u001b[37m\u001b[0m \u001b[1m280s\u001b[0m 12ms/step - accuracy: 0.7315 - loss: 1.5870 - val_accuracy: 0.7926 - val_loss: 1.3546 - learning_rate: 0.0010\n",
      "Epoch 7/100\n",
      "\u001b[1m22800/22800\u001b[0m \u001b[32m━━━━━━━━━━━━━━━━━━━━\u001b[0m\u001b[37m\u001b[0m \u001b[1m280s\u001b[0m 12ms/step - accuracy: 0.7313 - loss: 1.5778 - val_accuracy: 0.7944 - val_loss: 1.3222 - learning_rate: 0.0010\n",
      "Epoch 8/100\n",
      "\u001b[1m22800/22800\u001b[0m \u001b[32m━━━━━━━━━━━━━━━━━━━━\u001b[0m\u001b[37m\u001b[0m \u001b[1m281s\u001b[0m 12ms/step - accuracy: 0.7320 - loss: 1.5667 - val_accuracy: 0.7926 - val_loss: 1.3184 - learning_rate: 0.0010\n",
      "Epoch 9/100\n",
      "\u001b[1m22800/22800\u001b[0m \u001b[32m━━━━━━━━━━━━━━━━━━━━\u001b[0m\u001b[37m\u001b[0m \u001b[1m282s\u001b[0m 12ms/step - accuracy: 0.7314 - loss: 1.5652 - val_accuracy: 0.7933 - val_loss: 1.3132 - learning_rate: 0.0010\n",
      "Epoch 10/100\n",
      "\u001b[1m22800/22800\u001b[0m \u001b[32m━━━━━━━━━━━━━━━━━━━━\u001b[0m\u001b[37m\u001b[0m \u001b[1m282s\u001b[0m 12ms/step - accuracy: 0.7315 - loss: 1.5570 - val_accuracy: 0.7925 - val_loss: 1.2981 - learning_rate: 0.0010\n",
      "Epoch 11/100\n",
      "\u001b[1m22800/22800\u001b[0m \u001b[32m━━━━━━━━━━━━━━━━━━━━\u001b[0m\u001b[37m\u001b[0m \u001b[1m283s\u001b[0m 12ms/step - accuracy: 0.7306 - loss: 1.5566 - val_accuracy: 0.7949 - val_loss: 1.2960 - learning_rate: 0.0010\n",
      "Epoch 12/100\n",
      "\u001b[1m22800/22800\u001b[0m \u001b[32m━━━━━━━━━━━━━━━━━━━━\u001b[0m\u001b[37m\u001b[0m \u001b[1m283s\u001b[0m 12ms/step - accuracy: 0.7312 - loss: 1.5527 - val_accuracy: 0.7979 - val_loss: 1.2821 - learning_rate: 0.0010\n",
      "Epoch 13/100\n",
      "\u001b[1m22800/22800\u001b[0m \u001b[32m━━━━━━━━━━━━━━━━━━━━\u001b[0m\u001b[37m\u001b[0m \u001b[1m282s\u001b[0m 12ms/step - accuracy: 0.7291 - loss: 1.5533 - val_accuracy: 0.7898 - val_loss: 1.3196 - learning_rate: 0.0010\n",
      "Epoch 14/100\n",
      "\u001b[1m22800/22800\u001b[0m \u001b[32m━━━━━━━━━━━━━━━━━━━━\u001b[0m\u001b[37m\u001b[0m \u001b[1m282s\u001b[0m 12ms/step - accuracy: 0.7301 - loss: 1.5506 - val_accuracy: 0.7929 - val_loss: 1.3021 - learning_rate: 0.0010\n",
      "Epoch 15/100\n",
      "\u001b[1m22800/22800\u001b[0m \u001b[32m━━━━━━━━━━━━━━━━━━━━\u001b[0m\u001b[37m\u001b[0m \u001b[1m283s\u001b[0m 12ms/step - accuracy: 0.7292 - loss: 1.5498 - val_accuracy: 0.7868 - val_loss: 1.3035 - learning_rate: 0.0010\n",
      "Epoch 16/100\n",
      "\u001b[1m22800/22800\u001b[0m \u001b[32m━━━━━━━━━━━━━━━━━━━━\u001b[0m\u001b[37m\u001b[0m \u001b[1m283s\u001b[0m 12ms/step - accuracy: 0.7605 - loss: 1.3335 - val_accuracy: 0.8246 - val_loss: 1.0209 - learning_rate: 5.0000e-04\n",
      "Epoch 17/100\n",
      "\u001b[1m22800/22800\u001b[0m \u001b[32m━━━━━━━━━━━━━━━━━━━━\u001b[0m\u001b[37m\u001b[0m \u001b[1m283s\u001b[0m 12ms/step - accuracy: 0.7719 - loss: 1.2422 - val_accuracy: 0.8244 - val_loss: 1.0176 - learning_rate: 5.0000e-04\n",
      "Epoch 18/100\n",
      "\u001b[1m22800/22800\u001b[0m \u001b[32m━━━━━━━━━━━━━━━━━━━━\u001b[0m\u001b[37m\u001b[0m \u001b[1m284s\u001b[0m 12ms/step - accuracy: 0.7742 - loss: 1.2319 - val_accuracy: 0.8274 - val_loss: 1.0101 - learning_rate: 5.0000e-04\n",
      "Epoch 19/100\n",
      "\u001b[1m22800/22800\u001b[0m \u001b[32m━━━━━━━━━━━━━━━━━━━━\u001b[0m\u001b[37m\u001b[0m \u001b[1m283s\u001b[0m 12ms/step - accuracy: 0.7736 - loss: 1.2270 - val_accuracy: 0.8279 - val_loss: 0.9984 - learning_rate: 5.0000e-04\n",
      "Epoch 20/100\n",
      "\u001b[1m22800/22800\u001b[0m \u001b[32m━━━━━━━━━━━━━━━━━━━━\u001b[0m\u001b[37m\u001b[0m \u001b[1m284s\u001b[0m 12ms/step - accuracy: 0.7744 - loss: 1.2219 - val_accuracy: 0.8301 - val_loss: 0.9930 - learning_rate: 5.0000e-04\n",
      "Epoch 21/100\n",
      "\u001b[1m22800/22800\u001b[0m \u001b[32m━━━━━━━━━━━━━━━━━━━━\u001b[0m\u001b[37m\u001b[0m \u001b[1m284s\u001b[0m 12ms/step - accuracy: 0.7747 - loss: 1.2219 - val_accuracy: 0.8309 - val_loss: 0.9946 - learning_rate: 5.0000e-04\n",
      "Epoch 22/100\n",
      "\u001b[1m22800/22800\u001b[0m \u001b[32m━━━━━━━━━━━━━━━━━━━━\u001b[0m\u001b[37m\u001b[0m \u001b[1m283s\u001b[0m 12ms/step - accuracy: 0.7761 - loss: 1.2126 - val_accuracy: 0.8311 - val_loss: 0.9922 - learning_rate: 5.0000e-04\n",
      "Epoch 23/100\n",
      "\u001b[1m22800/22800\u001b[0m \u001b[32m━━━━━━━━━━━━━━━━━━━━\u001b[0m\u001b[37m\u001b[0m \u001b[1m282s\u001b[0m 12ms/step - accuracy: 0.7750 - loss: 1.2170 - val_accuracy: 0.8327 - val_loss: 0.9859 - learning_rate: 5.0000e-04\n",
      "Epoch 24/100\n",
      "\u001b[1m22800/22800\u001b[0m \u001b[32m━━━━━━━━━━━━━━━━━━━━\u001b[0m\u001b[37m\u001b[0m \u001b[1m283s\u001b[0m 12ms/step - accuracy: 0.7764 - loss: 1.2096 - val_accuracy: 0.8348 - val_loss: 0.9770 - learning_rate: 5.0000e-04\n",
      "Epoch 25/100\n",
      "\u001b[1m22800/22800\u001b[0m \u001b[32m━━━━━━━━━━━━━━━━━━━━\u001b[0m\u001b[37m\u001b[0m \u001b[1m282s\u001b[0m 12ms/step - accuracy: 0.7769 - loss: 1.2095 - val_accuracy: 0.8279 - val_loss: 1.0022 - learning_rate: 5.0000e-04\n",
      "Epoch 26/100\n",
      "\u001b[1m22800/22800\u001b[0m \u001b[32m━━━━━━━━━━━━━━━━━━━━\u001b[0m\u001b[37m\u001b[0m \u001b[1m283s\u001b[0m 12ms/step - accuracy: 0.7758 - loss: 1.2097 - val_accuracy: 0.8333 - val_loss: 0.9792 - learning_rate: 5.0000e-04\n",
      "Epoch 27/100\n",
      "\u001b[1m22800/22800\u001b[0m \u001b[32m━━━━━━━━━━━━━━━━━━━━\u001b[0m\u001b[37m\u001b[0m \u001b[1m296s\u001b[0m 13ms/step - accuracy: 0.7765 - loss: 1.2098 - val_accuracy: 0.8320 - val_loss: 0.9872 - learning_rate: 5.0000e-04\n",
      "Epoch 28/100\n",
      "\u001b[1m22800/22800\u001b[0m \u001b[32m━━━━━━━━━━━━━━━━━━━━\u001b[0m\u001b[37m\u001b[0m \u001b[1m301s\u001b[0m 13ms/step - accuracy: 0.7969 - loss: 1.0990 - val_accuracy: 0.8520 - val_loss: 0.8298 - learning_rate: 2.5000e-04\n",
      "Epoch 29/100\n",
      "\u001b[1m22800/22800\u001b[0m \u001b[32m━━━━━━━━━━━━━━━━━━━━\u001b[0m\u001b[37m\u001b[0m \u001b[1m316s\u001b[0m 14ms/step - accuracy: 0.8041 - loss: 1.0291 - val_accuracy: 0.8544 - val_loss: 0.8169 - learning_rate: 2.5000e-04\n",
      "Epoch 30/100\n",
      "\u001b[1m22800/22800\u001b[0m \u001b[32m━━━━━━━━━━━━━━━━━━━━\u001b[0m\u001b[37m\u001b[0m \u001b[1m301s\u001b[0m 13ms/step - accuracy: 0.8060 - loss: 1.0191 - val_accuracy: 0.8543 - val_loss: 0.8151 - learning_rate: 2.5000e-04\n",
      "Epoch 31/100\n",
      "\u001b[1m22800/22800\u001b[0m \u001b[32m━━━━━━━━━━━━━━━━━━━━\u001b[0m\u001b[37m\u001b[0m \u001b[1m299s\u001b[0m 13ms/step - accuracy: 0.8058 - loss: 1.0150 - val_accuracy: 0.8533 - val_loss: 0.8161 - learning_rate: 2.5000e-04\n",
      "Epoch 32/100\n",
      "\u001b[1m22800/22800\u001b[0m \u001b[32m━━━━━━━━━━━━━━━━━━━━\u001b[0m\u001b[37m\u001b[0m \u001b[1m303s\u001b[0m 13ms/step - accuracy: 0.8065 - loss: 1.0103 - val_accuracy: 0.8555 - val_loss: 0.8101 - learning_rate: 2.5000e-04\n",
      "Epoch 33/100\n",
      "\u001b[1m22800/22800\u001b[0m \u001b[32m━━━━━━━━━━━━━━━━━━━━\u001b[0m\u001b[37m\u001b[0m \u001b[1m307s\u001b[0m 13ms/step - accuracy: 0.8083 - loss: 1.0049 - val_accuracy: 0.8605 - val_loss: 0.7895 - learning_rate: 2.5000e-04\n",
      "Epoch 34/100\n",
      "\u001b[1m22800/22800\u001b[0m \u001b[32m━━━━━━━━━━━━━━━━━━━━\u001b[0m\u001b[37m\u001b[0m \u001b[1m317s\u001b[0m 14ms/step - accuracy: 0.8083 - loss: 1.0023 - val_accuracy: 0.8580 - val_loss: 0.7949 - learning_rate: 2.5000e-04\n",
      "Epoch 35/100\n",
      "\u001b[1m22800/22800\u001b[0m \u001b[32m━━━━━━━━━━━━━━━━━━━━\u001b[0m\u001b[37m\u001b[0m \u001b[1m323s\u001b[0m 14ms/step - accuracy: 0.8096 - loss: 0.9988 - val_accuracy: 0.8589 - val_loss: 0.7906 - learning_rate: 2.5000e-04\n",
      "Epoch 36/100\n",
      "\u001b[1m22800/22800\u001b[0m \u001b[32m━━━━━━━━━━━━━━━━━━━━\u001b[0m\u001b[37m\u001b[0m \u001b[1m326s\u001b[0m 14ms/step - accuracy: 0.8105 - loss: 0.9914 - val_accuracy: 0.8595 - val_loss: 0.7916 - learning_rate: 2.5000e-04\n",
      "Epoch 37/100\n",
      "\u001b[1m22800/22800\u001b[0m \u001b[32m━━━━━━━━━━━━━━━━━━━━\u001b[0m\u001b[37m\u001b[0m \u001b[1m318s\u001b[0m 14ms/step - accuracy: 0.8221 - loss: 0.9387 - val_accuracy: 0.8709 - val_loss: 0.7155 - learning_rate: 1.2500e-04\n",
      "Epoch 38/100\n",
      "\u001b[1m22800/22800\u001b[0m \u001b[32m━━━━━━━━━━━━━━━━━━━━\u001b[0m\u001b[37m\u001b[0m \u001b[1m329s\u001b[0m 14ms/step - accuracy: 0.8283 - loss: 0.8920 - val_accuracy: 0.8718 - val_loss: 0.7065 - learning_rate: 1.2500e-04\n",
      "Epoch 39/100\n",
      "\u001b[1m22800/22800\u001b[0m \u001b[32m━━━━━━━━━━━━━━━━━━━━\u001b[0m\u001b[37m\u001b[0m \u001b[1m321s\u001b[0m 14ms/step - accuracy: 0.8292 - loss: 0.8857 - val_accuracy: 0.8742 - val_loss: 0.6938 - learning_rate: 1.2500e-04\n",
      "Epoch 40/100\n",
      "\u001b[1m22800/22800\u001b[0m \u001b[32m━━━━━━━━━━━━━━━━━━━━\u001b[0m\u001b[37m\u001b[0m \u001b[1m318s\u001b[0m 14ms/step - accuracy: 0.8291 - loss: 0.8803 - val_accuracy: 0.8743 - val_loss: 0.6916 - learning_rate: 1.2500e-04\n",
      "Epoch 41/100\n",
      "\u001b[1m22800/22800\u001b[0m \u001b[32m━━━━━━━━━━━━━━━━━━━━\u001b[0m\u001b[37m\u001b[0m \u001b[1m308s\u001b[0m 14ms/step - accuracy: 0.8294 - loss: 0.8801 - val_accuracy: 0.8732 - val_loss: 0.6923 - learning_rate: 1.2500e-04\n",
      "Epoch 42/100\n",
      "\u001b[1m22800/22800\u001b[0m \u001b[32m━━━━━━━━━━━━━━━━━━━━\u001b[0m\u001b[37m\u001b[0m \u001b[1m306s\u001b[0m 13ms/step - accuracy: 0.8305 - loss: 0.8745 - val_accuracy: 0.8736 - val_loss: 0.6917 - learning_rate: 1.2500e-04\n",
      "Epoch 43/100\n",
      "\u001b[1m22800/22800\u001b[0m \u001b[32m━━━━━━━━━━━━━━━━━━━━\u001b[0m\u001b[37m\u001b[0m \u001b[1m308s\u001b[0m 13ms/step - accuracy: 0.8303 - loss: 0.8736 - val_accuracy: 0.8753 - val_loss: 0.6832 - learning_rate: 1.2500e-04\n",
      "Epoch 44/100\n",
      "\u001b[1m22800/22800\u001b[0m \u001b[32m━━━━━━━━━━━━━━━━━━━━\u001b[0m\u001b[37m\u001b[0m \u001b[1m314s\u001b[0m 14ms/step - accuracy: 0.8329 - loss: 0.8664 - val_accuracy: 0.8758 - val_loss: 0.6827 - learning_rate: 1.2500e-04\n",
      "Epoch 45/100\n",
      "\u001b[1m22800/22800\u001b[0m \u001b[32m━━━━━━━━━━━━━━━━━━━━\u001b[0m\u001b[37m\u001b[0m \u001b[1m313s\u001b[0m 14ms/step - accuracy: 0.8325 - loss: 0.8652 - val_accuracy: 0.8749 - val_loss: 0.6830 - learning_rate: 1.2500e-04\n",
      "Epoch 46/100\n",
      "\u001b[1m22800/22800\u001b[0m \u001b[32m━━━━━━━━━━━━━━━━━━━━\u001b[0m\u001b[37m\u001b[0m \u001b[1m316s\u001b[0m 14ms/step - accuracy: 0.8328 - loss: 0.8640 - val_accuracy: 0.8747 - val_loss: 0.6817 - learning_rate: 1.2500e-04\n",
      "Epoch 47/100\n",
      "\u001b[1m22800/22800\u001b[0m \u001b[32m━━━━━━━━━━━━━━━━━━━━\u001b[0m\u001b[37m\u001b[0m \u001b[1m308s\u001b[0m 13ms/step - accuracy: 0.8340 - loss: 0.8579 - val_accuracy: 0.8743 - val_loss: 0.6808 - learning_rate: 1.2500e-04\n",
      "Epoch 48/100\n",
      "\u001b[1m22800/22800\u001b[0m \u001b[32m━━━━━━━━━━━━━━━━━━━━\u001b[0m\u001b[37m\u001b[0m \u001b[1m329s\u001b[0m 14ms/step - accuracy: 0.8332 - loss: 0.8587 - val_accuracy: 0.8772 - val_loss: 0.6728 - learning_rate: 1.2500e-04\n",
      "Epoch 49/100\n",
      "\u001b[1m22800/22800\u001b[0m \u001b[32m━━━━━━━━━━━━━━━━━━━━\u001b[0m\u001b[37m\u001b[0m \u001b[1m409s\u001b[0m 18ms/step - accuracy: 0.8332 - loss: 0.8603 - val_accuracy: 0.8759 - val_loss: 0.6763 - learning_rate: 1.2500e-04\n",
      "Epoch 50/100\n",
      "\u001b[1m22800/22800\u001b[0m \u001b[32m━━━━━━━━━━━━━━━━━━━━\u001b[0m\u001b[37m\u001b[0m \u001b[1m398s\u001b[0m 17ms/step - accuracy: 0.8335 - loss: 0.8585 - val_accuracy: 0.8745 - val_loss: 0.6803 - learning_rate: 1.2500e-04\n",
      "Epoch 51/100\n",
      "\u001b[1m22800/22800\u001b[0m \u001b[32m━━━━━━━━━━━━━━━━━━━━\u001b[0m\u001b[37m\u001b[0m \u001b[1m395s\u001b[0m 17ms/step - accuracy: 0.8328 - loss: 0.8590 - val_accuracy: 0.8773 - val_loss: 0.6731 - learning_rate: 1.2500e-04\n",
      "Epoch 52/100\n",
      "\u001b[1m22800/22800\u001b[0m \u001b[32m━━━━━━━━━━━━━━━━━━━━\u001b[0m\u001b[37m\u001b[0m \u001b[1m395s\u001b[0m 17ms/step - accuracy: 0.8411 - loss: 0.8263 - val_accuracy: 0.8836 - val_loss: 0.6370 - learning_rate: 6.2500e-05\n",
      "Epoch 53/100\n",
      "\u001b[1m22800/22800\u001b[0m \u001b[32m━━━━━━━━━━━━━━━━━━━━\u001b[0m\u001b[37m\u001b[0m \u001b[1m392s\u001b[0m 17ms/step - accuracy: 0.8461 - loss: 0.8011 - val_accuracy: 0.8839 - val_loss: 0.6305 - learning_rate: 6.2500e-05\n",
      "Epoch 54/100\n",
      "\u001b[1m22800/22800\u001b[0m \u001b[32m━━━━━━━━━━━━━━━━━━━━\u001b[0m\u001b[37m\u001b[0m \u001b[1m399s\u001b[0m 17ms/step - accuracy: 0.8459 - loss: 0.7959 - val_accuracy: 0.8848 - val_loss: 0.6253 - learning_rate: 6.2500e-05\n",
      "Epoch 55/100\n",
      "\u001b[1m22796/22800\u001b[0m \u001b[32m━━━━━━━━━━━━━━━━━━━\u001b[0m\u001b[37m━\u001b[0m \u001b[1m0s\u001b[0m 13ms/step - accuracy: 0.8458 - loss: 0.7930"
     ]
    }
   ],
   "source": [
    "model.fit(X_train, y_train, validation_data=(X_cv, y_cv), epochs=100, batch_size=20, callbacks=callbacks)"
   ]
  },
  {
   "cell_type": "code",
   "execution_count": null,
   "id": "3cf84eca",
   "metadata": {},
   "outputs": [
    {
     "name": "stdout",
     "output_type": "stream",
     "text": [
      "\u001b[1m1782/1782\u001b[0m \u001b[32m━━━━━━━━━━━━━━━━━━━━\u001b[0m\u001b[37m\u001b[0m \u001b[1m4s\u001b[0m 2ms/step\n",
      "Predicted probabilities for sample 50: [8.4675412e-05 9.7491121e-01 5.4676784e-04 2.6343580e-05 3.5018532e-03\n",
      " 2.6689239e-03 1.8161867e-03 2.6996902e-04 6.8446142e-03 8.6357468e-04\n",
      " 9.7350118e-04 1.0842360e-03 3.4031604e-04 4.7382171e-04 2.6246271e-04\n",
      " 3.6538150e-03 2.8337256e-04 7.2878646e-04 6.6545419e-04]\n",
      "Predicted class index for sample 50: 1\n",
      "Predicted class label for sample 50: bat\n"
     ]
    }
   ],
   "source": [
    "# Predict logits (raw scores)\n",
    "logits = model.predict(X_cv)  # shape: (num_samples, num_classes)\n",
    "\n",
    "# Convert logits to probabilities using softmax\n",
    "y_cv_pred_probs = tf.nn.softmax(logits, axis=1).numpy()\n",
    "\n",
    "# Show probability distribution for sample 50\n",
    "print(\"Predicted probabilities for sample 50:\", y_cv_pred_probs[50])\n",
    "\n",
    "# Get predicted class index with the highest probability\n",
    "y_cv_pred = np.argmax(y_cv_pred_probs, axis=1)\n",
    "\n",
    "# Show predicted class index for sample 50\n",
    "print(\"Predicted class index for sample 50:\", y_cv_pred[50])\n",
    "\n",
    "# Get class label\n",
    "print(\"Predicted class label for sample 50:\", class_names[y_cv_pred[50]])\n",
    "print(\"Actual class:\", class_names[y_cv[50]])"
   ]
  },
  {
   "cell_type": "code",
   "execution_count": null,
   "id": "dabe316b",
   "metadata": {},
   "outputs": [
    {
     "name": "stdout",
     "output_type": "stream",
     "text": [
      "0.8882631578947369\n"
     ]
    }
   ],
   "source": [
    "print(accuracy_score(y_cv,y_cv_pred))"
   ]
  },
  {
   "cell_type": "code",
   "execution_count": null,
   "id": "47139c15",
   "metadata": {},
   "outputs": [
    {
     "name": "stdout",
     "output_type": "stream",
     "text": [
      "\u001b[1m1782/1782\u001b[0m \u001b[32m━━━━━━━━━━━━━━━━━━━━\u001b[0m\u001b[37m\u001b[0m \u001b[1m4s\u001b[0m 2ms/step\n",
      "0.8891754385964912\n"
     ]
    }
   ],
   "source": [
    "logits = model.predict(X_test)\n",
    "y_test_pred_probs = tf.nn.softmax(logits, axis=1).numpy() \n",
    "y_test_pred = np.argmax(y_test_pred_probs, axis=1)\n",
    "print(accuracy_score(y_test,y_test_pred))"
   ]
  },
  {
   "cell_type": "code",
   "execution_count": null,
   "id": "8ffe07cc",
   "metadata": {},
   "outputs": [
    {
     "name": "stderr",
     "output_type": "stream",
     "text": [
      "WARNING:absl:You are saving your model as an HDF5 file via `model.save()` or `keras.saving.save_model(model)`. This file format is considered legacy. We recommend using instead the native Keras format, e.g. `model.save('my_model.keras')` or `keras.saving.save_model(model, 'my_model.keras')`. \n"
     ]
    }
   ],
   "source": [
    "model.save(\"doodle_model.keras\")"
   ]
  },
  {
   "cell_type": "code",
   "execution_count": null,
   "id": "877935fa",
   "metadata": {},
   "outputs": [
    {
     "data": {
      "text/plain": [
       "['data_scaler.pkl']"
      ]
     },
     "execution_count": 46,
     "metadata": {},
     "output_type": "execute_result"
    }
   ],
   "source": [
    "import joblib\n",
    "\n",
    "data_scaler = {\"scaler\" : scaler}\n",
    "\n",
    "joblib.dump(data_scaler, \"data_scaler.pkl\")"
   ]
  }
 ],
 "metadata": {
  "kernelspec": {
   "display_name": "ml_env",
   "language": "python",
   "name": "python3"
  },
  "language_info": {
   "codemirror_mode": {
    "name": "ipython",
    "version": 3
   },
   "file_extension": ".py",
   "mimetype": "text/x-python",
   "name": "python",
   "nbconvert_exporter": "python",
   "pygments_lexer": "ipython3",
   "version": "3.12.9"
  }
 },
 "nbformat": 4,
 "nbformat_minor": 5
}
